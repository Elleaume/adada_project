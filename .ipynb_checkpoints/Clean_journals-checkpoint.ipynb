{
 "cells": [
  {
   "cell_type": "code",
   "execution_count": 230,
   "metadata": {},
   "outputs": [],
   "source": [
    "%matplotlib inline\n",
    "import pandas as pd\n",
    "import numpy as np\n",
    "import math\n",
    "import re\n",
    "from matplotlib.ticker import MaxNLocator\n",
    "from scipy import stats\n",
    "import matplotlib.pyplot as plt\n",
    "import requests\n",
    "from requests import get\n",
    "from bs4 import BeautifulSoup\n",
    "import bz2, shutil\n",
    "import sys\n",
    "import ast\n",
    "import pickle\n",
    "from pandas import DataFrame\n",
    "import datetime\n",
    "\n",
    "#for plotting\n",
    "import seaborn as sns\n",
    "sns.set(style=\"darkgrid\")\n",
    "from tqdm import tqdm\n",
    "from wordcloud import WordCloud, STOPWORDS\n",
    "import random\n",
    "import plotly.graph_objects as go\n",
    "import plotly.express as px\n",
    "from plotly.subplots import make_subplots\n",
    "import plotly\n",
    "from plotly.graph_objs import *\n",
    "from plotly.offline import download_plotlyjs, init_notebook_mode, plot, iplot\n",
    "\n",
    "#set a phrase matcher to be able to compare the terrorism related words\n",
    "#extracting the word count of the different articles\n",
    "from collections import Counter\n",
    "import nltk\n",
    "from nltk.corpus import stopwords\n",
    "stop = stopwords.words('english')\n",
    "import spacy\n",
    "import en_core_web_sm\n",
    "from empath import Empath\n",
    "lexicon = Empath()\n",
    "nlp = spacy.load('en_core_web_sm')\n",
    "\n",
    "#to be able to extract countries, locations and continents from text\n",
    "import pycountry\n",
    "from geotext import GeoText\n",
    "import pycountry_convert as pc"
   ]
  },
  {
   "cell_type": "markdown",
   "metadata": {},
   "source": [
    "# Loading and modifying articles taken from all the news database"
   ]
  },
  {
   "cell_type": "code",
   "execution_count": 231,
   "metadata": {},
   "outputs": [],
   "source": [
    "#loading dataset of all combined articles from all the news\n",
    "df = pd.read_pickle('../../projet/DF.pkl')\n",
    "\n",
    "#creating a new dataframe to not overwrite initial df\n",
    "df_articles= pd.DataFrame({\"title\": df['title'], 'dates': df['date'],'desc': df['content']})\n",
    "df_articles=df_articles.drop_duplicates(subset='title').reset_index(drop=True)\n",
    "df_articles=df_articles.dropna()"
   ]
  },
  {
   "cell_type": "code",
   "execution_count": null,
   "metadata": {},
   "outputs": [],
   "source": [
    "# function to get unique values \n",
    "def unique(list1): \n",
    "    x = np.array(list1) \n",
    "    #print(np.unique(x)) \n",
    "    return x;\n",
    "# function used for color definition\n",
    "def grey_color_func(word, font_size, position, orientation, random_state=None,\n",
    "                    **kwargs):\n",
    "    return \"hsl(50, 90%%, %d%%)\" % random.randint(30, 100)"
   ]
  },
  {
   "cell_type": "code",
   "execution_count": null,
   "metadata": {
    "scrolled": true
   },
   "outputs": [],
   "source": [
    "#DO NOT RUN THIS!! use the pickle reading below!!\n",
    "#extract the words with the GPE label which indicates a location\n",
    "for  i, row in df_articles.iterrows():\n",
    "    location_list=[]\n",
    "    doc=nlp(df_articles.loc[i]['desc'])\n",
    "    for ent in doc.ents:\n",
    "        if (ent.label_=='GPE'):\n",
    "            location_list.append(ent.text)\n",
    "    df_articles.loc[i]['locations']=unique(location_list)\n",
    "    \n",
    "    \n",
    "#modifying the names of certain entries so that pycountry will recognize them\n",
    "df_articles.locations=df_articles.locations.replace(regex={'Iran': 'Iran, Islamic Republic Of', 'South Korea': 'Korea, Republic Of','North Korea': \"Korea, Democratic People'S Republic Of\",\\\n",
    "                     'the United States': 'United States', 'US': 'United States','USA': 'United States', 'America': 'United States','United States of America': 'United States','Bosnia-Herzegovina':'Bosnia and Herzegovina','Kosovo':'Serbia','Serbia-Montenegro':'Serbia',\\\n",
    "                    'West Bank and Gaza Strip':'Palestine', 'Yugoslavia':'Bosnia and Herzegovina','Zaire':'Republic of the Congo', 'Vietnam': 'Viet Nam'})    \n",
    "df_articles.to_pickle(\"df_articles_location.pkl\")    "
   ]
  },
  {
   "cell_type": "code",
   "execution_count": 232,
   "metadata": {},
   "outputs": [],
   "source": [
    "#loading the dataframe of articles where locations have beed extracted and replaced\n",
    "df_articles = pd.read_pickle('../../data/df_articles_location.pkl')\n",
    "\n",
    "#creating a copy of articles into a subset\n",
    "df_sub=df_articles"
   ]
  },
  {
   "cell_type": "code",
   "execution_count": 17,
   "metadata": {},
   "outputs": [],
   "source": [
    "##DO NOT RUN THIS! Run the line below to define the dataframe from the pickle file\n",
    "#Selection of articles linked with Terrorism\n",
    "\n",
    "#we want to extract the article as soon as it seems that the catigory terrorism is present\n",
    "categories = [\"terrorism\"]\n",
    "#creation of a dataframe with the proper length, where the default terrorism score is 0. \n",
    "df_score=df_sub.reindex(columns = list(categories)).fillna(0)\n",
    "\n",
    "\n",
    "#going over all the articles, analyzing the content (located in \"desc\") and calculating a terrorism score. \n",
    "for i, row in df_sub.iterrows():\n",
    "    doc=nlp(df_sub.loc[i]['desc'])\n",
    "    terror_score=lexicon.analyze(doc.text, categories ,normalize=True)\n",
    "    df_score.loc[i]=terror_score\n",
    "    \n",
    "#joining the two sub sets in one dataframe\n",
    "df_sub=df_sub.join(df_score)\n",
    "\n",
    "#storing the articles which have a terrorism score supperior to 0. These will be further processed.\n",
    "df_terror_articles=df_sub[df_sub['terrorism']>0]\n",
    "\n",
    "#creating a pickle file as it takes a long time to extract this information from the dataset!\n",
    "df_terror_articles.to_pickle(\"df_terror_articles1.pkl\")"
   ]
  },
  {
   "cell_type": "code",
   "execution_count": 233,
   "metadata": {},
   "outputs": [],
   "source": [
    "df_terror_articles = pd.read_pickle('../../data/df_terror_articles.pkl')"
   ]
  },
  {
   "cell_type": "code",
   "execution_count": 234,
   "metadata": {},
   "outputs": [
    {
     "data": {
      "text/plain": [
       "Text(0.5, 1.0, 'determine the distribution of the \"terrorism\" score')"
      ]
     },
     "execution_count": 234,
     "metadata": {},
     "output_type": "execute_result"
    },
    {
     "data": {
      "image/png": "[encoded data removed]",
      "text/plain": [
       "<Figure size 432x288 with 1 Axes>"
      ]
     },
     "metadata": {},
     "output_type": "display_data"
    }
   ],
   "source": [
    "#observing the distribution of the terrorism score\n",
    "\n",
    "B=plt.boxplot(df_terror_articles.terrorism)\n",
    "plt.yscale('log')\n",
    "plt.title('determine the distribution of the \"terrorism\" score')\n"
   ]
  },
  {
   "cell_type": "markdown",
   "metadata": {},
   "source": [
    "observing that the general score is above 10^-3, this is where we have decided to make the cut for selcting the articles concerning terrorism. This threshold is just slightly below the lower quartile. "
   ]
  },
  {
   "cell_type": "code",
   "execution_count": 21,
   "metadata": {},
   "outputs": [],
   "source": [
    "##DO NOT RUN THIS! use the pickle file below!\n",
    "#terrorism score being over lower quartile, these articles are the ones being retained\n",
    "df_terror_articles=df_terror_articles[df_terror_articles.terrorism>10**-3]\n",
    "\n",
    "word_counts = []    \n",
    "for i in tqdm(df_terror_articles['desc']):\n",
    "    words_in_df=len([token.text for token in nlp(i)if token.is_punct != True])\n",
    "    word_counts.append(words_in_df)\n",
    "       \n",
    "df_terror_articles['word_counts'] = word_counts\n",
    "\n",
    "#creating a pickle file as it takes a long time to extract this information from the dataset!\n",
    "df_terror_articles.to_pickle(\"../../data/df_terror_articles_wordcount.pkl\")\n",
    "\n",
    "#looking at other themes which could be of interest within the article\n",
    "categories = [\"terrorism\", \"violence\", \"politics\", \"economy\", \"immigration\",\"suffering\",\"fight\",\"anger\",\"kill\",\"fear\",\"crime\",\"aggression\",\"hate\",\"religion\",\"war\",\"death\",\"horror\",\"prison\",\"government\",\"movement\",\"independence\"]\n",
    "df_score2=df_terror_articles.reindex(columns = list(categories)).fillna(0)\n",
    "\n",
    "#for  i, row in df_articles.iterrows():\n",
    "for i, row in df_terror_articles.iterrows():\n",
    "    doc=nlp(df_terror_articles.loc[i]['desc'])\n",
    "    terror_features=lexicon.analyze(doc.text,categories,normalize=True)\n",
    "    df_score2.loc[i]=terror_features\n",
    "\n",
    "#extracting the main 3 themes within the article\n",
    "df_score2['top_themes']=df_score2.apply(lambda s: s.abs().nlargest(3).index.tolist(), axis=1)   \n",
    "\n",
    "# storing the scored dataframe (score according to category) as a pickle\n",
    "df_score2.to_pickle(\"../../data/df_score2.pkl\")\n"
   ]
  },
  {
   "cell_type": "code",
   "execution_count": 235,
   "metadata": {},
   "outputs": [],
   "source": [
    "#colloctionof articles which are considered having a terrorism score 10^-3 and has words counted\n",
    "df_terror_articles_wordcount=pd.read_pickle('../../data/df_terror_articles_wordcount.pkl')\n",
    "\n",
    "#df containing the score for the diverse themes\n",
    "df_score2=pd.read_pickle('../../data/df_score2.pkl')"
   ]
  },
  {
   "cell_type": "code",
   "execution_count": 236,
   "metadata": {},
   "outputs": [],
   "source": [
    "#creating 1 dataframe with the articles and their main themes\n",
    "df_terror_themes=df_terror_articles_wordcount.merge(df_score2,left_on=df_terror_articles_wordcount.index, right_index=True)\n",
    "\n",
    "#conversion of the top themes into string, so that we can create a new dataframe with the top themes containting terrorism\n",
    "df_terror_themes.top_themes=df_terror_themes.top_themes.astype(str)\n",
    "df_top3=df_terror_themes.loc[df_terror_themes.top_themes.str.contains('terrorism')].reindex()\n",
    "\n",
    "#preparation of top3 so that it is the same as df_nyt_top3 to enable concatenation\n",
    "df_top3=df_top3.rename(columns={'dates': 'date'})\n",
    "df_top3['year'] = pd.DatetimeIndex(df_top3['date']).year\n",
    "df_top3=df_top3.rename(columns={'terrorism_x': 'terrorism'})\n",
    "df_top3=df_top3.drop(columns=['terrorism_y'])"
   ]
  },
  {
   "cell_type": "code",
   "execution_count": 237,
   "metadata": {
    "scrolled": false
   },
   "outputs": [
    {
     "data": {
      "image/png": "[encoded data removed]",
      "text/plain": [
       "<Figure size 1296x648 with 1 Axes>"
      ]
     },
     "metadata": {},
     "output_type": "display_data"
    }
   ],
   "source": [
    "#to see the distribution of the papers from 1997 to 2018 from ALL THE NEWS\n",
    "YEARS = df_top3['year'].max()-df_top3['year'].min()\n",
    "fig, ax = plt.subplots(figsize=(18,9))\n",
    "\n",
    "plt.title(\"Distribution of the papers per year\")\n",
    "plt.xlabel(\"date\") \n",
    "plt.ylabel(\"Number of Articles\")\n",
    "ax.hist(df_top3['year'], bins= YEARS)\n",
    "plt.show()"
   ]
  },
  {
   "cell_type": "markdown",
   "metadata": {},
   "source": [
    "Here we can observe the distribution of the articles of all the news. It is very clear that the distribution is not homogeneous, and that we will need to be careful doing any analysis regarding coverage over time!"
   ]
  },
  {
   "cell_type": "markdown",
   "metadata": {},
   "source": [
    "# Loading articles from the New York"
   ]
  },
  {
   "cell_type": "code",
   "execution_count": 238,
   "metadata": {},
   "outputs": [],
   "source": [
    "df_nyt = pd.read_csv( '../../data/NYT_articles.csv', encoding='ISO-8859-1' )"
   ]
  },
  {
   "cell_type": "code",
   "execution_count": 239,
   "metadata": {},
   "outputs": [],
   "source": [
    "#cleaning df_nyt and creating a date-type entry for date\n",
    "df_nyt=df_nyt.drop(columns=['Unnamed: 0', 'Unnamed: 0.1'])\n",
    "df_nyt['date']=pd.to_datetime(df_nyt.date, exact=False, errors = 'coerce')"
   ]
  },
  {
   "cell_type": "code",
   "execution_count": 240,
   "metadata": {
    "scrolled": true
   },
   "outputs": [
    {
     "data": {
      "text/plain": [
       "0"
      ]
     },
     "execution_count": 240,
     "metadata": {},
     "output_type": "execute_result"
    }
   ],
   "source": [
    "# verification that all the url are present for scrapping the content\n",
    "df_nyt['url'].isnull().sum()"
   ]
  },
  {
   "cell_type": "code",
   "execution_count": 110,
   "metadata": {},
   "outputs": [
    {
     "name": "stderr",
     "output_type": "stream",
     "text": [
      "\n",
      "  0%|                                                                                         | 0/3600 [00:00<?, ?it/s]\u001b[A\n",
      "  0%|                                                                                 | 1/3600 [00:00<14:30,  4.14it/s]\u001b[A\n",
      "  0%|                                                                                 | 2/3600 [00:00<14:22,  4.17it/s]\u001b[A\n",
      "  0%|                                                                                 | 3/3600 [00:00<13:38,  4.40it/s]\u001b[A\n",
      "  0%|                                                                                 | 4/3600 [00:00<13:24,  4.47it/s]\u001b[A\n",
      "  0%|                                                                                 | 5/3600 [00:01<13:06,  4.57it/s]\u001b[A\n",
      "  0%|▏                                                                                | 6/3600 [00:01<13:42,  4.37it/s]\u001b[A\n",
      "  0%|▏                                                                                | 7/3600 [00:01<14:07,  4.24it/s]\u001b[A\n",
      "  0%|▏                                                                                | 8/3600 [00:01<14:37,  4.09it/s]\u001b[A\n",
      "  0%|▏                                                                                | 9/3600 [00:02<14:06,  4.24it/s]\u001b[A\n",
      "  0%|▏                                                                               | 10/3600 [00:02<14:35,  4.10it/s]\u001b[A\n",
      "  0%|▏                                                                               | 11/3600 [00:02<15:09,  3.95it/s]\u001b[A\n",
      "  0%|▎                                                                               | 12/3600 [00:02<15:06,  3.96it/s]\u001b[A\n",
      "  0%|▎                                                                               | 13/3600 [00:03<14:37,  4.09it/s]\u001b[A\n",
      "  0%|▎                                                                               | 14/3600 [00:03<14:01,  4.26it/s]\u001b[A\n",
      "  0%|▎                                                                               | 15/3600 [00:03<14:07,  4.23it/s]\u001b[A\n",
      "  0%|▎                                                                               | 16/3600 [00:03<14:29,  4.12it/s]\u001b[A\n",
      "  0%|▍                                                                               | 17/3600 [00:04<14:34,  4.10it/s]\u001b[A\n",
      "  0%|▍                                                                               | 18/3600 [00:04<14:19,  4.17it/s]\u001b[A\n",
      "  1%|▍                                                                               | 19/3600 [00:04<14:18,  4.17it/s]\u001b[A\n",
      "  1%|▍                                                                               | 20/3600 [00:04<14:41,  4.06it/s]\u001b[A\n",
      "  1%|▍                                                                               | 21/3600 [00:05<14:43,  4.05it/s]\u001b[A\n",
      "  1%|▍                                                                               | 22/3600 [00:05<22:46,  2.62it/s]\u001b[A\n",
      "  1%|▌                                                                               | 23/3600 [00:06<20:48,  2.87it/s]\u001b[A\n",
      "  1%|▌                                                                               | 24/3600 [00:06<20:04,  2.97it/s]\u001b[A\n",
      "  1%|▌                                                                               | 25/3600 [00:06<17:57,  3.32it/s]\u001b[A\n",
      "  1%|▌                                                                               | 26/3600 [00:06<17:07,  3.48it/s]\u001b[A\n",
      "  1%|▌                                                                               | 27/3600 [00:07<15:59,  3.72it/s]\u001b[A\n",
      "  1%|▌                                                                               | 28/3600 [00:07<15:44,  3.78it/s]\u001b[A\n"
     ]
    },
    {
     "ename": "KeyboardInterrupt",
     "evalue": "",
     "output_type": "error",
     "traceback": [
      "\u001b[1;31m---------------------------------------------------------------------------\u001b[0m",
      "\u001b[1;31mKeyboardInterrupt\u001b[0m                         Traceback (most recent call last)",
      "\u001b[1;32m<ipython-input-110-19d5380b8727>\u001b[0m in \u001b[0;36m<module>\u001b[1;34m\u001b[0m\n\u001b[0;32m      3\u001b[0m \u001b[0mpublications_wrapper\u001b[0m \u001b[1;33m=\u001b[0m \u001b[1;33m[\u001b[0m\u001b[1;33m]\u001b[0m\u001b[1;33m\u001b[0m\u001b[1;33m\u001b[0m\u001b[0m\n\u001b[0;32m      4\u001b[0m \u001b[1;32mfor\u001b[0m \u001b[0madress\u001b[0m \u001b[1;32min\u001b[0m \u001b[0mtqdm\u001b[0m\u001b[1;33m(\u001b[0m\u001b[0mdf_nyt\u001b[0m\u001b[1;33m[\u001b[0m\u001b[1;34m'url'\u001b[0m\u001b[1;33m]\u001b[0m\u001b[1;33m)\u001b[0m\u001b[1;33m:\u001b[0m\u001b[1;33m\u001b[0m\u001b[1;33m\u001b[0m\u001b[0m\n\u001b[1;32m----> 5\u001b[1;33m     \u001b[0mresponse\u001b[0m \u001b[1;33m=\u001b[0m \u001b[0mrequests\u001b[0m\u001b[1;33m.\u001b[0m\u001b[0mget\u001b[0m\u001b[1;33m(\u001b[0m\u001b[0madress\u001b[0m\u001b[1;33m)\u001b[0m\u001b[1;33m\u001b[0m\u001b[1;33m\u001b[0m\u001b[0m\n\u001b[0m\u001b[0;32m      6\u001b[0m     \u001b[0msoup\u001b[0m \u001b[1;33m=\u001b[0m \u001b[0mBeautifulSoup\u001b[0m\u001b[1;33m(\u001b[0m\u001b[0mresponse\u001b[0m\u001b[1;33m.\u001b[0m\u001b[0mtext\u001b[0m\u001b[1;33m,\u001b[0m \u001b[1;34m'html.parser'\u001b[0m\u001b[1;33m)\u001b[0m\u001b[1;33m\u001b[0m\u001b[1;33m\u001b[0m\u001b[0m\n\u001b[0;32m      7\u001b[0m     \u001b[1;32mif\u001b[0m \u001b[1;33m(\u001b[0m\u001b[0msoup\u001b[0m\u001b[1;33m.\u001b[0m\u001b[0mfind_all\u001b[0m\u001b[1;33m(\u001b[0m\u001b[1;34m'meta'\u001b[0m\u001b[1;33m)\u001b[0m \u001b[1;33m!=\u001b[0m \u001b[0msoup\u001b[0m\u001b[1;33m.\u001b[0m\u001b[0mfind_all\u001b[0m\u001b[1;33m(\u001b[0m\u001b[1;34m'<meta content=\"https://'\u001b[0m\u001b[1;33m)\u001b[0m\u001b[1;33m)\u001b[0m\u001b[1;33m:\u001b[0m\u001b[1;33m\u001b[0m\u001b[1;33m\u001b[0m\u001b[0m\n",
      "\u001b[1;32m~\\Anaconda3\\envs\\ada\\lib\\site-packages\\requests\\api.py\u001b[0m in \u001b[0;36mget\u001b[1;34m(url, params, **kwargs)\u001b[0m\n\u001b[0;32m     73\u001b[0m \u001b[1;33m\u001b[0m\u001b[0m\n\u001b[0;32m     74\u001b[0m     \u001b[0mkwargs\u001b[0m\u001b[1;33m.\u001b[0m\u001b[0msetdefault\u001b[0m\u001b[1;33m(\u001b[0m\u001b[1;34m'allow_redirects'\u001b[0m\u001b[1;33m,\u001b[0m \u001b[1;32mTrue\u001b[0m\u001b[1;33m)\u001b[0m\u001b[1;33m\u001b[0m\u001b[1;33m\u001b[0m\u001b[0m\n\u001b[1;32m---> 75\u001b[1;33m     \u001b[1;32mreturn\u001b[0m \u001b[0mrequest\u001b[0m\u001b[1;33m(\u001b[0m\u001b[1;34m'get'\u001b[0m\u001b[1;33m,\u001b[0m \u001b[0murl\u001b[0m\u001b[1;33m,\u001b[0m \u001b[0mparams\u001b[0m\u001b[1;33m=\u001b[0m\u001b[0mparams\u001b[0m\u001b[1;33m,\u001b[0m \u001b[1;33m**\u001b[0m\u001b[0mkwargs\u001b[0m\u001b[1;33m)\u001b[0m\u001b[1;33m\u001b[0m\u001b[1;33m\u001b[0m\u001b[0m\n\u001b[0m\u001b[0;32m     76\u001b[0m \u001b[1;33m\u001b[0m\u001b[0m\n\u001b[0;32m     77\u001b[0m \u001b[1;33m\u001b[0m\u001b[0m\n",
      "\u001b[1;32m~\\Anaconda3\\envs\\ada\\lib\\site-packages\\requests\\api.py\u001b[0m in \u001b[0;36mrequest\u001b[1;34m(method, url, **kwargs)\u001b[0m\n\u001b[0;32m     58\u001b[0m     \u001b[1;31m# cases, and look like a memory leak in others.\u001b[0m\u001b[1;33m\u001b[0m\u001b[1;33m\u001b[0m\u001b[1;33m\u001b[0m\u001b[0m\n\u001b[0;32m     59\u001b[0m     \u001b[1;32mwith\u001b[0m \u001b[0msessions\u001b[0m\u001b[1;33m.\u001b[0m\u001b[0mSession\u001b[0m\u001b[1;33m(\u001b[0m\u001b[1;33m)\u001b[0m \u001b[1;32mas\u001b[0m \u001b[0msession\u001b[0m\u001b[1;33m:\u001b[0m\u001b[1;33m\u001b[0m\u001b[1;33m\u001b[0m\u001b[0m\n\u001b[1;32m---> 60\u001b[1;33m         \u001b[1;32mreturn\u001b[0m \u001b[0msession\u001b[0m\u001b[1;33m.\u001b[0m\u001b[0mrequest\u001b[0m\u001b[1;33m(\u001b[0m\u001b[0mmethod\u001b[0m\u001b[1;33m=\u001b[0m\u001b[0mmethod\u001b[0m\u001b[1;33m,\u001b[0m \u001b[0murl\u001b[0m\u001b[1;33m=\u001b[0m\u001b[0murl\u001b[0m\u001b[1;33m,\u001b[0m \u001b[1;33m**\u001b[0m\u001b[0mkwargs\u001b[0m\u001b[1;33m)\u001b[0m\u001b[1;33m\u001b[0m\u001b[1;33m\u001b[0m\u001b[0m\n\u001b[0m\u001b[0;32m     61\u001b[0m \u001b[1;33m\u001b[0m\u001b[0m\n\u001b[0;32m     62\u001b[0m \u001b[1;33m\u001b[0m\u001b[0m\n",
      "\u001b[1;32m~\\Anaconda3\\envs\\ada\\lib\\site-packages\\requests\\sessions.py\u001b[0m in \u001b[0;36mrequest\u001b[1;34m(self, method, url, params, data, headers, cookies, files, auth, timeout, allow_redirects, proxies, hooks, stream, verify, cert, json)\u001b[0m\n\u001b[0;32m    531\u001b[0m         }\n\u001b[0;32m    532\u001b[0m         \u001b[0msend_kwargs\u001b[0m\u001b[1;33m.\u001b[0m\u001b[0mupdate\u001b[0m\u001b[1;33m(\u001b[0m\u001b[0msettings\u001b[0m\u001b[1;33m)\u001b[0m\u001b[1;33m\u001b[0m\u001b[1;33m\u001b[0m\u001b[0m\n\u001b[1;32m--> 533\u001b[1;33m         \u001b[0mresp\u001b[0m \u001b[1;33m=\u001b[0m \u001b[0mself\u001b[0m\u001b[1;33m.\u001b[0m\u001b[0msend\u001b[0m\u001b[1;33m(\u001b[0m\u001b[0mprep\u001b[0m\u001b[1;33m,\u001b[0m \u001b[1;33m**\u001b[0m\u001b[0msend_kwargs\u001b[0m\u001b[1;33m)\u001b[0m\u001b[1;33m\u001b[0m\u001b[1;33m\u001b[0m\u001b[0m\n\u001b[0m\u001b[0;32m    534\u001b[0m \u001b[1;33m\u001b[0m\u001b[0m\n\u001b[0;32m    535\u001b[0m         \u001b[1;32mreturn\u001b[0m \u001b[0mresp\u001b[0m\u001b[1;33m\u001b[0m\u001b[1;33m\u001b[0m\u001b[0m\n",
      "\u001b[1;32m~\\Anaconda3\\envs\\ada\\lib\\site-packages\\requests\\sessions.py\u001b[0m in \u001b[0;36msend\u001b[1;34m(self, request, **kwargs)\u001b[0m\n\u001b[0;32m    684\u001b[0m \u001b[1;33m\u001b[0m\u001b[0m\n\u001b[0;32m    685\u001b[0m         \u001b[1;32mif\u001b[0m \u001b[1;32mnot\u001b[0m \u001b[0mstream\u001b[0m\u001b[1;33m:\u001b[0m\u001b[1;33m\u001b[0m\u001b[1;33m\u001b[0m\u001b[0m\n\u001b[1;32m--> 686\u001b[1;33m             \u001b[0mr\u001b[0m\u001b[1;33m.\u001b[0m\u001b[0mcontent\u001b[0m\u001b[1;33m\u001b[0m\u001b[1;33m\u001b[0m\u001b[0m\n\u001b[0m\u001b[0;32m    687\u001b[0m \u001b[1;33m\u001b[0m\u001b[0m\n\u001b[0;32m    688\u001b[0m         \u001b[1;32mreturn\u001b[0m \u001b[0mr\u001b[0m\u001b[1;33m\u001b[0m\u001b[1;33m\u001b[0m\u001b[0m\n",
      "\u001b[1;32m~\\Anaconda3\\envs\\ada\\lib\\site-packages\\requests\\models.py\u001b[0m in \u001b[0;36mcontent\u001b[1;34m(self)\u001b[0m\n\u001b[0;32m    826\u001b[0m                 \u001b[0mself\u001b[0m\u001b[1;33m.\u001b[0m\u001b[0m_content\u001b[0m \u001b[1;33m=\u001b[0m \u001b[1;32mNone\u001b[0m\u001b[1;33m\u001b[0m\u001b[1;33m\u001b[0m\u001b[0m\n\u001b[0;32m    827\u001b[0m             \u001b[1;32melse\u001b[0m\u001b[1;33m:\u001b[0m\u001b[1;33m\u001b[0m\u001b[1;33m\u001b[0m\u001b[0m\n\u001b[1;32m--> 828\u001b[1;33m                 \u001b[0mself\u001b[0m\u001b[1;33m.\u001b[0m\u001b[0m_content\u001b[0m \u001b[1;33m=\u001b[0m \u001b[1;34mb''\u001b[0m\u001b[1;33m.\u001b[0m\u001b[0mjoin\u001b[0m\u001b[1;33m(\u001b[0m\u001b[0mself\u001b[0m\u001b[1;33m.\u001b[0m\u001b[0miter_content\u001b[0m\u001b[1;33m(\u001b[0m\u001b[0mCONTENT_CHUNK_SIZE\u001b[0m\u001b[1;33m)\u001b[0m\u001b[1;33m)\u001b[0m \u001b[1;32mor\u001b[0m \u001b[1;34mb''\u001b[0m\u001b[1;33m\u001b[0m\u001b[1;33m\u001b[0m\u001b[0m\n\u001b[0m\u001b[0;32m    829\u001b[0m \u001b[1;33m\u001b[0m\u001b[0m\n\u001b[0;32m    830\u001b[0m         \u001b[0mself\u001b[0m\u001b[1;33m.\u001b[0m\u001b[0m_content_consumed\u001b[0m \u001b[1;33m=\u001b[0m \u001b[1;32mTrue\u001b[0m\u001b[1;33m\u001b[0m\u001b[1;33m\u001b[0m\u001b[0m\n",
      "\u001b[1;32m~\\Anaconda3\\envs\\ada\\lib\\site-packages\\requests\\models.py\u001b[0m in \u001b[0;36mgenerate\u001b[1;34m()\u001b[0m\n\u001b[0;32m    748\u001b[0m             \u001b[1;32mif\u001b[0m \u001b[0mhasattr\u001b[0m\u001b[1;33m(\u001b[0m\u001b[0mself\u001b[0m\u001b[1;33m.\u001b[0m\u001b[0mraw\u001b[0m\u001b[1;33m,\u001b[0m \u001b[1;34m'stream'\u001b[0m\u001b[1;33m)\u001b[0m\u001b[1;33m:\u001b[0m\u001b[1;33m\u001b[0m\u001b[1;33m\u001b[0m\u001b[0m\n\u001b[0;32m    749\u001b[0m                 \u001b[1;32mtry\u001b[0m\u001b[1;33m:\u001b[0m\u001b[1;33m\u001b[0m\u001b[1;33m\u001b[0m\u001b[0m\n\u001b[1;32m--> 750\u001b[1;33m                     \u001b[1;32mfor\u001b[0m \u001b[0mchunk\u001b[0m \u001b[1;32min\u001b[0m \u001b[0mself\u001b[0m\u001b[1;33m.\u001b[0m\u001b[0mraw\u001b[0m\u001b[1;33m.\u001b[0m\u001b[0mstream\u001b[0m\u001b[1;33m(\u001b[0m\u001b[0mchunk_size\u001b[0m\u001b[1;33m,\u001b[0m \u001b[0mdecode_content\u001b[0m\u001b[1;33m=\u001b[0m\u001b[1;32mTrue\u001b[0m\u001b[1;33m)\u001b[0m\u001b[1;33m:\u001b[0m\u001b[1;33m\u001b[0m\u001b[1;33m\u001b[0m\u001b[0m\n\u001b[0m\u001b[0;32m    751\u001b[0m                         \u001b[1;32myield\u001b[0m \u001b[0mchunk\u001b[0m\u001b[1;33m\u001b[0m\u001b[1;33m\u001b[0m\u001b[0m\n\u001b[0;32m    752\u001b[0m                 \u001b[1;32mexcept\u001b[0m \u001b[0mProtocolError\u001b[0m \u001b[1;32mas\u001b[0m \u001b[0me\u001b[0m\u001b[1;33m:\u001b[0m\u001b[1;33m\u001b[0m\u001b[1;33m\u001b[0m\u001b[0m\n",
      "\u001b[1;32m~\\Anaconda3\\envs\\ada\\lib\\site-packages\\urllib3\\response.py\u001b[0m in \u001b[0;36mstream\u001b[1;34m(self, amt, decode_content)\u001b[0m\n\u001b[0;32m    492\u001b[0m         \u001b[1;32melse\u001b[0m\u001b[1;33m:\u001b[0m\u001b[1;33m\u001b[0m\u001b[1;33m\u001b[0m\u001b[0m\n\u001b[0;32m    493\u001b[0m             \u001b[1;32mwhile\u001b[0m \u001b[1;32mnot\u001b[0m \u001b[0mis_fp_closed\u001b[0m\u001b[1;33m(\u001b[0m\u001b[0mself\u001b[0m\u001b[1;33m.\u001b[0m\u001b[0m_fp\u001b[0m\u001b[1;33m)\u001b[0m\u001b[1;33m:\u001b[0m\u001b[1;33m\u001b[0m\u001b[1;33m\u001b[0m\u001b[0m\n\u001b[1;32m--> 494\u001b[1;33m                 \u001b[0mdata\u001b[0m \u001b[1;33m=\u001b[0m \u001b[0mself\u001b[0m\u001b[1;33m.\u001b[0m\u001b[0mread\u001b[0m\u001b[1;33m(\u001b[0m\u001b[0mamt\u001b[0m\u001b[1;33m=\u001b[0m\u001b[0mamt\u001b[0m\u001b[1;33m,\u001b[0m \u001b[0mdecode_content\u001b[0m\u001b[1;33m=\u001b[0m\u001b[0mdecode_content\u001b[0m\u001b[1;33m)\u001b[0m\u001b[1;33m\u001b[0m\u001b[1;33m\u001b[0m\u001b[0m\n\u001b[0m\u001b[0;32m    495\u001b[0m \u001b[1;33m\u001b[0m\u001b[0m\n\u001b[0;32m    496\u001b[0m                 \u001b[1;32mif\u001b[0m \u001b[0mdata\u001b[0m\u001b[1;33m:\u001b[0m\u001b[1;33m\u001b[0m\u001b[1;33m\u001b[0m\u001b[0m\n",
      "\u001b[1;32m~\\Anaconda3\\envs\\ada\\lib\\site-packages\\urllib3\\response.py\u001b[0m in \u001b[0;36mread\u001b[1;34m(self, amt, decode_content, cache_content)\u001b[0m\n\u001b[0;32m    440\u001b[0m             \u001b[1;32melse\u001b[0m\u001b[1;33m:\u001b[0m\u001b[1;33m\u001b[0m\u001b[1;33m\u001b[0m\u001b[0m\n\u001b[0;32m    441\u001b[0m                 \u001b[0mcache_content\u001b[0m \u001b[1;33m=\u001b[0m \u001b[1;32mFalse\u001b[0m\u001b[1;33m\u001b[0m\u001b[1;33m\u001b[0m\u001b[0m\n\u001b[1;32m--> 442\u001b[1;33m                 \u001b[0mdata\u001b[0m \u001b[1;33m=\u001b[0m \u001b[0mself\u001b[0m\u001b[1;33m.\u001b[0m\u001b[0m_fp\u001b[0m\u001b[1;33m.\u001b[0m\u001b[0mread\u001b[0m\u001b[1;33m(\u001b[0m\u001b[0mamt\u001b[0m\u001b[1;33m)\u001b[0m\u001b[1;33m\u001b[0m\u001b[1;33m\u001b[0m\u001b[0m\n\u001b[0m\u001b[0;32m    443\u001b[0m                 \u001b[1;32mif\u001b[0m \u001b[0mamt\u001b[0m \u001b[1;33m!=\u001b[0m \u001b[1;36m0\u001b[0m \u001b[1;32mand\u001b[0m \u001b[1;32mnot\u001b[0m \u001b[0mdata\u001b[0m\u001b[1;33m:\u001b[0m  \u001b[1;31m# Platform-specific: Buggy versions of Python.\u001b[0m\u001b[1;33m\u001b[0m\u001b[1;33m\u001b[0m\u001b[0m\n\u001b[0;32m    444\u001b[0m                     \u001b[1;31m# Close the connection when no data is returned\u001b[0m\u001b[1;33m\u001b[0m\u001b[1;33m\u001b[0m\u001b[1;33m\u001b[0m\u001b[0m\n",
      "\u001b[1;32m~\\Anaconda3\\envs\\ada\\lib\\http\\client.py\u001b[0m in \u001b[0;36mread\u001b[1;34m(self, amt)\u001b[0m\n\u001b[0;32m    455\u001b[0m             \u001b[1;31m# Amount is given, implement using readinto\u001b[0m\u001b[1;33m\u001b[0m\u001b[1;33m\u001b[0m\u001b[1;33m\u001b[0m\u001b[0m\n\u001b[0;32m    456\u001b[0m             \u001b[0mb\u001b[0m \u001b[1;33m=\u001b[0m \u001b[0mbytearray\u001b[0m\u001b[1;33m(\u001b[0m\u001b[0mamt\u001b[0m\u001b[1;33m)\u001b[0m\u001b[1;33m\u001b[0m\u001b[1;33m\u001b[0m\u001b[0m\n\u001b[1;32m--> 457\u001b[1;33m             \u001b[0mn\u001b[0m \u001b[1;33m=\u001b[0m \u001b[0mself\u001b[0m\u001b[1;33m.\u001b[0m\u001b[0mreadinto\u001b[0m\u001b[1;33m(\u001b[0m\u001b[0mb\u001b[0m\u001b[1;33m)\u001b[0m\u001b[1;33m\u001b[0m\u001b[1;33m\u001b[0m\u001b[0m\n\u001b[0m\u001b[0;32m    458\u001b[0m             \u001b[1;32mreturn\u001b[0m \u001b[0mmemoryview\u001b[0m\u001b[1;33m(\u001b[0m\u001b[0mb\u001b[0m\u001b[1;33m)\u001b[0m\u001b[1;33m[\u001b[0m\u001b[1;33m:\u001b[0m\u001b[0mn\u001b[0m\u001b[1;33m]\u001b[0m\u001b[1;33m.\u001b[0m\u001b[0mtobytes\u001b[0m\u001b[1;33m(\u001b[0m\u001b[1;33m)\u001b[0m\u001b[1;33m\u001b[0m\u001b[1;33m\u001b[0m\u001b[0m\n\u001b[0;32m    459\u001b[0m         \u001b[1;32melse\u001b[0m\u001b[1;33m:\u001b[0m\u001b[1;33m\u001b[0m\u001b[1;33m\u001b[0m\u001b[0m\n",
      "\u001b[1;32m~\\Anaconda3\\envs\\ada\\lib\\http\\client.py\u001b[0m in \u001b[0;36mreadinto\u001b[1;34m(self, b)\u001b[0m\n\u001b[0;32m    499\u001b[0m         \u001b[1;31m# connection, and the user is reading more bytes than will be provided\u001b[0m\u001b[1;33m\u001b[0m\u001b[1;33m\u001b[0m\u001b[1;33m\u001b[0m\u001b[0m\n\u001b[0;32m    500\u001b[0m         \u001b[1;31m# (for example, reading in 1k chunks)\u001b[0m\u001b[1;33m\u001b[0m\u001b[1;33m\u001b[0m\u001b[1;33m\u001b[0m\u001b[0m\n\u001b[1;32m--> 501\u001b[1;33m         \u001b[0mn\u001b[0m \u001b[1;33m=\u001b[0m \u001b[0mself\u001b[0m\u001b[1;33m.\u001b[0m\u001b[0mfp\u001b[0m\u001b[1;33m.\u001b[0m\u001b[0mreadinto\u001b[0m\u001b[1;33m(\u001b[0m\u001b[0mb\u001b[0m\u001b[1;33m)\u001b[0m\u001b[1;33m\u001b[0m\u001b[1;33m\u001b[0m\u001b[0m\n\u001b[0m\u001b[0;32m    502\u001b[0m         \u001b[1;32mif\u001b[0m \u001b[1;32mnot\u001b[0m \u001b[0mn\u001b[0m \u001b[1;32mand\u001b[0m \u001b[0mb\u001b[0m\u001b[1;33m:\u001b[0m\u001b[1;33m\u001b[0m\u001b[1;33m\u001b[0m\u001b[0m\n\u001b[0;32m    503\u001b[0m             \u001b[1;31m# Ideally, we would raise IncompleteRead if the content-length\u001b[0m\u001b[1;33m\u001b[0m\u001b[1;33m\u001b[0m\u001b[1;33m\u001b[0m\u001b[0m\n",
      "\u001b[1;32m~\\Anaconda3\\envs\\ada\\lib\\socket.py\u001b[0m in \u001b[0;36mreadinto\u001b[1;34m(self, b)\u001b[0m\n\u001b[0;32m    587\u001b[0m         \u001b[1;32mwhile\u001b[0m \u001b[1;32mTrue\u001b[0m\u001b[1;33m:\u001b[0m\u001b[1;33m\u001b[0m\u001b[1;33m\u001b[0m\u001b[0m\n\u001b[0;32m    588\u001b[0m             \u001b[1;32mtry\u001b[0m\u001b[1;33m:\u001b[0m\u001b[1;33m\u001b[0m\u001b[1;33m\u001b[0m\u001b[0m\n\u001b[1;32m--> 589\u001b[1;33m                 \u001b[1;32mreturn\u001b[0m \u001b[0mself\u001b[0m\u001b[1;33m.\u001b[0m\u001b[0m_sock\u001b[0m\u001b[1;33m.\u001b[0m\u001b[0mrecv_into\u001b[0m\u001b[1;33m(\u001b[0m\u001b[0mb\u001b[0m\u001b[1;33m)\u001b[0m\u001b[1;33m\u001b[0m\u001b[1;33m\u001b[0m\u001b[0m\n\u001b[0m\u001b[0;32m    590\u001b[0m             \u001b[1;32mexcept\u001b[0m \u001b[0mtimeout\u001b[0m\u001b[1;33m:\u001b[0m\u001b[1;33m\u001b[0m\u001b[1;33m\u001b[0m\u001b[0m\n\u001b[0;32m    591\u001b[0m                 \u001b[0mself\u001b[0m\u001b[1;33m.\u001b[0m\u001b[0m_timeout_occurred\u001b[0m \u001b[1;33m=\u001b[0m \u001b[1;32mTrue\u001b[0m\u001b[1;33m\u001b[0m\u001b[1;33m\u001b[0m\u001b[0m\n",
      "\u001b[1;32m~\\Anaconda3\\envs\\ada\\lib\\site-packages\\urllib3\\contrib\\pyopenssl.py\u001b[0m in \u001b[0;36mrecv_into\u001b[1;34m(self, *args, **kwargs)\u001b[0m\n\u001b[0;32m    295\u001b[0m     \u001b[1;32mdef\u001b[0m \u001b[0mrecv_into\u001b[0m\u001b[1;33m(\u001b[0m\u001b[0mself\u001b[0m\u001b[1;33m,\u001b[0m \u001b[1;33m*\u001b[0m\u001b[0margs\u001b[0m\u001b[1;33m,\u001b[0m \u001b[1;33m**\u001b[0m\u001b[0mkwargs\u001b[0m\u001b[1;33m)\u001b[0m\u001b[1;33m:\u001b[0m\u001b[1;33m\u001b[0m\u001b[1;33m\u001b[0m\u001b[0m\n\u001b[0;32m    296\u001b[0m         \u001b[1;32mtry\u001b[0m\u001b[1;33m:\u001b[0m\u001b[1;33m\u001b[0m\u001b[1;33m\u001b[0m\u001b[0m\n\u001b[1;32m--> 297\u001b[1;33m             \u001b[1;32mreturn\u001b[0m \u001b[0mself\u001b[0m\u001b[1;33m.\u001b[0m\u001b[0mconnection\u001b[0m\u001b[1;33m.\u001b[0m\u001b[0mrecv_into\u001b[0m\u001b[1;33m(\u001b[0m\u001b[1;33m*\u001b[0m\u001b[0margs\u001b[0m\u001b[1;33m,\u001b[0m \u001b[1;33m**\u001b[0m\u001b[0mkwargs\u001b[0m\u001b[1;33m)\u001b[0m\u001b[1;33m\u001b[0m\u001b[1;33m\u001b[0m\u001b[0m\n\u001b[0m\u001b[0;32m    298\u001b[0m         \u001b[1;32mexcept\u001b[0m \u001b[0mOpenSSL\u001b[0m\u001b[1;33m.\u001b[0m\u001b[0mSSL\u001b[0m\u001b[1;33m.\u001b[0m\u001b[0mSysCallError\u001b[0m \u001b[1;32mas\u001b[0m \u001b[0me\u001b[0m\u001b[1;33m:\u001b[0m\u001b[1;33m\u001b[0m\u001b[1;33m\u001b[0m\u001b[0m\n\u001b[0;32m    299\u001b[0m             \u001b[1;32mif\u001b[0m \u001b[0mself\u001b[0m\u001b[1;33m.\u001b[0m\u001b[0msuppress_ragged_eofs\u001b[0m \u001b[1;32mand\u001b[0m \u001b[0me\u001b[0m\u001b[1;33m.\u001b[0m\u001b[0margs\u001b[0m \u001b[1;33m==\u001b[0m \u001b[1;33m(\u001b[0m\u001b[1;33m-\u001b[0m\u001b[1;36m1\u001b[0m\u001b[1;33m,\u001b[0m \u001b[1;34m'Unexpected EOF'\u001b[0m\u001b[1;33m)\u001b[0m\u001b[1;33m:\u001b[0m\u001b[1;33m\u001b[0m\u001b[1;33m\u001b[0m\u001b[0m\n",
      "\u001b[1;32m~\\Anaconda3\\envs\\ada\\lib\\site-packages\\OpenSSL\\SSL.py\u001b[0m in \u001b[0;36mrecv_into\u001b[1;34m(self, buffer, nbytes, flags)\u001b[0m\n\u001b[0;32m   1837\u001b[0m             \u001b[0mresult\u001b[0m \u001b[1;33m=\u001b[0m \u001b[0m_lib\u001b[0m\u001b[1;33m.\u001b[0m\u001b[0mSSL_peek\u001b[0m\u001b[1;33m(\u001b[0m\u001b[0mself\u001b[0m\u001b[1;33m.\u001b[0m\u001b[0m_ssl\u001b[0m\u001b[1;33m,\u001b[0m \u001b[0mbuf\u001b[0m\u001b[1;33m,\u001b[0m \u001b[0mnbytes\u001b[0m\u001b[1;33m)\u001b[0m\u001b[1;33m\u001b[0m\u001b[1;33m\u001b[0m\u001b[0m\n\u001b[0;32m   1838\u001b[0m         \u001b[1;32melse\u001b[0m\u001b[1;33m:\u001b[0m\u001b[1;33m\u001b[0m\u001b[1;33m\u001b[0m\u001b[0m\n\u001b[1;32m-> 1839\u001b[1;33m             \u001b[0mresult\u001b[0m \u001b[1;33m=\u001b[0m \u001b[0m_lib\u001b[0m\u001b[1;33m.\u001b[0m\u001b[0mSSL_read\u001b[0m\u001b[1;33m(\u001b[0m\u001b[0mself\u001b[0m\u001b[1;33m.\u001b[0m\u001b[0m_ssl\u001b[0m\u001b[1;33m,\u001b[0m \u001b[0mbuf\u001b[0m\u001b[1;33m,\u001b[0m \u001b[0mnbytes\u001b[0m\u001b[1;33m)\u001b[0m\u001b[1;33m\u001b[0m\u001b[1;33m\u001b[0m\u001b[0m\n\u001b[0m\u001b[0;32m   1840\u001b[0m         \u001b[0mself\u001b[0m\u001b[1;33m.\u001b[0m\u001b[0m_raise_ssl_error\u001b[0m\u001b[1;33m(\u001b[0m\u001b[0mself\u001b[0m\u001b[1;33m.\u001b[0m\u001b[0m_ssl\u001b[0m\u001b[1;33m,\u001b[0m \u001b[0mresult\u001b[0m\u001b[1;33m)\u001b[0m\u001b[1;33m\u001b[0m\u001b[1;33m\u001b[0m\u001b[0m\n\u001b[0;32m   1841\u001b[0m \u001b[1;33m\u001b[0m\u001b[0m\n",
      "\u001b[1;31mKeyboardInterrupt\u001b[0m: "
     ]
    }
   ],
   "source": [
    "##don't run me! read from file below!\n",
    "#scrapping the data from the content for further analysis of the new york times\n",
    "publications_wrapper = []\n",
    "for adress in tqdm(df_nyt['url']):  \n",
    "    response = requests.get(adress)\n",
    "    soup = BeautifulSoup(response.text, 'html.parser')\n",
    "    if (soup.find_all('meta') != soup.find_all('<meta content=\"https://')):\n",
    "        publications_wrapper.append(soup.find_all('meta'))\n",
    "\n",
    "df_pubWRAP = pd.DataFrame({'wrap': publications_wrapper})\n",
    "df_pubWRAP.to_csv('../../data/ScrapedWrapper.csv', compression = 'bz2')"
   ]
  },
  {
   "cell_type": "code",
   "execution_count": 241,
   "metadata": {},
   "outputs": [
    {
     "data": {
      "text/plain": [
       "(3542, 2)"
      ]
     },
     "execution_count": 241,
     "metadata": {},
     "output_type": "execute_result"
    }
   ],
   "source": [
    "#run from here to have scrapped content of the articles\n",
    "df_pubWRAP = pd.read_csv('../../data/ScrapedWrapper.csv', compression = 'bz2', header=0)\n",
    "df_pubWRAP.shape"
   ]
  },
  {
   "cell_type": "markdown",
   "metadata": {},
   "source": [
    "We see here that there is a problem, the dataset of NYT has more rows than the one that we scraped, so we will have to get the content of the last entries of the dataset by scraping them another time."
   ]
  },
  {
   "cell_type": "code",
   "execution_count": 242,
   "metadata": {},
   "outputs": [],
   "source": [
    "#cleaning the scraped content of the articles so that it becomes legible\n",
    "def clean_tags(s):\n",
    "    return s.replace('<', '').replace('/>', '').replace(\"<meta content =\", '').replace('</em>','')\\\n",
    "            .replace(\"'\",'').replace(\".0\",'')"
   ]
  },
  {
   "cell_type": "code",
   "execution_count": 113,
   "metadata": {
    "scrolled": true
   },
   "outputs": [
    {
     "name": "stderr",
     "output_type": "stream",
     "text": [
      "\n",
      "  0%|                                                                                           | 0/58 [00:00<?, ?it/s]\u001b[A\n",
      "  2%|█▍                                                                                 | 1/58 [00:00<00:13,  4.20it/s]\u001b[A\n",
      "  3%|██▊                                                                                | 2/58 [00:00<00:13,  4.02it/s]\u001b[A\n",
      "  5%|████▎                                                                              | 3/58 [00:00<00:13,  4.06it/s]\u001b[A\n",
      "  7%|█████▋                                                                             | 4/58 [00:01<00:22,  2.38it/s]\u001b[A\n",
      "  9%|███████▏                                                                           | 5/58 [00:01<00:21,  2.42it/s]\u001b[A\n",
      " 10%|████████▌                                                                          | 6/58 [00:02<00:19,  2.69it/s]\u001b[A\n",
      " 12%|██████████                                                                         | 7/58 [00:03<00:28,  1.79it/s]\u001b[A\n",
      " 14%|███████████▍                                                                       | 8/58 [00:03<00:29,  1.68it/s]\u001b[A\n",
      " 16%|████████████▉                                                                      | 9/58 [00:05<00:50,  1.03s/it]\u001b[A\n",
      " 17%|██████████████▏                                                                   | 10/58 [00:06<00:40,  1.19it/s]\u001b[A\n",
      " 19%|███████████████▌                                                                  | 11/58 [00:07<00:42,  1.10it/s]\u001b[A\n",
      " 21%|████████████████▉                                                                 | 12/58 [00:08<00:44,  1.03it/s]\u001b[A\n",
      " 22%|██████████████████▍                                                               | 13/58 [00:09<00:36,  1.23it/s]\u001b[A\n",
      " 24%|███████████████████▊                                                              | 14/58 [00:09<00:28,  1.57it/s]\u001b[A\n",
      " 26%|█████████████████████▏                                                            | 15/58 [00:09<00:21,  1.97it/s]\u001b[A\n",
      " 28%|██████████████████████▌                                                           | 16/58 [00:09<00:17,  2.38it/s]\u001b[A\n",
      " 29%|████████████████████████                                                          | 17/58 [00:09<00:14,  2.78it/s]\u001b[A\n",
      " 31%|█████████████████████████▍                                                        | 18/58 [00:10<00:12,  3.15it/s]\u001b[A\n",
      " 33%|██████████████████████████▊                                                       | 19/58 [00:10<00:11,  3.47it/s]\u001b[A\n",
      " 34%|████████████████████████████▎                                                     | 20/58 [00:10<00:10,  3.66it/s]\u001b[A\n",
      " 36%|█████████████████████████████▋                                                    | 21/58 [00:10<00:10,  3.38it/s]\u001b[A\n",
      " 38%|███████████████████████████████                                                   | 22/58 [00:11<00:10,  3.35it/s]\u001b[A\n",
      " 40%|████████████████████████████████▌                                                 | 23/58 [00:11<00:10,  3.20it/s]\u001b[A\n",
      " 41%|█████████████████████████████████▉                                                | 24/58 [00:11<00:09,  3.46it/s]\u001b[A\n",
      " 43%|███████████████████████████████████▎                                              | 25/58 [00:11<00:08,  3.72it/s]\u001b[A\n",
      " 45%|████████████████████████████████████▊                                             | 26/58 [00:12<00:08,  3.70it/s]\u001b[A\n",
      " 47%|██████████████████████████████████████▏                                           | 27/58 [00:12<00:07,  3.91it/s]\u001b[A\n",
      " 48%|███████████████████████████████████████▌                                          | 28/58 [00:12<00:07,  3.98it/s]\u001b[A\n",
      " 50%|█████████████████████████████████████████                                         | 29/58 [00:12<00:07,  4.04it/s]\u001b[A\n",
      " 52%|██████████████████████████████████████████▍                                       | 30/58 [00:13<00:06,  4.09it/s]\u001b[A\n",
      " 53%|███████████████████████████████████████████▊                                      | 31/58 [00:13<00:06,  4.19it/s]\u001b[A\n",
      " 55%|█████████████████████████████████████████████▏                                    | 32/58 [00:13<00:06,  4.07it/s]\u001b[A\n",
      " 57%|██████████████████████████████████████████████▋                                   | 33/58 [00:13<00:05,  4.21it/s]\u001b[A\n",
      " 59%|████████████████████████████████████████████████                                  | 34/58 [00:14<00:05,  4.31it/s]\u001b[A\n",
      " 60%|█████████████████████████████████████████████████▍                                | 35/58 [00:14<00:05,  4.37it/s]\u001b[A\n",
      " 62%|██████████████████████████████████████████████████▉                               | 36/58 [00:16<00:15,  1.41it/s]\u001b[A\n",
      " 64%|████████████████████████████████████████████████████▎                             | 37/58 [00:16<00:11,  1.75it/s]\u001b[A\n",
      " 66%|█████████████████████████████████████████████████████▋                            | 38/58 [00:16<00:09,  2.09it/s]\u001b[A\n",
      " 67%|███████████████████████████████████████████████████████▏                          | 39/58 [00:16<00:07,  2.50it/s]\u001b[A\n",
      " 69%|████████████████████████████████████████████████████████▌                         | 40/58 [00:17<00:06,  2.89it/s]\u001b[A\n",
      " 71%|█████████████████████████████████████████████████████████▉                        | 41/58 [00:17<00:05,  3.15it/s]\u001b[A\n",
      " 72%|███████████████████████████████████████████████████████████▍                      | 42/58 [00:17<00:04,  3.28it/s]\u001b[A\n",
      " 74%|████████████████████████████████████████████████████████████▊                     | 43/58 [00:17<00:04,  3.50it/s]\u001b[A\n",
      " 76%|██████████████████████████████████████████████████████████████▏                   | 44/58 [00:18<00:04,  3.47it/s]\u001b[A\n",
      " 78%|███████████████████████████████████████████████████████████████▌                  | 45/58 [00:18<00:03,  3.70it/s]\u001b[A\n",
      " 79%|█████████████████████████████████████████████████████████████████                 | 46/58 [00:18<00:03,  3.92it/s]\u001b[A\n",
      " 81%|██████████████████████████████████████████████████████████████████▍               | 47/58 [00:18<00:02,  3.92it/s]\u001b[A\n",
      " 83%|███████████████████████████████████████████████████████████████████▊              | 48/58 [00:19<00:02,  4.07it/s]\u001b[A\n",
      " 84%|█████████████████████████████████████████████████████████████████████▎            | 49/58 [00:19<00:02,  4.14it/s]\u001b[A\n",
      " 86%|██████████████████████████████████████████████████████████████████████▋           | 50/58 [00:19<00:01,  4.25it/s]\u001b[A\n",
      " 88%|████████████████████████████████████████████████████████████████████████          | 51/58 [00:19<00:01,  4.29it/s]\u001b[A\n",
      " 90%|█████████████████████████████████████████████████████████████████████████▌        | 52/58 [00:20<00:01,  4.37it/s]\u001b[A\n",
      " 91%|██████████████████████████████████████████████████████████████████████████▉       | 53/58 [00:20<00:01,  4.19it/s]\u001b[A\n",
      " 93%|████████████████████████████████████████████████████████████████████████████▎     | 54/58 [00:20<00:00,  4.24it/s]\u001b[A\n",
      " 95%|█████████████████████████████████████████████████████████████████████████████▊    | 55/58 [00:20<00:00,  4.38it/s]\u001b[A\n",
      " 97%|███████████████████████████████████████████████████████████████████████████████▏  | 56/58 [00:20<00:00,  4.45it/s]\u001b[A\n",
      " 98%|████████████████████████████████████████████████████████████████████████████████▌ | 57/58 [00:21<00:00,  4.32it/s]\u001b[A\n",
      "100%|██████████████████████████████████████████████████████████████████████████████████| 58/58 [00:21<00:00,  2.71it/s]\u001b[A\n"
     ]
    }
   ],
   "source": [
    "#as the NYT wouldn't let me do the 56 last requests, I have to procede this way to get their content and then merge the datasets\n",
    "publications_wrapper_last = []\n",
    "for adress in tqdm(df_nyt['url'][-58:]):  \n",
    "    response_last = requests.get(adress)\n",
    "    soup_last = BeautifulSoup(response_last.text, 'html.parser')\n",
    "   # if (soup_last.find_all('meta') != soup_last.find_all('<meta content=\"https://')):\n",
    "    publications_wrapper_last.append(soup_last.find_all('meta'))"
   ]
  },
  {
   "cell_type": "code",
   "execution_count": 114,
   "metadata": {
    "scrolled": true
   },
   "outputs": [
    {
     "name": "stderr",
     "output_type": "stream",
     "text": [
      "C:\\Users\\annin\\Anaconda3\\envs\\ada\\lib\\site-packages\\ipykernel_launcher.py:2: FutureWarning:\n",
      "\n",
      "Sorting because non-concatenation axis is not aligned. A future version\n",
      "of pandas will change to not sort by default.\n",
      "\n",
      "To accept the future behavior, pass 'sort=False'.\n",
      "\n",
      "To retain the current behavior and silence the warning, pass 'sort=True'.\n",
      "\n",
      "\n"
     ]
    }
   ],
   "source": [
    "df_pubWRAP_last= pd.DataFrame({'wrap': publications_wrapper_last})\n",
    "df_nyt_scraped = pd.concat([df_pubWRAP, df_pubWRAP_last], ignore_index=True,join=\"outer\") \n",
    "#here we can see if we managed to get all the articles' content with the scraping\n",
    "df_nyt_scraped.drop(columns=[\"Unnamed: 0\"], inplace = True)\n",
    "#to have the final dataset of the NYT where we add the content of the articles\n",
    "df_nyt['content'] = df_nyt_scraped\n",
    "df_nyt.drop(columns=['abstract','desk','id','section','snippet','subjects','type','url'], inplace = True)\n",
    "df_nyt.rename(columns={'headline': 'title','source':'publication','word_count':'word_counts'},inplace = True)\n",
    "df_nyt['year'] = pd.DatetimeIndex(df_nyt['date']).year"
   ]
  },
  {
   "cell_type": "code",
   "execution_count": 115,
   "metadata": {
    "scrolled": true
   },
   "outputs": [
    {
     "data": {
      "image/png": "[encoded data removed]",
      "text/plain": [
       "<Figure size 1296x648 with 1 Axes>"
      ]
     },
     "metadata": {},
     "output_type": "display_data"
    }
   ],
   "source": [
    "#to see the distribution of the papers from 1997 to 2018\n",
    "YEARS = df_nyt['year'].max()-df_nyt['year'].min()\n",
    "fig, ax = plt.subplots(figsize=(18,9))\n",
    "\n",
    "plt.title(\"Distribution of the papers per year\")\n",
    "plt.xlabel(\"date\") \n",
    "plt.ylabel(\"Number of Articles\")\n",
    "ax.hist(df_nyt['year'], bins= YEARS)\n",
    "plt.show()"
   ]
  },
  {
   "cell_type": "markdown",
   "metadata": {},
   "source": [
    "Here we can see that a certain amount of articles are present for different years. Interestingly, some years are very sparse. This may be due to the fact that when requesting the articles from the new york times, we ran into limitations of number of requests."
   ]
  },
  {
   "cell_type": "code",
   "execution_count": 116,
   "metadata": {},
   "outputs": [],
   "source": [
    "df_nyt_themes = pd.read_csv('../../data/df_nyt_themes.csv', compression = 'bz2')"
   ]
  },
  {
   "cell_type": "code",
   "execution_count": 82,
   "metadata": {},
   "outputs": [],
   "source": [
    "###DONT RUN THIS! read from the pickle file below\n",
    "#looking at other themes which could be of interest within the article\n",
    "categories = [\"terrorism\", \"violence\", \"politics\", \"economy\", \"immigration\",\"suffering\",\"fight\",\"anger\",\"kill\",\"fear\",\"crime\",\"aggression\",\"hate\",\"religion\",\"war\",\"death\",\"horror\",\"prison\",\"government\",\"movement\",\"independence\"]\n",
    "df_score3=df_nyt.reindex(columns = list(categories)).fillna(0)\n",
    "\n",
    "#for  i, row in df_articles.iterrows():\n",
    "for i, row in tqdm(df_nyt[:3542].iterrows()):\n",
    "    doc= nlp(df_nyt.loc[i]['content'])\n",
    "    terror_features=lexicon.analyze(doc.text,categories,normalize=True)\n",
    "    df_score3.loc[i]=terror_features\n",
    "    \n",
    "#extracting the main 3 themes within the article\n",
    "df_score3['top_themes']=df_score3.apply(lambda s: s.abs().nlargest(3).index.tolist(), axis=1)   \n",
    "# storing the scored dataframe (score according to category) as a pickle\n",
    "df_score3.to_pickle(\"../../data/df_nytscore3.pkl\")"
   ]
  },
  {
   "cell_type": "code",
   "execution_count": 117,
   "metadata": {},
   "outputs": [],
   "source": [
    "# storing the scored dataframe (score according to category) as a pickle\n",
    "df_score3=pd.read_pickle('../../data/df_nytscore3.pkl')"
   ]
  },
  {
   "cell_type": "code",
   "execution_count": 118,
   "metadata": {},
   "outputs": [],
   "source": [
    "#combining the score of the themes with the rest of the article information\n",
    "df_nyt_themes=df_nyt.merge(df_score3,on=df_score3.index, how='left')\n",
    "\n",
    "#storing this dataframe as a pickle file\n",
    "df_nyt_themes.to_csv(\"../../data/df_nyt_themes.csv\",compression ='bz2')"
   ]
  },
  {
   "cell_type": "code",
   "execution_count": 119,
   "metadata": {},
   "outputs": [],
   "source": [
    "#conversion of the top themes into string, so that we can create a new dataframe with the top themes containting terrorism\n",
    "df_nyt_themes.top_themes=df_nyt_themes.top_themes.astype(str)\n",
    "\n",
    "df_nyt_top3=df_nyt_themes.loc[df_nyt_themes.top_themes.str.contains('terrorism')].reindex()\n",
    "df_nyt_top3=df_nyt_top3.reset_index(drop='index')\n",
    "#preparation of df_nyt_top3 so that it is the same as df_top3 to enable concatenation\n",
    "df_nyt_top3=df_nyt_top3.rename(columns={'content': 'desc'})\n",
    "df_nyt_top3=df_nyt_top3.drop(columns=['key_0'])"
   ]
  },
  {
   "cell_type": "markdown",
   "metadata": {},
   "source": [
    "## Combining the news articles from the New York Times & All the News"
   ]
  },
  {
   "cell_type": "code",
   "execution_count": 268,
   "metadata": {},
   "outputs": [],
   "source": [
    "#concatenating the article databases (they have been modified to have same column names ahead of time)\n",
    "df_papers = pd.concat([df_nyt_top3, df_top3],join=\"outer\", sort=True)\n",
    "df_papers=df_papers.reset_index(drop='index')\n",
    "df_papers.to_csv(\"../../data/df_papers.csv\", compression='bz2')\n",
    "\n",
    "df_papers.locations=df_papers.locations.astype(str)"
   ]
  },
  {
   "cell_type": "code",
   "execution_count": 269,
   "metadata": {},
   "outputs": [],
   "source": [
    "df_papers= pd.read_csv(\"../../data/df_papers.csv\", compression='bz2')"
   ]
  },
  {
   "cell_type": "code",
   "execution_count": 270,
   "metadata": {
    "scrolled": true
   },
   "outputs": [
    {
     "name": "stderr",
     "output_type": "stream",
     "text": [
      "\n",
      "0it [00:00, ?it/s]\u001b[A\n",
      "82it [00:00, 816.56it/s]\u001b[A\n",
      "165it [00:00, 820.54it/s]\u001b[A\n",
      "245it [00:00, 812.78it/s]\u001b[A\n",
      "343it [00:00, 854.35it/s]\u001b[A\n",
      "419it [00:00, 805.89it/s]\u001b[A\n",
      "511it [00:00, 835.83it/s]\u001b[A\n",
      "606it [00:00, 864.86it/s]\u001b[A\n",
      "708it [00:00, 896.14it/s]\u001b[A\n",
      "819it [00:00, 948.61it/s]\u001b[A\n",
      "923it [00:01, 966.81it/s]\u001b[A\n",
      "1043it [00:01, 1022.07it/s]\u001b[A\n",
      "1146it [00:01, 996.50it/s] \u001b[A\n",
      "1254it [00:01, 1017.82it/s]\u001b[A\n",
      "1374it [00:01, 1059.76it/s]\u001b[A\n",
      "1487it [00:01, 1071.45it/s]\u001b[A\n",
      "1595it [00:01, 1056.95it/s]\u001b[A\n",
      "1702it [00:01, 1022.39it/s]\u001b[A\n",
      "1832it [00:01, 1090.19it/s]\u001b[A\n",
      "1946it [00:01, 1099.86it/s]\u001b[A\n",
      "2063it [00:02, 1118.06it/s]\u001b[A\n",
      "2176it [00:02, 995.18it/s] \u001b[A\n",
      "2279it [00:02, 873.40it/s]\u001b[A\n",
      "2372it [00:02, 872.28it/s]\u001b[A\n",
      "2463it [00:02, 794.42it/s]\u001b[A\n",
      "2547it [00:02, 700.51it/s]\u001b[A\n",
      "2622it [00:02, 637.33it/s]\u001b[A\n",
      "2691it [00:03, 594.42it/s]\u001b[A\n",
      "2755it [00:03, 594.14it/s]\u001b[A\n",
      "2817it [00:03, 571.24it/s]\u001b[A\n",
      "2881it [00:03, 588.18it/s]\u001b[A\n",
      "2942it [00:03, 545.36it/s]\u001b[A\n",
      "2999it [00:03, 524.97it/s]\u001b[A\n",
      "3092it [00:03, 601.73it/s]\u001b[A\n",
      "3200it [00:03, 691.89it/s]\u001b[A\n",
      "3291it [00:03, 742.00it/s]\u001b[A\n",
      "3373it [00:04, 633.65it/s]\u001b[A\n",
      "3444it [00:04, 582.69it/s]\u001b[A\n",
      "3509it [00:04, 561.62it/s]\u001b[A\n",
      "3570it [00:04, 417.93it/s]\u001b[A\n",
      "3621it [00:04, 407.28it/s]\u001b[A\n",
      "3669it [00:04, 420.59it/s]\u001b[A\n",
      "3724it [00:04, 448.12it/s]\u001b[A\n",
      "3821it [00:05, 530.96it/s]\u001b[A\n",
      "3883it [00:05, 525.66it/s]\u001b[A\n",
      "3954it [00:05, 569.52it/s]\u001b[A\n",
      "4029it [00:05, 613.17it/s]\u001b[A\n",
      "4096it [00:05, 555.26it/s]\u001b[A\n",
      "4183it [00:05, 622.21it/s]\u001b[A\n",
      "4277it [00:05, 689.63it/s]\u001b[A\n",
      "4353it [00:05, 632.97it/s]\u001b[A\n",
      "4462it [00:05, 721.57it/s]\u001b[A\n",
      "4575it [00:06, 805.15it/s]\u001b[A\n",
      "4677it [00:06, 852.80it/s]\u001b[A\n",
      "4770it [00:06, 711.42it/s]\u001b[A\n",
      "4851it [00:06, 733.56it/s]\u001b[A\n",
      "4931it [00:06, 725.92it/s]\u001b[A\n",
      "5009it [00:06, 665.93it/s]\u001b[A\n",
      "5138it [00:06, 774.62it/s]\u001b[A\n",
      "5225it [00:06, 774.74it/s]\u001b[A\n",
      "5322it [00:07, 813.43it/s]\u001b[A\n",
      "5411it [00:07, 827.32it/s]\u001b[A\n",
      "5515it [00:07, 873.20it/s]\u001b[A\n",
      "5612it [00:07, 892.78it/s]\u001b[A\n",
      "5704it [00:07, 887.60it/s]\u001b[A\n",
      "5795it [00:07, 881.64it/s]\u001b[A\n",
      "5885it [00:07, 850.24it/s]\u001b[A\n",
      "5974it [00:07, 860.31it/s]\u001b[A\n",
      "6061it [00:07, 841.13it/s]\u001b[A\n",
      "6146it [00:07, 817.44it/s]\u001b[A\n",
      "6257it [00:08, 881.89it/s]\u001b[A\n",
      "6348it [00:08, 866.00it/s]\u001b[A\n",
      "6436it [00:08, 851.10it/s]\u001b[A\n",
      "6528it [00:08, 864.41it/s]\u001b[A\n",
      "6633it [00:08, 906.58it/s]\u001b[A\n",
      "6731it [00:08, 923.93it/s]\u001b[A\n",
      "6825it [00:08, 902.70it/s]\u001b[A\n",
      "6919it [00:08, 905.45it/s]\u001b[A\n",
      "7011it [00:08, 902.75it/s]\u001b[A\n",
      "7102it [00:09, 870.18it/s]\u001b[A\n",
      "7217it [00:09, 937.13it/s]\u001b[A\n",
      "7322it [00:09, 966.38it/s]\u001b[A\n",
      "7421it [00:09, 936.00it/s]\u001b[A\n",
      "7516it [00:09, 894.37it/s]\u001b[A\n",
      "7613it [00:09, 912.77it/s]\u001b[A\n",
      "7712it [00:09, 930.23it/s]\u001b[A\n",
      "7826it [00:09, 978.16it/s]\u001b[A\n",
      "7926it [00:09, 947.33it/s]\u001b[A\n",
      "8022it [00:09, 924.62it/s]\u001b[A\n",
      "8118it [00:10, 932.09it/s]\u001b[A\n",
      "8212it [00:10, 926.30it/s]\u001b[A\n",
      "8316it [00:10, 952.39it/s]\u001b[A\n",
      "8415it [00:10, 956.89it/s]\u001b[A\n",
      "8512it [00:10, 945.67it/s]\u001b[A\n",
      "8617it [00:10, 973.78it/s]\u001b[A\n",
      "8715it [00:10, 918.57it/s]\u001b[A\n",
      "8818it [00:10, 944.31it/s]\u001b[A\n",
      "8914it [00:10, 940.84it/s]\u001b[A\n",
      "9009it [00:11, 924.23it/s]\u001b[A\n",
      "9102it [00:11, 894.45it/s]\u001b[A\n",
      "9203it [00:11, 923.43it/s]\u001b[A\n",
      "9301it [00:11, 938.48it/s]\u001b[A\n",
      "9396it [00:11, 933.74it/s]\u001b[A\n",
      "9490it [00:11, 911.58it/s]\u001b[A\n",
      "9589it [00:11, 924.30it/s]\u001b[A\n",
      "9682it [00:11, 924.72it/s]\u001b[A\n",
      "9780it [00:11, 940.36it/s]\u001b[A\n",
      "9887it [00:11, 974.28it/s]\u001b[A\n",
      "9985it [00:12, 954.58it/s]\u001b[A\n",
      "10081it [00:12, 938.55it/s]\u001b[A\n",
      "10176it [00:12, 909.52it/s]\u001b[A\n",
      "10268it [00:12, 899.24it/s]\u001b[A\n",
      "10359it [00:12, 894.46it/s]\u001b[A\n",
      "10449it [00:12, 891.58it/s]\u001b[A\n",
      "10539it [00:12, 878.59it/s]\u001b[A\n",
      "10628it [00:12, 877.75it/s]\u001b[A\n",
      "10722it [00:12, 887.82it/s]\u001b[A\n",
      "10829it [00:13, 931.71it/s]\u001b[A\n",
      "10931it [00:13, 948.49it/s]\u001b[A\n",
      "11027it [00:13, 948.23it/s]\u001b[A\n",
      "11123it [00:13, 943.17it/s]\u001b[A\n",
      "11218it [00:13, 935.14it/s]\u001b[A\n",
      "11312it [00:13, 900.58it/s]\u001b[A\n",
      "11407it [00:13, 905.71it/s]\u001b[A\n",
      "11513it [00:13, 940.53it/s]\u001b[A\n",
      "11616it [00:13, 960.38it/s]\u001b[A\n",
      "11713it [00:13, 948.87it/s]\u001b[A\n",
      "11809it [00:14, 931.09it/s]\u001b[A\n",
      "11903it [00:14, 907.75it/s]\u001b[A\n",
      "11995it [00:14, 907.52it/s]\u001b[A\n",
      "12095it [00:14, 926.46it/s]\u001b[A\n",
      "12190it [00:14, 933.06it/s]\u001b[A\n",
      "12294it [00:14, 955.91it/s]\u001b[A\n",
      "12390it [00:14, 952.61it/s]\u001b[A\n",
      "12490it [00:14, 956.00it/s]\u001b[A\n",
      "12586it [00:14, 951.54it/s]\u001b[A\n",
      "12682it [00:14, 916.26it/s]\u001b[A\n",
      "12776it [00:15, 922.00it/s]\u001b[A\n",
      "12869it [00:15, 847.02it/s]\u001b[A\n",
      "12964it [00:15, 870.46it/s]\u001b[A\n",
      "13053it [00:15, 753.01it/s]\u001b[A\n",
      "13132it [00:15, 751.18it/s]\u001b[A\n",
      "13223it [00:15, 787.83it/s]\u001b[A\n",
      "13321it [00:15, 833.44it/s]\u001b[A\n",
      "13418it [00:15, 862.50it/s]\u001b[A\n",
      "13507it [00:16, 856.53it/s]\u001b[A\n",
      "13620it [00:16, 919.45it/s]\u001b[A\n",
      "13715it [00:16, 919.18it/s]\u001b[A\n",
      "13809it [00:16, 909.72it/s]\u001b[A\n",
      "13908it [00:16, 924.39it/s]\u001b[A\n",
      "14002it [00:16, 913.89it/s]\u001b[A\n",
      "14116it [00:16, 847.41it/s]\u001b[A\n"
     ]
    }
   ],
   "source": [
    "#creation of a total score to see if the general themes appear in our documents\n",
    "#this will allow more precise selection of our papers\n",
    "total_score=[];\n",
    "for i, row in tqdm(df_papers.iterrows()):\n",
    "    total_score.append(df_papers[\"terrorism\"][i]+ df_papers[\"violence\"][i]+ \\\n",
    "                       df_papers[\"politics\"][i] + df_papers[\"economy\"][i] + \\\n",
    "                       df_papers[\"immigration\"][i]+ df_papers[\"suffering\"][i]+ \\\n",
    "                       df_papers[\"fight\"][i]+ df_papers[\"anger\"][i]+ df_papers[\"kill\"][i]+ \\\n",
    "                       df_papers[\"fear\"][i]+ df_papers[\"crime\"][i]+ df_papers[\"aggression\"][i]+ \\\n",
    "                       df_papers[\"hate\"][i]+df_papers[\"religion\"][i]+df_papers[\"war\"][i]+ \\\n",
    "                       df_papers[\"death\"][i]+df_papers[\"horror\"][i] + df_papers[\"prison\"][i] + \\\n",
    "                       df_papers[\"government\"][i] +df_papers[\"movement\"][i]+ df_papers[\"independence\"][i])\n",
    "\n"
   ]
  },
  {
   "cell_type": "code",
   "execution_count": 271,
   "metadata": {
    "scrolled": true
   },
   "outputs": [
    {
     "data": {
      "image/png": "[encoded data removed]",
      "text/plain": [
       "<Figure size 432x288 with 1 Axes>"
      ]
     },
     "metadata": {},
     "output_type": "display_data"
    }
   ],
   "source": [
    "#creation of a total score column and plotting the values\n",
    "df_papers[\"total_score\"] = total_score\n",
    "boxplot = df_papers.boxplot(column='total_score')"
   ]
  },
  {
   "cell_type": "markdown",
   "metadata": {},
   "source": [
    "We can see that some papers are very much in the gernal themes, and others have a rather low score. This is why we are going to set a threshold to eliminate papers which don't have a lot to do with the general themes."
   ]
  },
  {
   "cell_type": "code",
   "execution_count": 272,
   "metadata": {},
   "outputs": [],
   "source": [
    "#total score being over lower quartile, these articles are the ones being retained for further analysis\n",
    "df_papers=df_papers[df_papers.total_score> (df_papers.total_score.quantile(0.25))/2]"
   ]
  },
  {
   "cell_type": "code",
   "execution_count": 273,
   "metadata": {},
   "outputs": [
    {
     "data": {
      "image/png": "[encoded data removed]",
      "text/plain": [
       "<Figure size 1296x648 with 1 Axes>"
      ]
     },
     "metadata": {},
     "output_type": "display_data"
    }
   ],
   "source": [
    "#now that the two data sets are combined, the general distribution according to the years\n",
    "YEARS = df_papers['year'].max()-df_papers['year'].min()\n",
    "#to see the distribution of the papers from 1997 to 2018 from ALL THE NEWS\n",
    "\n",
    "fig, ax = plt.subplots(figsize=(18,9))\n",
    "\n",
    "plt.title(\"Distribution of the papers per year\")\n",
    "plt.xlabel(\"date\") \n",
    "plt.ylabel(\"Number of Articles\")\n",
    "ax.hist(df_papers['year'], bins= YEARS)\n",
    "plt.show()"
   ]
  },
  {
   "cell_type": "markdown",
   "metadata": {},
   "source": [
    "It is very clear that the more recent years are far more represented due to all the news inproportionate representation of articles. Another important aspect which needs to be considered is that in the more recent years a higher amount of attacks were recorded. However even though we wanted to have more complete coverage over the years by adding the new york time, we are far from having a homogeneous distribution of news coverage. This is clearly one of our limitations for our news coverage analysis!\n"
   ]
  },
  {
   "cell_type": "code",
   "execution_count": 274,
   "metadata": {},
   "outputs": [],
   "source": [
    "# functions to extract countries and cities from lists which are fed\n",
    "def extract_countries(liste) :\n",
    "    countries = []\n",
    "    for country in pycountry.countries:\n",
    "        if country.name in liste:\n",
    "            countries.append(country.name)     \n",
    "    return countries\n",
    "\n",
    "def extract_cities(liste):\n",
    "    cities = []\n",
    "    places = GeoText(str(liste))\n",
    "    places.cities\n",
    "    if len(places.cities)>0:\n",
    "        cities= places.cities       \n",
    "    return cities"
   ]
  },
  {
   "cell_type": "code",
   "execution_count": 275,
   "metadata": {},
   "outputs": [],
   "source": [
    "#extracting countries and cities of our papers dataframe, by applying our extraction functions \n",
    "#on our list of locations\n",
    "df_papers['countries'] = df_papers.locations.apply(lambda x: list(set(extract_countries(x))))\n",
    "df_papers['cities'] = df_papers.locations.apply(lambda x: list(set(extract_cities(x))) )\n",
    "\n",
    "#storing this dataframe as a pickle file\n",
    "df_papers.to_pickle(\"../../data/df_papers_countries.pkl\")"
   ]
  },
  {
   "cell_type": "code",
   "execution_count": 276,
   "metadata": {},
   "outputs": [],
   "source": [
    "df_papers = pd.read_pickle('../../data/df_papers_countries.pkl')\n",
    "\n",
    "#creating a countries dataframe as to not overwrite our df_papers\n",
    "df_countries=df_papers\n",
    "#making sure that countries can be read properly\n",
    "df_countries=df_countries.explode('countries').reset_index(drop='index')\n",
    "df_countries.countries=df_countries.countries.str.strip('[]')"
   ]
  },
  {
   "cell_type": "code",
   "execution_count": 277,
   "metadata": {
    "scrolled": true
   },
   "outputs": [
    {
     "name": "stderr",
     "output_type": "stream",
     "text": [
      "\n",
      "0it [00:00, ?it/s]\u001b[A\n",
      "124it [00:00, 1221.45it/s]\u001b[A\n",
      "394it [00:00, 1460.49it/s]\u001b[A\n",
      "726it [00:00, 1751.57it/s]\u001b[A\n",
      "1047it [00:00, 2026.32it/s]\u001b[A\n",
      "1423it [00:00, 2349.80it/s]\u001b[A\n",
      "1713it [00:00, 2486.84it/s]\u001b[A\n",
      "2035it [00:00, 2667.49it/s]\u001b[A\n",
      "2322it [00:00, 2721.59it/s]\u001b[A\n",
      "2633it [00:00, 2819.06it/s]\u001b[A\n",
      "2930it [00:01, 2856.59it/s]\u001b[A\n",
      "3224it [00:01, 2618.05it/s]\u001b[A\n",
      "3608it [00:01, 2892.92it/s]\u001b[A\n",
      "3913it [00:01, 2870.18it/s]\u001b[A\n",
      "4218it [00:01, 2895.76it/s]\u001b[A\n",
      "4622it [00:01, 3161.12it/s]\u001b[A\n",
      "5006it [00:01, 3309.69it/s]\u001b[A\n",
      "5348it [00:01, 3241.94it/s]\u001b[A\n",
      "5688it [00:01, 3281.32it/s]\u001b[A\n",
      "6085it [00:01, 3442.05it/s]\u001b[A\n",
      "6436it [00:02, 3200.80it/s]\u001b[A\n",
      "6764it [00:02, 2869.04it/s]\u001b[A\n",
      "7063it [00:02, 2872.04it/s]\u001b[A\n",
      "7359it [00:02, 2823.87it/s]\u001b[A\n",
      "7670it [00:02, 2876.38it/s]\u001b[A\n",
      "7970it [00:02, 2896.77it/s]\u001b[A\n",
      "8265it [00:02, 2891.11it/s]\u001b[A\n",
      "8564it [00:02, 2899.73it/s]\u001b[A\n",
      "8874it [00:02, 2951.60it/s]\u001b[A\n",
      "9171it [00:03, 2862.44it/s]\u001b[A\n",
      "9506it [00:03, 2988.55it/s]\u001b[A\n",
      "9840it [00:03, 3066.64it/s]\u001b[A\n",
      "10166it [00:03, 3113.37it/s]\u001b[A\n",
      "10510it [00:03, 3170.18it/s]\u001b[A\n",
      "10829it [00:03, 3051.41it/s]\u001b[A\n",
      "11137it [00:03, 3021.35it/s]\u001b[A\n",
      "11441it [00:03, 2979.30it/s]\u001b[A\n",
      "11741it [00:03, 2765.23it/s]\u001b[A\n",
      "12022it [00:04, 2764.28it/s]\u001b[A\n",
      "12316it [00:04, 2812.87it/s]\u001b[A\n",
      "12655it [00:04, 2950.34it/s]\u001b[A\n",
      "12954it [00:04, 2862.95it/s]\u001b[A\n",
      "13244it [00:04, 2845.81it/s]\u001b[A\n",
      "13531it [00:04, 2813.71it/s]\u001b[A\n",
      "13845it [00:04, 2887.70it/s]\u001b[A\n",
      "14136it [00:04, 2888.52it/s]\u001b[A\n",
      "14426it [00:04, 2876.71it/s]\u001b[A\n",
      "14715it [00:04, 2836.57it/s]\u001b[A\n",
      "15003it [00:05, 2849.12it/s]\u001b[A\n",
      "15339it [00:05, 2966.69it/s]\u001b[A\n",
      "15797it [00:05, 3317.24it/s]\u001b[A\n",
      "16447it [00:05, 3888.18it/s]\u001b[A\n",
      "17240it [00:05, 4558.37it/s]\u001b[A\n",
      "18019it [00:05, 5165.28it/s]\u001b[A\n",
      "18740it [00:05, 5593.04it/s]\u001b[A\n",
      "19368it [00:05, 5056.47it/s]\u001b[A\n",
      "19932it [00:05, 4565.83it/s]\u001b[A\n",
      "20438it [00:06, 3507.37it/s]\u001b[A\n",
      "20904it [00:06, 3723.24it/s]\u001b[A\n",
      "21331it [00:06, 2260.59it/s]\u001b[A\n",
      "21665it [00:06, 2060.88it/s]\u001b[A\n",
      "22009it [00:06, 2339.12it/s]\u001b[A\n",
      "22311it [00:07, 1559.93it/s]\u001b[A\n",
      "22549it [00:07, 1475.94it/s]\u001b[A\n",
      "22805it [00:07, 1688.28it/s]\u001b[A\n",
      "23046it [00:07, 1851.80it/s]\u001b[A\n",
      "23272it [00:07, 1680.31it/s]\u001b[A\n",
      "23472it [00:07, 1711.92it/s]\u001b[A\n",
      "23668it [00:08, 1775.96it/s]\u001b[A\n",
      "23912it [00:08, 1930.50it/s]\u001b[A\n",
      "24130it [00:08, 1995.09it/s]\u001b[A\n",
      "24341it [00:08, 1548.47it/s]\u001b[A\n",
      "24529it [00:08, 1631.86it/s]\u001b[A\n",
      "24770it [00:08, 1803.92it/s]\u001b[A\n",
      "25244it [00:08, 2856.26it/s]\u001b[A\n"
     ]
    }
   ],
   "source": [
    "#creating a new tag according to continent\n",
    "Continent = []\n",
    "df_countries.countries=df_countries.countries.astype(str)\n",
    "for index, row in tqdm(df_countries.iterrows()):\n",
    "    #want to extract the continent froma country as soon as the country is not a \"nan\"\n",
    "    if(row['countries']!='nan'):\n",
    "        \n",
    "        country_code = pc.country_name_to_country_alpha2(df_countries.countries[index], cn_name_format=\"default\")\n",
    "        if (country_code=='AQ'):\n",
    "            Continent.append('AQ')\n",
    "        else:\n",
    "            #function which can extract the continent if the country code is fed into it\n",
    "            continent_name = pc.country_alpha2_to_continent_code(country_code)\n",
    "            Continent.append(continent_name)\n",
    "    else:\n",
    "        Continent.append('Nan')\n",
    "#stocking this information in a new column continent\n",
    "df_countries['continent']=Continent    \n",
    "\n",
    "#storing this dataframe as a pickle file\n",
    "df_countries.to_pickle(\"../../data/df_continents.pkl\")"
   ]
  },
  {
   "cell_type": "code",
   "execution_count": 278,
   "metadata": {},
   "outputs": [],
   "source": [
    "#read from here for dataframe with continents\n",
    "df_countries = pd.read_pickle('../../data/df_continents.pkl')"
   ]
  },
  {
   "cell_type": "code",
   "execution_count": 279,
   "metadata": {
    "scrolled": true
   },
   "outputs": [
    {
     "data": {
      "text/plain": [
       "AS     9094\n",
       "NA     4767\n",
       "Nan    4596\n",
       "EU     3972\n",
       "AF     1769\n",
       "OC      538\n",
       "SA      507\n",
       "AQ        1\n",
       "Name: continent, dtype: int64"
      ]
     },
     "execution_count": 279,
     "metadata": {},
     "output_type": "execute_result"
    }
   ],
   "source": [
    "df_countries.continent.value_counts()"
   ]
  },
  {
   "cell_type": "markdown",
   "metadata": {},
   "source": [
    "In this representation, we can see that most attacks occur in Asia. There is quite a large portions to which no continent can be attributed. This could be due to the fact that the country is not recognized. "
   ]
  },
  {
   "cell_type": "code",
   "execution_count": 280,
   "metadata": {},
   "outputs": [],
   "source": [
    "df=df_countries.countries.value_counts()"
   ]
  },
  {
   "cell_type": "code",
   "execution_count": 281,
   "metadata": {
    "scrolled": true
   },
   "outputs": [
    {
     "data": {
      "text/plain": [
       "nan              4596\n",
       "United States    3392\n",
       "China            1773\n",
       "Iraq             1133\n",
       "Japan             919\n",
       "                 ... \n",
       "Antarctica          1\n",
       "Gabon               1\n",
       "Guernsey            1\n",
       "Tajikistan          1\n",
       "Lesotho             1\n",
       "Name: countries, Length: 172, dtype: int64"
      ]
     },
     "execution_count": 281,
     "metadata": {},
     "output_type": "execute_result"
    }
   ],
   "source": [
    "df"
   ]
  },
  {
   "cell_type": "markdown",
   "metadata": {},
   "source": [
    "The country the most represented within the articles is the United States. This makes sense as the news articles are american. China is surprisingly represented a lot as well. This could be due to anything related with economy or trade, but this is just a hypothesis. Iraq is also rather frequently represented. This is not so suprising either, as the United States was at war with Iraq during the time period considered, and on top of that, Iraq is the country where the most amount of terror attacks seem to occur according to the terror database."
   ]
  },
  {
   "cell_type": "code",
   "execution_count": 282,
   "metadata": {},
   "outputs": [],
   "source": [
    "df_cities=df_papers.explode('cities').reset_index(drop='index')\n",
    "df_cities.cities=df_cities.cities.str.strip('[]')"
   ]
  },
  {
   "cell_type": "code",
   "execution_count": 283,
   "metadata": {
    "scrolled": true
   },
   "outputs": [
    {
     "data": {
      "text/plain": [
       "Washington    1959\n",
       "New York      1560\n",
       "Pyongyang      788\n",
       "Paris          768\n",
       "London         516\n",
       "              ... \n",
       "Mackay           1\n",
       "Bursa            1\n",
       "Grasse           1\n",
       "Rio Grande       1\n",
       "Kunming          1\n",
       "Name: cities, Length: 1265, dtype: int64"
      ]
     },
     "execution_count": 283,
     "metadata": {},
     "output_type": "execute_result"
    }
   ],
   "source": [
    "df_cities.cities.value_counts()"
   ]
  },
  {
   "cell_type": "markdown",
   "metadata": {},
   "source": [
    "The city the most represented is Washington. This too makes sense, any article considering anything related with american government wll be over-represented. This is probably not an axis which is of specific interest for future analysis."
   ]
  },
  {
   "cell_type": "markdown",
   "metadata": {},
   "source": [
    "# Generation of wordclouds"
   ]
  },
  {
   "cell_type": "code",
   "execution_count": 141,
   "metadata": {},
   "outputs": [],
   "source": [
    "#extraction of the top themes to represent which themes are present in parallel \n",
    "#to terrorism in our article collection\n",
    "df_papers.top_themes=df_papers.top_themes.str.split(',')\n",
    "#creating a list of the exploded themes\n",
    "df_top3_explode=df_papers.top_themes.explode()\n",
    "#replacing portions of the string\n",
    "df_top3_explode=df_top3_explode.str.strip(\"[]\").str.strip(\" '\").str.strip(\"''\")\n"
   ]
  },
  {
   "cell_type": "code",
   "execution_count": 142,
   "metadata": {},
   "outputs": [
    {
     "data": {
      "image/png": "[encoded data removed]",
      "text/plain": [
       "<Figure size 1080x1440 with 1 Axes>"
      ]
     },
     "metadata": {},
     "output_type": "display_data"
    },
    {
     "data": {
      "text/plain": [
       "<Figure size 432x288 with 0 Axes>"
      ]
     },
     "metadata": {},
     "output_type": "display_data"
    }
   ],
   "source": [
    "#creating a word cloud of the main themes \n",
    "wordcloud = WordCloud(#width = 5000, height = 1200, \n",
    "                background_color ='black', \n",
    "                #stopwords = stopwords, \n",
    "                #min_font_size=100,\n",
    "                max_font_size= 1000,\n",
    "                #max_words = 50,\n",
    "                ).generate_from_frequencies(df_top3_explode.value_counts()) \n",
    "\n",
    "#change the color setting\n",
    "wordcloud.recolor(color_func = grey_color_func)\n",
    "# plot the WordCloud image                        \n",
    "plt.figure(figsize = (15, 20), facecolor = 'black') \n",
    "plt.imshow(wordcloud) \n",
    "plt.axis(\"off\") \n",
    "plt.tight_layout(pad = 0) \n",
    "#plt.savefig('../../data/article_themes_wordmap.png')\n",
    "  \n",
    "plt.show() \n",
    "plt.savefig('../../data/themes_wordcloud.png')"
   ]
  },
  {
   "cell_type": "markdown",
   "metadata": {},
   "source": [
    "## Radar Chart plot"
   ]
  },
  {
   "cell_type": "markdown",
   "metadata": {},
   "source": [
    "This plot illustrates the evolution of the themes accoring to the continents over the years."
   ]
  },
  {
   "cell_type": "code",
   "execution_count": 302,
   "metadata": {},
   "outputs": [],
   "source": [
    "#run from here to obtain the dataset with the continents\n",
    "df_continents = pd.read_pickle('../../data/df_continents_.pkl')"
   ]
  },
  {
   "cell_type": "code",
   "execution_count": 303,
   "metadata": {},
   "outputs": [
    {
     "data": {
      "text/html": [
       "<div>\n",
       "<style scoped>\n",
       "    .dataframe tbody tr th:only-of-type {\n",
       "        vertical-align: middle;\n",
       "    }\n",
       "\n",
       "    .dataframe tbody tr th {\n",
       "        vertical-align: top;\n",
       "    }\n",
       "\n",
       "    .dataframe thead th {\n",
       "        text-align: right;\n",
       "    }\n",
       "</style>\n",
       "<table border=\"1\" class=\"dataframe\">\n",
       "  <thead>\n",
       "    <tr style=\"text-align: right;\">\n",
       "      <th></th>\n",
       "      <th>Unnamed: 0</th>\n",
       "      <th>aggression</th>\n",
       "      <th>anger</th>\n",
       "      <th>content</th>\n",
       "      <th>crime</th>\n",
       "      <th>date</th>\n",
       "      <th>death</th>\n",
       "      <th>desc</th>\n",
       "      <th>economy</th>\n",
       "      <th>fear</th>\n",
       "      <th>...</th>\n",
       "      <th>terrorism</th>\n",
       "      <th>title</th>\n",
       "      <th>top_themes</th>\n",
       "      <th>violence</th>\n",
       "      <th>war</th>\n",
       "      <th>word_counts</th>\n",
       "      <th>year</th>\n",
       "      <th>countries</th>\n",
       "      <th>cities</th>\n",
       "      <th>continent</th>\n",
       "    </tr>\n",
       "  </thead>\n",
       "  <tbody>\n",
       "    <tr>\n",
       "      <th>0</th>\n",
       "      <td>0.0</td>\n",
       "      <td>0.005484</td>\n",
       "      <td>0.000000</td>\n",
       "      <td>[&lt;meta content=\"en-US\" data-rh=\"true\" itemprop...</td>\n",
       "      <td>0.005484</td>\n",
       "      <td>1997-10-16</td>\n",
       "      <td>0.000000</td>\n",
       "      <td>NaN</td>\n",
       "      <td>0.0</td>\n",
       "      <td>0.0</td>\n",
       "      <td>...</td>\n",
       "      <td>0.010969</td>\n",
       "      <td>b'Tamil Tigers Are Linked To Fatal Blast In Sr...</td>\n",
       "      <td>['terrorism', 'war', 'violence']</td>\n",
       "      <td>0.005484</td>\n",
       "      <td>0.010969</td>\n",
       "      <td>585.0</td>\n",
       "      <td>1997</td>\n",
       "      <td>Sri Lanka</td>\n",
       "      <td>[Colombo]</td>\n",
       "      <td>AS</td>\n",
       "    </tr>\n",
       "    <tr>\n",
       "      <th>1</th>\n",
       "      <td>1.0</td>\n",
       "      <td>0.013575</td>\n",
       "      <td>0.006787</td>\n",
       "      <td>[&lt;meta content=\"en-US\" data-rh=\"true\" itemprop...</td>\n",
       "      <td>0.013575</td>\n",
       "      <td>1997-10-16</td>\n",
       "      <td>0.006787</td>\n",
       "      <td>NaN</td>\n",
       "      <td>0.0</td>\n",
       "      <td>0.0</td>\n",
       "      <td>...</td>\n",
       "      <td>0.020362</td>\n",
       "      <td>b'Foreign Affairs; Cover Story'</td>\n",
       "      <td>['terrorism', 'war', 'kill']</td>\n",
       "      <td>0.000000</td>\n",
       "      <td>0.020362</td>\n",
       "      <td>755.0</td>\n",
       "      <td>1997</td>\n",
       "      <td>Jordan</td>\n",
       "      <td>[]</td>\n",
       "      <td>AS</td>\n",
       "    </tr>\n",
       "    <tr>\n",
       "      <th>2</th>\n",
       "      <td>1.0</td>\n",
       "      <td>0.013575</td>\n",
       "      <td>0.006787</td>\n",
       "      <td>[&lt;meta content=\"en-US\" data-rh=\"true\" itemprop...</td>\n",
       "      <td>0.013575</td>\n",
       "      <td>1997-10-16</td>\n",
       "      <td>0.006787</td>\n",
       "      <td>NaN</td>\n",
       "      <td>0.0</td>\n",
       "      <td>0.0</td>\n",
       "      <td>...</td>\n",
       "      <td>0.020362</td>\n",
       "      <td>b'Foreign Affairs; Cover Story'</td>\n",
       "      <td>['terrorism', 'war', 'kill']</td>\n",
       "      <td>0.000000</td>\n",
       "      <td>0.020362</td>\n",
       "      <td>755.0</td>\n",
       "      <td>1997</td>\n",
       "      <td>Israel</td>\n",
       "      <td>[]</td>\n",
       "      <td>AS</td>\n",
       "    </tr>\n",
       "    <tr>\n",
       "      <th>3</th>\n",
       "      <td>2.0</td>\n",
       "      <td>0.000000</td>\n",
       "      <td>0.000000</td>\n",
       "      <td>[&lt;meta content=\"en-US\" data-rh=\"true\" itemprop...</td>\n",
       "      <td>0.000000</td>\n",
       "      <td>1997-10-17</td>\n",
       "      <td>0.000000</td>\n",
       "      <td>NaN</td>\n",
       "      <td>0.0</td>\n",
       "      <td>0.0</td>\n",
       "      <td>...</td>\n",
       "      <td>0.006944</td>\n",
       "      <td>b\"Bombing's Fallout Adds to the Gloom Hanging ...</td>\n",
       "      <td>['terrorism', 'violence', 'suffering']</td>\n",
       "      <td>0.006944</td>\n",
       "      <td>0.000000</td>\n",
       "      <td>563.0</td>\n",
       "      <td>1997</td>\n",
       "      <td>Sri Lanka</td>\n",
       "      <td>[Colombo]</td>\n",
       "      <td>AS</td>\n",
       "    </tr>\n",
       "    <tr>\n",
       "      <th>4</th>\n",
       "      <td>3.0</td>\n",
       "      <td>0.000000</td>\n",
       "      <td>0.000000</td>\n",
       "      <td>[&lt;meta content=\"en-US\" data-rh=\"true\" itemprop...</td>\n",
       "      <td>0.019481</td>\n",
       "      <td>1997-10-19</td>\n",
       "      <td>0.000000</td>\n",
       "      <td>NaN</td>\n",
       "      <td>0.0</td>\n",
       "      <td>0.0</td>\n",
       "      <td>...</td>\n",
       "      <td>0.006494</td>\n",
       "      <td>b'29 of 80 Potential Jurors Have Qualified to ...</td>\n",
       "      <td>['crime', 'terrorism', 'war']</td>\n",
       "      <td>0.000000</td>\n",
       "      <td>0.006494</td>\n",
       "      <td>560.0</td>\n",
       "      <td>1997</td>\n",
       "      <td>nan</td>\n",
       "      <td>[Oklahoma City]</td>\n",
       "      <td>Nan</td>\n",
       "    </tr>\n",
       "    <tr>\n",
       "      <th>...</th>\n",
       "      <td>...</td>\n",
       "      <td>...</td>\n",
       "      <td>...</td>\n",
       "      <td>...</td>\n",
       "      <td>...</td>\n",
       "      <td>...</td>\n",
       "      <td>...</td>\n",
       "      <td>...</td>\n",
       "      <td>...</td>\n",
       "      <td>...</td>\n",
       "      <td>...</td>\n",
       "      <td>...</td>\n",
       "      <td>...</td>\n",
       "      <td>...</td>\n",
       "      <td>...</td>\n",
       "      <td>...</td>\n",
       "      <td>...</td>\n",
       "      <td>...</td>\n",
       "      <td>...</td>\n",
       "      <td>...</td>\n",
       "      <td>...</td>\n",
       "    </tr>\n",
       "    <tr>\n",
       "      <th>30132</th>\n",
       "      <td>NaN</td>\n",
       "      <td>0.001203</td>\n",
       "      <td>0.000000</td>\n",
       "      <td>NaN</td>\n",
       "      <td>0.006017</td>\n",
       "      <td>2016-12-30</td>\n",
       "      <td>0.001203</td>\n",
       "      <td>BEIJING  —   China promised Friday to halt ...</td>\n",
       "      <td>0.0</td>\n",
       "      <td>0.0</td>\n",
       "      <td>...</td>\n",
       "      <td>0.004813</td>\n",
       "      <td>China’s vow to shut down its ivory trade by th...</td>\n",
       "      <td>['government', 'crime', 'terrorism']</td>\n",
       "      <td>0.000000</td>\n",
       "      <td>0.001203</td>\n",
       "      <td>852.0</td>\n",
       "      <td>2016</td>\n",
       "      <td>Hong Kong</td>\n",
       "      <td>[]</td>\n",
       "      <td>AS</td>\n",
       "    </tr>\n",
       "    <tr>\n",
       "      <th>30133</th>\n",
       "      <td>NaN</td>\n",
       "      <td>0.001203</td>\n",
       "      <td>0.000000</td>\n",
       "      <td>NaN</td>\n",
       "      <td>0.006017</td>\n",
       "      <td>2016-12-30</td>\n",
       "      <td>0.001203</td>\n",
       "      <td>BEIJING  —   China promised Friday to halt ...</td>\n",
       "      <td>0.0</td>\n",
       "      <td>0.0</td>\n",
       "      <td>...</td>\n",
       "      <td>0.004813</td>\n",
       "      <td>China’s vow to shut down its ivory trade by th...</td>\n",
       "      <td>['government', 'crime', 'terrorism']</td>\n",
       "      <td>0.000000</td>\n",
       "      <td>0.001203</td>\n",
       "      <td>852.0</td>\n",
       "      <td>2016</td>\n",
       "      <td>China</td>\n",
       "      <td>[]</td>\n",
       "      <td>AS</td>\n",
       "    </tr>\n",
       "    <tr>\n",
       "      <th>30134</th>\n",
       "      <td>NaN</td>\n",
       "      <td>0.001203</td>\n",
       "      <td>0.000000</td>\n",
       "      <td>NaN</td>\n",
       "      <td>0.006017</td>\n",
       "      <td>2016-12-30</td>\n",
       "      <td>0.001203</td>\n",
       "      <td>BEIJING  —   China promised Friday to halt ...</td>\n",
       "      <td>0.0</td>\n",
       "      <td>0.0</td>\n",
       "      <td>...</td>\n",
       "      <td>0.004813</td>\n",
       "      <td>China’s vow to shut down its ivory trade by th...</td>\n",
       "      <td>['government', 'crime', 'terrorism']</td>\n",
       "      <td>0.000000</td>\n",
       "      <td>0.001203</td>\n",
       "      <td>852.0</td>\n",
       "      <td>2016</td>\n",
       "      <td>Japan</td>\n",
       "      <td>[]</td>\n",
       "      <td>AS</td>\n",
       "    </tr>\n",
       "    <tr>\n",
       "      <th>30135</th>\n",
       "      <td>NaN</td>\n",
       "      <td>0.001203</td>\n",
       "      <td>0.000000</td>\n",
       "      <td>NaN</td>\n",
       "      <td>0.006017</td>\n",
       "      <td>2016-12-30</td>\n",
       "      <td>0.001203</td>\n",
       "      <td>BEIJING  —   China promised Friday to halt ...</td>\n",
       "      <td>0.0</td>\n",
       "      <td>0.0</td>\n",
       "      <td>...</td>\n",
       "      <td>0.004813</td>\n",
       "      <td>China’s vow to shut down its ivory trade by th...</td>\n",
       "      <td>['government', 'crime', 'terrorism']</td>\n",
       "      <td>0.000000</td>\n",
       "      <td>0.001203</td>\n",
       "      <td>852.0</td>\n",
       "      <td>2016</td>\n",
       "      <td>United States</td>\n",
       "      <td>[]</td>\n",
       "      <td>NA</td>\n",
       "    </tr>\n",
       "    <tr>\n",
       "      <th>30136</th>\n",
       "      <td>NaN</td>\n",
       "      <td>0.001203</td>\n",
       "      <td>0.000000</td>\n",
       "      <td>NaN</td>\n",
       "      <td>0.006017</td>\n",
       "      <td>2016-12-30</td>\n",
       "      <td>0.001203</td>\n",
       "      <td>BEIJING  —   China promised Friday to halt ...</td>\n",
       "      <td>0.0</td>\n",
       "      <td>0.0</td>\n",
       "      <td>...</td>\n",
       "      <td>0.004813</td>\n",
       "      <td>China’s vow to shut down its ivory trade by th...</td>\n",
       "      <td>['government', 'crime', 'terrorism']</td>\n",
       "      <td>0.000000</td>\n",
       "      <td>0.001203</td>\n",
       "      <td>852.0</td>\n",
       "      <td>2016</td>\n",
       "      <td>Viet Nam</td>\n",
       "      <td>[]</td>\n",
       "      <td>AS</td>\n",
       "    </tr>\n",
       "  </tbody>\n",
       "</table>\n",
       "<p>30137 rows × 35 columns</p>\n",
       "</div>"
      ],
      "text/plain": [
       "       Unnamed: 0  aggression     anger  \\\n",
       "0             0.0    0.005484  0.000000   \n",
       "1             1.0    0.013575  0.006787   \n",
       "2             1.0    0.013575  0.006787   \n",
       "3             2.0    0.000000  0.000000   \n",
       "4             3.0    0.000000  0.000000   \n",
       "...           ...         ...       ...   \n",
       "30132         NaN    0.001203  0.000000   \n",
       "30133         NaN    0.001203  0.000000   \n",
       "30134         NaN    0.001203  0.000000   \n",
       "30135         NaN    0.001203  0.000000   \n",
       "30136         NaN    0.001203  0.000000   \n",
       "\n",
       "                                                 content     crime  \\\n",
       "0      [<meta content=\"en-US\" data-rh=\"true\" itemprop...  0.005484   \n",
       "1      [<meta content=\"en-US\" data-rh=\"true\" itemprop...  0.013575   \n",
       "2      [<meta content=\"en-US\" data-rh=\"true\" itemprop...  0.013575   \n",
       "3      [<meta content=\"en-US\" data-rh=\"true\" itemprop...  0.000000   \n",
       "4      [<meta content=\"en-US\" data-rh=\"true\" itemprop...  0.019481   \n",
       "...                                                  ...       ...   \n",
       "30132                                                NaN  0.006017   \n",
       "30133                                                NaN  0.006017   \n",
       "30134                                                NaN  0.006017   \n",
       "30135                                                NaN  0.006017   \n",
       "30136                                                NaN  0.006017   \n",
       "\n",
       "             date     death  \\\n",
       "0      1997-10-16  0.000000   \n",
       "1      1997-10-16  0.006787   \n",
       "2      1997-10-16  0.006787   \n",
       "3      1997-10-17  0.000000   \n",
       "4      1997-10-19  0.000000   \n",
       "...           ...       ...   \n",
       "30132  2016-12-30  0.001203   \n",
       "30133  2016-12-30  0.001203   \n",
       "30134  2016-12-30  0.001203   \n",
       "30135  2016-12-30  0.001203   \n",
       "30136  2016-12-30  0.001203   \n",
       "\n",
       "                                                    desc  economy  fear  ...  \\\n",
       "0                                                    NaN      0.0   0.0  ...   \n",
       "1                                                    NaN      0.0   0.0  ...   \n",
       "2                                                    NaN      0.0   0.0  ...   \n",
       "3                                                    NaN      0.0   0.0  ...   \n",
       "4                                                    NaN      0.0   0.0  ...   \n",
       "...                                                  ...      ...   ...  ...   \n",
       "30132     BEIJING  —   China promised Friday to halt ...      0.0   0.0  ...   \n",
       "30133     BEIJING  —   China promised Friday to halt ...      0.0   0.0  ...   \n",
       "30134     BEIJING  —   China promised Friday to halt ...      0.0   0.0  ...   \n",
       "30135     BEIJING  —   China promised Friday to halt ...      0.0   0.0  ...   \n",
       "30136     BEIJING  —   China promised Friday to halt ...      0.0   0.0  ...   \n",
       "\n",
       "       terrorism                                              title  \\\n",
       "0       0.010969  b'Tamil Tigers Are Linked To Fatal Blast In Sr...   \n",
       "1       0.020362                    b'Foreign Affairs; Cover Story'   \n",
       "2       0.020362                    b'Foreign Affairs; Cover Story'   \n",
       "3       0.006944  b\"Bombing's Fallout Adds to the Gloom Hanging ...   \n",
       "4       0.006494  b'29 of 80 Potential Jurors Have Qualified to ...   \n",
       "...          ...                                                ...   \n",
       "30132   0.004813  China’s vow to shut down its ivory trade by th...   \n",
       "30133   0.004813  China’s vow to shut down its ivory trade by th...   \n",
       "30134   0.004813  China’s vow to shut down its ivory trade by th...   \n",
       "30135   0.004813  China’s vow to shut down its ivory trade by th...   \n",
       "30136   0.004813  China’s vow to shut down its ivory trade by th...   \n",
       "\n",
       "                                   top_themes  violence       war  \\\n",
       "0            ['terrorism', 'war', 'violence']  0.005484  0.010969   \n",
       "1                ['terrorism', 'war', 'kill']  0.000000  0.020362   \n",
       "2                ['terrorism', 'war', 'kill']  0.000000  0.020362   \n",
       "3      ['terrorism', 'violence', 'suffering']  0.006944  0.000000   \n",
       "4               ['crime', 'terrorism', 'war']  0.000000  0.006494   \n",
       "...                                       ...       ...       ...   \n",
       "30132    ['government', 'crime', 'terrorism']  0.000000  0.001203   \n",
       "30133    ['government', 'crime', 'terrorism']  0.000000  0.001203   \n",
       "30134    ['government', 'crime', 'terrorism']  0.000000  0.001203   \n",
       "30135    ['government', 'crime', 'terrorism']  0.000000  0.001203   \n",
       "30136    ['government', 'crime', 'terrorism']  0.000000  0.001203   \n",
       "\n",
       "       word_counts  year      countries           cities  continent  \n",
       "0            585.0  1997      Sri Lanka        [Colombo]         AS  \n",
       "1            755.0  1997         Jordan               []         AS  \n",
       "2            755.0  1997         Israel               []         AS  \n",
       "3            563.0  1997      Sri Lanka        [Colombo]         AS  \n",
       "4            560.0  1997            nan  [Oklahoma City]        Nan  \n",
       "...            ...   ...            ...              ...        ...  \n",
       "30132        852.0  2016      Hong Kong               []         AS  \n",
       "30133        852.0  2016          China               []         AS  \n",
       "30134        852.0  2016          Japan               []         AS  \n",
       "30135        852.0  2016  United States               []         NA  \n",
       "30136        852.0  2016       Viet Nam               []         AS  \n",
       "\n",
       "[30137 rows x 35 columns]"
      ]
     },
     "execution_count": 303,
     "metadata": {},
     "output_type": "execute_result"
    }
   ],
   "source": [
    "df_continents"
   ]
  },
  {
   "cell_type": "code",
   "execution_count": 304,
   "metadata": {},
   "outputs": [],
   "source": [
    "df_continents.drop(columns=['desc','date','publication','title','top_themes','locations','word_counts','key_0','cities'],inplace =True)\n",
    "#Replace the Nan string values with nan\n",
    "df_continents.replace(['Nan', 'nan'], np.nan, inplace=True)\n",
    "df_continents.dropna(inplace =True)"
   ]
  },
  {
   "cell_type": "markdown",
   "metadata": {},
   "source": [
    "Group countries dataset by year and continent for Radar Chart"
   ]
  },
  {
   "cell_type": "code",
   "execution_count": 305,
   "metadata": {},
   "outputs": [],
   "source": [
    "df_time = df_continents.groupby(['year','continent']).sum()"
   ]
  },
  {
   "cell_type": "markdown",
   "metadata": {},
   "source": [
    "To have a normalised representation of the scores of the different theme per continent:"
   ]
  },
  {
   "cell_type": "code",
   "execution_count": 306,
   "metadata": {},
   "outputs": [
    {
     "data": {
      "text/html": [
       "<div>\n",
       "<style scoped>\n",
       "    .dataframe tbody tr th:only-of-type {\n",
       "        vertical-align: middle;\n",
       "    }\n",
       "\n",
       "    .dataframe tbody tr th {\n",
       "        vertical-align: top;\n",
       "    }\n",
       "\n",
       "    .dataframe thead th {\n",
       "        text-align: right;\n",
       "    }\n",
       "</style>\n",
       "<table border=\"1\" class=\"dataframe\">\n",
       "  <thead>\n",
       "    <tr style=\"text-align: right;\">\n",
       "      <th></th>\n",
       "      <th>year</th>\n",
       "      <th>continent</th>\n",
       "      <th>countries</th>\n",
       "    </tr>\n",
       "  </thead>\n",
       "  <tbody>\n",
       "    <tr>\n",
       "      <th>0</th>\n",
       "      <td>1997</td>\n",
       "      <td>AF</td>\n",
       "      <td>16</td>\n",
       "    </tr>\n",
       "    <tr>\n",
       "      <th>1</th>\n",
       "      <td>1997</td>\n",
       "      <td>AS</td>\n",
       "      <td>21</td>\n",
       "    </tr>\n",
       "    <tr>\n",
       "      <th>2</th>\n",
       "      <td>1997</td>\n",
       "      <td>EU</td>\n",
       "      <td>11</td>\n",
       "    </tr>\n",
       "    <tr>\n",
       "      <th>3</th>\n",
       "      <td>1997</td>\n",
       "      <td>NA</td>\n",
       "      <td>2</td>\n",
       "    </tr>\n",
       "    <tr>\n",
       "      <th>4</th>\n",
       "      <td>1997</td>\n",
       "      <td>SA</td>\n",
       "      <td>2</td>\n",
       "    </tr>\n",
       "    <tr>\n",
       "      <th>5</th>\n",
       "      <td>1998</td>\n",
       "      <td>AF</td>\n",
       "      <td>34</td>\n",
       "    </tr>\n",
       "    <tr>\n",
       "      <th>6</th>\n",
       "      <td>1998</td>\n",
       "      <td>AS</td>\n",
       "      <td>45</td>\n",
       "    </tr>\n",
       "  </tbody>\n",
       "</table>\n",
       "</div>"
      ],
      "text/plain": [
       "   year continent  countries\n",
       "0  1997        AF         16\n",
       "1  1997        AS         21\n",
       "2  1997        EU         11\n",
       "3  1997        NA          2\n",
       "4  1997        SA          2\n",
       "5  1998        AF         34\n",
       "6  1998        AS         45"
      ]
     },
     "execution_count": 306,
     "metadata": {},
     "output_type": "execute_result"
    }
   ],
   "source": [
    "#Count the number of occurences of a country in the same year\n",
    "df_time_count = df_continents.groupby(['year','continent']).agg('countries').count().reset_index()\n",
    "df_time_count.head(7)"
   ]
  },
  {
   "cell_type": "code",
   "execution_count": 307,
   "metadata": {},
   "outputs": [
    {
     "name": "stderr",
     "output_type": "stream",
     "text": [
      "\n",
      "0it [00:00, ?it/s]\u001b[A\n",
      "30it [00:00, 294.91it/s]\u001b[A\n",
      "46it [00:00, 234.61it/s]\u001b[A\n",
      "71it [00:00, 238.53it/s]\u001b[A\n",
      "106it [00:00, 243.21it/s]\u001b[A\n"
     ]
    }
   ],
   "source": [
    "#to normalize the sum of the score obtained by aggregating by continent, for all years\n",
    "df_time_norm = []\n",
    "c=[\"terrorism\", \"violence\", \"politics\", \"economy\", \"immigration\",\"suffering\",\"fight\",\"anger\",\"kill\",\"fear\",\"crime\",\"aggression\",\"hate\",\"religion\",\"war\",\"death\",\"horror\",\"prison\",\"government\",\"movement\",\"independence\"]\n",
    "for i, row in tqdm(df_time.reset_index().iterrows()):\n",
    "    df_time_norm.append(((df_time.reset_index().loc[i][c].values)/(df_time_count['countries'][i])))\n",
    "    \n",
    "df_time[c] = df_time_norm"
   ]
  },
  {
   "cell_type": "code",
   "execution_count": 308,
   "metadata": {},
   "outputs": [],
   "source": [
    "# Fill the values of the continents with 0 when they are not represented one year (for plotting)\n",
    "continents = df_time.index.get_level_values(1).unique()\n",
    "c=[\"terrorism\", \"violence\", \"politics\", \"economy\", \"immigration\",\"suffering\",\"fight\",\"anger\",\"kill\",\"fear\", \\\n",
    "   \"crime\",\"aggression\",\"hate\",\"religion\",\"war\",\"death\",\"horror\",\"prison\",\"government\",\"movement\",\"independence\"]\n",
    "\n",
    "for group, data in df_time.groupby(level=('year')) :\n",
    "    current_targets = []\n",
    "    \n",
    "    for continent in data.index :\n",
    "        current_targets.append(continent[1])\n",
    "    \n",
    "    for t in continents : \n",
    "        if t not in current_targets :\n",
    "            df_time.at[(group, t), c] = 0\n",
    "            \n",
    "df_time.reset_index(inplace=True)\n",
    "df_time = df_time.groupby(['year','continent']).sum()"
   ]
  },
  {
   "cell_type": "code",
   "execution_count": 309,
   "metadata": {},
   "outputs": [
    {
     "data": {
      "text/html": [
       "<div>\n",
       "<style scoped>\n",
       "    .dataframe tbody tr th:only-of-type {\n",
       "        vertical-align: middle;\n",
       "    }\n",
       "\n",
       "    .dataframe tbody tr th {\n",
       "        vertical-align: top;\n",
       "    }\n",
       "\n",
       "    .dataframe thead th {\n",
       "        text-align: right;\n",
       "    }\n",
       "</style>\n",
       "<table border=\"1\" class=\"dataframe\">\n",
       "  <thead>\n",
       "    <tr style=\"text-align: right;\">\n",
       "      <th></th>\n",
       "      <th></th>\n",
       "      <th>Unnamed: 0</th>\n",
       "      <th>aggression</th>\n",
       "      <th>anger</th>\n",
       "      <th>crime</th>\n",
       "      <th>death</th>\n",
       "      <th>economy</th>\n",
       "      <th>fear</th>\n",
       "      <th>fight</th>\n",
       "      <th>government</th>\n",
       "      <th>hate</th>\n",
       "      <th>...</th>\n",
       "      <th>independence</th>\n",
       "      <th>kill</th>\n",
       "      <th>movement</th>\n",
       "      <th>politics</th>\n",
       "      <th>prison</th>\n",
       "      <th>religion</th>\n",
       "      <th>suffering</th>\n",
       "      <th>terrorism</th>\n",
       "      <th>violence</th>\n",
       "      <th>war</th>\n",
       "    </tr>\n",
       "    <tr>\n",
       "      <th>year</th>\n",
       "      <th>continent</th>\n",
       "      <th></th>\n",
       "      <th></th>\n",
       "      <th></th>\n",
       "      <th></th>\n",
       "      <th></th>\n",
       "      <th></th>\n",
       "      <th></th>\n",
       "      <th></th>\n",
       "      <th></th>\n",
       "      <th></th>\n",
       "      <th></th>\n",
       "      <th></th>\n",
       "      <th></th>\n",
       "      <th></th>\n",
       "      <th></th>\n",
       "      <th></th>\n",
       "      <th></th>\n",
       "      <th></th>\n",
       "      <th></th>\n",
       "      <th></th>\n",
       "      <th></th>\n",
       "    </tr>\n",
       "  </thead>\n",
       "  <tbody>\n",
       "    <tr>\n",
       "      <th rowspan=\"6\" valign=\"top\">1997</th>\n",
       "      <th>AF</th>\n",
       "      <td>685.0</td>\n",
       "      <td>0.001641</td>\n",
       "      <td>0.000000</td>\n",
       "      <td>0.008739</td>\n",
       "      <td>0.000570</td>\n",
       "      <td>0.0</td>\n",
       "      <td>0.000000</td>\n",
       "      <td>0.001798</td>\n",
       "      <td>0.002275</td>\n",
       "      <td>0.000460</td>\n",
       "      <td>...</td>\n",
       "      <td>0.000375</td>\n",
       "      <td>0.005596</td>\n",
       "      <td>0.000390</td>\n",
       "      <td>0.000993</td>\n",
       "      <td>0.003679</td>\n",
       "      <td>0.000000</td>\n",
       "      <td>0.000262</td>\n",
       "      <td>0.003413</td>\n",
       "      <td>0.000570</td>\n",
       "      <td>0.004306</td>\n",
       "    </tr>\n",
       "    <tr>\n",
       "      <th>AS</th>\n",
       "      <td>871.0</td>\n",
       "      <td>0.003736</td>\n",
       "      <td>0.000646</td>\n",
       "      <td>0.010686</td>\n",
       "      <td>0.003115</td>\n",
       "      <td>0.0</td>\n",
       "      <td>0.000000</td>\n",
       "      <td>0.003981</td>\n",
       "      <td>0.004642</td>\n",
       "      <td>0.001319</td>\n",
       "      <td>...</td>\n",
       "      <td>0.000646</td>\n",
       "      <td>0.006387</td>\n",
       "      <td>0.000454</td>\n",
       "      <td>0.001858</td>\n",
       "      <td>0.003405</td>\n",
       "      <td>0.000000</td>\n",
       "      <td>0.002199</td>\n",
       "      <td>0.008120</td>\n",
       "      <td>0.003150</td>\n",
       "      <td>0.008959</td>\n",
       "    </tr>\n",
       "    <tr>\n",
       "      <th>EU</th>\n",
       "      <td>666.0</td>\n",
       "      <td>0.002015</td>\n",
       "      <td>0.000000</td>\n",
       "      <td>0.014953</td>\n",
       "      <td>0.003633</td>\n",
       "      <td>0.0</td>\n",
       "      <td>0.000553</td>\n",
       "      <td>0.004120</td>\n",
       "      <td>0.004909</td>\n",
       "      <td>0.000000</td>\n",
       "      <td>...</td>\n",
       "      <td>0.000589</td>\n",
       "      <td>0.006776</td>\n",
       "      <td>0.000589</td>\n",
       "      <td>0.005446</td>\n",
       "      <td>0.006593</td>\n",
       "      <td>0.000000</td>\n",
       "      <td>0.000553</td>\n",
       "      <td>0.008454</td>\n",
       "      <td>0.003096</td>\n",
       "      <td>0.008548</td>\n",
       "    </tr>\n",
       "    <tr>\n",
       "      <th>NA</th>\n",
       "      <td>178.0</td>\n",
       "      <td>0.000000</td>\n",
       "      <td>0.000000</td>\n",
       "      <td>0.016654</td>\n",
       "      <td>0.000000</td>\n",
       "      <td>0.0</td>\n",
       "      <td>0.000000</td>\n",
       "      <td>0.000000</td>\n",
       "      <td>0.008327</td>\n",
       "      <td>0.000000</td>\n",
       "      <td>...</td>\n",
       "      <td>0.000000</td>\n",
       "      <td>0.008575</td>\n",
       "      <td>0.000000</td>\n",
       "      <td>0.002941</td>\n",
       "      <td>0.000000</td>\n",
       "      <td>0.000000</td>\n",
       "      <td>0.000000</td>\n",
       "      <td>0.002693</td>\n",
       "      <td>0.000000</td>\n",
       "      <td>0.008327</td>\n",
       "    </tr>\n",
       "    <tr>\n",
       "      <th>OC</th>\n",
       "      <td>0.0</td>\n",
       "      <td>0.000000</td>\n",
       "      <td>0.000000</td>\n",
       "      <td>0.000000</td>\n",
       "      <td>0.000000</td>\n",
       "      <td>0.0</td>\n",
       "      <td>0.000000</td>\n",
       "      <td>0.000000</td>\n",
       "      <td>0.000000</td>\n",
       "      <td>0.000000</td>\n",
       "      <td>...</td>\n",
       "      <td>0.000000</td>\n",
       "      <td>0.000000</td>\n",
       "      <td>0.000000</td>\n",
       "      <td>0.000000</td>\n",
       "      <td>0.000000</td>\n",
       "      <td>0.000000</td>\n",
       "      <td>0.000000</td>\n",
       "      <td>0.000000</td>\n",
       "      <td>0.000000</td>\n",
       "      <td>0.000000</td>\n",
       "    </tr>\n",
       "    <tr>\n",
       "      <th>SA</th>\n",
       "      <td>87.0</td>\n",
       "      <td>0.003240</td>\n",
       "      <td>0.000000</td>\n",
       "      <td>0.009000</td>\n",
       "      <td>0.000000</td>\n",
       "      <td>0.0</td>\n",
       "      <td>0.000000</td>\n",
       "      <td>0.000000</td>\n",
       "      <td>0.006240</td>\n",
       "      <td>0.003240</td>\n",
       "      <td>...</td>\n",
       "      <td>0.000000</td>\n",
       "      <td>0.003000</td>\n",
       "      <td>0.000000</td>\n",
       "      <td>0.000000</td>\n",
       "      <td>0.003000</td>\n",
       "      <td>0.000000</td>\n",
       "      <td>0.000000</td>\n",
       "      <td>0.009240</td>\n",
       "      <td>0.000000</td>\n",
       "      <td>0.003000</td>\n",
       "    </tr>\n",
       "    <tr>\n",
       "      <th rowspan=\"6\" valign=\"top\">1998</th>\n",
       "      <th>AF</th>\n",
       "      <td>5017.0</td>\n",
       "      <td>0.002712</td>\n",
       "      <td>0.000000</td>\n",
       "      <td>0.012291</td>\n",
       "      <td>0.000906</td>\n",
       "      <td>0.0</td>\n",
       "      <td>0.000170</td>\n",
       "      <td>0.003525</td>\n",
       "      <td>0.004644</td>\n",
       "      <td>0.000421</td>\n",
       "      <td>...</td>\n",
       "      <td>0.000000</td>\n",
       "      <td>0.002331</td>\n",
       "      <td>0.000857</td>\n",
       "      <td>0.001198</td>\n",
       "      <td>0.003796</td>\n",
       "      <td>0.000554</td>\n",
       "      <td>0.000572</td>\n",
       "      <td>0.006733</td>\n",
       "      <td>0.001202</td>\n",
       "      <td>0.008239</td>\n",
       "    </tr>\n",
       "    <tr>\n",
       "      <th>AS</th>\n",
       "      <td>6464.0</td>\n",
       "      <td>0.004293</td>\n",
       "      <td>0.000121</td>\n",
       "      <td>0.007897</td>\n",
       "      <td>0.001112</td>\n",
       "      <td>0.0</td>\n",
       "      <td>0.000686</td>\n",
       "      <td>0.004382</td>\n",
       "      <td>0.003686</td>\n",
       "      <td>0.000302</td>\n",
       "      <td>...</td>\n",
       "      <td>0.000577</td>\n",
       "      <td>0.003388</td>\n",
       "      <td>0.001123</td>\n",
       "      <td>0.001340</td>\n",
       "      <td>0.002517</td>\n",
       "      <td>0.000278</td>\n",
       "      <td>0.000566</td>\n",
       "      <td>0.005673</td>\n",
       "      <td>0.001177</td>\n",
       "      <td>0.007653</td>\n",
       "    </tr>\n",
       "    <tr>\n",
       "      <th>EU</th>\n",
       "      <td>1864.0</td>\n",
       "      <td>0.001006</td>\n",
       "      <td>0.000587</td>\n",
       "      <td>0.010490</td>\n",
       "      <td>0.003567</td>\n",
       "      <td>0.0</td>\n",
       "      <td>0.000000</td>\n",
       "      <td>0.002625</td>\n",
       "      <td>0.004039</td>\n",
       "      <td>0.000587</td>\n",
       "      <td>...</td>\n",
       "      <td>0.000426</td>\n",
       "      <td>0.003632</td>\n",
       "      <td>0.001870</td>\n",
       "      <td>0.001658</td>\n",
       "      <td>0.003800</td>\n",
       "      <td>0.000000</td>\n",
       "      <td>0.002380</td>\n",
       "      <td>0.007129</td>\n",
       "      <td>0.002960</td>\n",
       "      <td>0.007670</td>\n",
       "    </tr>\n",
       "    <tr>\n",
       "      <th>NA</th>\n",
       "      <td>802.0</td>\n",
       "      <td>0.000849</td>\n",
       "      <td>0.000000</td>\n",
       "      <td>0.007651</td>\n",
       "      <td>0.000000</td>\n",
       "      <td>0.0</td>\n",
       "      <td>0.000000</td>\n",
       "      <td>0.002761</td>\n",
       "      <td>0.002836</td>\n",
       "      <td>0.000000</td>\n",
       "      <td>...</td>\n",
       "      <td>0.000000</td>\n",
       "      <td>0.001791</td>\n",
       "      <td>0.000849</td>\n",
       "      <td>0.001016</td>\n",
       "      <td>0.001987</td>\n",
       "      <td>0.000000</td>\n",
       "      <td>0.000000</td>\n",
       "      <td>0.004844</td>\n",
       "      <td>0.000000</td>\n",
       "      <td>0.005693</td>\n",
       "    </tr>\n",
       "    <tr>\n",
       "      <th>OC</th>\n",
       "      <td>0.0</td>\n",
       "      <td>0.000000</td>\n",
       "      <td>0.000000</td>\n",
       "      <td>0.000000</td>\n",
       "      <td>0.000000</td>\n",
       "      <td>0.0</td>\n",
       "      <td>0.000000</td>\n",
       "      <td>0.000000</td>\n",
       "      <td>0.000000</td>\n",
       "      <td>0.000000</td>\n",
       "      <td>...</td>\n",
       "      <td>0.000000</td>\n",
       "      <td>0.000000</td>\n",
       "      <td>0.000000</td>\n",
       "      <td>0.000000</td>\n",
       "      <td>0.000000</td>\n",
       "      <td>0.000000</td>\n",
       "      <td>0.000000</td>\n",
       "      <td>0.000000</td>\n",
       "      <td>0.000000</td>\n",
       "      <td>0.000000</td>\n",
       "    </tr>\n",
       "    <tr>\n",
       "      <th>SA</th>\n",
       "      <td>168.0</td>\n",
       "      <td>0.000000</td>\n",
       "      <td>0.000000</td>\n",
       "      <td>0.014528</td>\n",
       "      <td>0.000000</td>\n",
       "      <td>0.0</td>\n",
       "      <td>0.000000</td>\n",
       "      <td>0.000000</td>\n",
       "      <td>0.014528</td>\n",
       "      <td>0.000000</td>\n",
       "      <td>...</td>\n",
       "      <td>0.000000</td>\n",
       "      <td>0.000000</td>\n",
       "      <td>0.007264</td>\n",
       "      <td>0.007264</td>\n",
       "      <td>0.007264</td>\n",
       "      <td>0.000000</td>\n",
       "      <td>0.000000</td>\n",
       "      <td>0.007264</td>\n",
       "      <td>0.000000</td>\n",
       "      <td>0.007264</td>\n",
       "    </tr>\n",
       "    <tr>\n",
       "      <th rowspan=\"6\" valign=\"top\">1999</th>\n",
       "      <th>AF</th>\n",
       "      <td>2208.0</td>\n",
       "      <td>0.002515</td>\n",
       "      <td>0.000000</td>\n",
       "      <td>0.006149</td>\n",
       "      <td>0.002864</td>\n",
       "      <td>0.0</td>\n",
       "      <td>0.000000</td>\n",
       "      <td>0.005778</td>\n",
       "      <td>0.005016</td>\n",
       "      <td>0.001412</td>\n",
       "      <td>...</td>\n",
       "      <td>0.000520</td>\n",
       "      <td>0.003020</td>\n",
       "      <td>0.003349</td>\n",
       "      <td>0.004175</td>\n",
       "      <td>0.003277</td>\n",
       "      <td>0.000000</td>\n",
       "      <td>0.000706</td>\n",
       "      <td>0.002532</td>\n",
       "      <td>0.000706</td>\n",
       "      <td>0.006898</td>\n",
       "    </tr>\n",
       "    <tr>\n",
       "      <th>AS</th>\n",
       "      <td>4317.0</td>\n",
       "      <td>0.002794</td>\n",
       "      <td>0.000319</td>\n",
       "      <td>0.004122</td>\n",
       "      <td>0.001265</td>\n",
       "      <td>0.0</td>\n",
       "      <td>0.000000</td>\n",
       "      <td>0.003155</td>\n",
       "      <td>0.004916</td>\n",
       "      <td>0.000000</td>\n",
       "      <td>...</td>\n",
       "      <td>0.000598</td>\n",
       "      <td>0.001643</td>\n",
       "      <td>0.001219</td>\n",
       "      <td>0.002305</td>\n",
       "      <td>0.001581</td>\n",
       "      <td>0.001616</td>\n",
       "      <td>0.000544</td>\n",
       "      <td>0.004475</td>\n",
       "      <td>0.001981</td>\n",
       "      <td>0.006471</td>\n",
       "    </tr>\n",
       "    <tr>\n",
       "      <th>EU</th>\n",
       "      <td>2118.0</td>\n",
       "      <td>0.000000</td>\n",
       "      <td>0.000000</td>\n",
       "      <td>0.004521</td>\n",
       "      <td>0.001617</td>\n",
       "      <td>0.0</td>\n",
       "      <td>0.000489</td>\n",
       "      <td>0.003799</td>\n",
       "      <td>0.006202</td>\n",
       "      <td>0.000000</td>\n",
       "      <td>...</td>\n",
       "      <td>0.002143</td>\n",
       "      <td>0.001126</td>\n",
       "      <td>0.000000</td>\n",
       "      <td>0.000375</td>\n",
       "      <td>0.003200</td>\n",
       "      <td>0.000000</td>\n",
       "      <td>0.001240</td>\n",
       "      <td>0.001728</td>\n",
       "      <td>0.001717</td>\n",
       "      <td>0.003574</td>\n",
       "    </tr>\n",
       "    <tr>\n",
       "      <th>NA</th>\n",
       "      <td>5396.0</td>\n",
       "      <td>0.000705</td>\n",
       "      <td>0.000000</td>\n",
       "      <td>0.007043</td>\n",
       "      <td>0.001069</td>\n",
       "      <td>0.0</td>\n",
       "      <td>0.000200</td>\n",
       "      <td>0.001750</td>\n",
       "      <td>0.004967</td>\n",
       "      <td>0.000000</td>\n",
       "      <td>...</td>\n",
       "      <td>0.000281</td>\n",
       "      <td>0.000980</td>\n",
       "      <td>0.001662</td>\n",
       "      <td>0.001565</td>\n",
       "      <td>0.003426</td>\n",
       "      <td>0.000000</td>\n",
       "      <td>0.000200</td>\n",
       "      <td>0.002871</td>\n",
       "      <td>0.000794</td>\n",
       "      <td>0.003165</td>\n",
       "    </tr>\n",
       "    <tr>\n",
       "      <th>OC</th>\n",
       "      <td>0.0</td>\n",
       "      <td>0.000000</td>\n",
       "      <td>0.000000</td>\n",
       "      <td>0.000000</td>\n",
       "      <td>0.000000</td>\n",
       "      <td>0.0</td>\n",
       "      <td>0.000000</td>\n",
       "      <td>0.000000</td>\n",
       "      <td>0.000000</td>\n",
       "      <td>0.000000</td>\n",
       "      <td>...</td>\n",
       "      <td>0.000000</td>\n",
       "      <td>0.000000</td>\n",
       "      <td>0.000000</td>\n",
       "      <td>0.000000</td>\n",
       "      <td>0.000000</td>\n",
       "      <td>0.000000</td>\n",
       "      <td>0.000000</td>\n",
       "      <td>0.000000</td>\n",
       "      <td>0.000000</td>\n",
       "      <td>0.000000</td>\n",
       "    </tr>\n",
       "    <tr>\n",
       "      <th>SA</th>\n",
       "      <td>551.0</td>\n",
       "      <td>0.000000</td>\n",
       "      <td>0.000000</td>\n",
       "      <td>0.002693</td>\n",
       "      <td>0.002542</td>\n",
       "      <td>0.0</td>\n",
       "      <td>0.000000</td>\n",
       "      <td>0.002693</td>\n",
       "      <td>0.002693</td>\n",
       "      <td>0.000000</td>\n",
       "      <td>...</td>\n",
       "      <td>0.000000</td>\n",
       "      <td>0.002542</td>\n",
       "      <td>0.000000</td>\n",
       "      <td>0.002693</td>\n",
       "      <td>0.000000</td>\n",
       "      <td>0.000000</td>\n",
       "      <td>0.002542</td>\n",
       "      <td>0.002693</td>\n",
       "      <td>0.002542</td>\n",
       "      <td>0.005235</td>\n",
       "    </tr>\n",
       "    <tr>\n",
       "      <th rowspan=\"6\" valign=\"top\">2000</th>\n",
       "      <th>AF</th>\n",
       "      <td>9173.0</td>\n",
       "      <td>0.001867</td>\n",
       "      <td>0.000000</td>\n",
       "      <td>0.012871</td>\n",
       "      <td>0.001000</td>\n",
       "      <td>0.0</td>\n",
       "      <td>0.000000</td>\n",
       "      <td>0.002956</td>\n",
       "      <td>0.005512</td>\n",
       "      <td>0.000596</td>\n",
       "      <td>...</td>\n",
       "      <td>0.000000</td>\n",
       "      <td>0.002094</td>\n",
       "      <td>0.001030</td>\n",
       "      <td>0.001347</td>\n",
       "      <td>0.005189</td>\n",
       "      <td>0.000211</td>\n",
       "      <td>0.001670</td>\n",
       "      <td>0.006925</td>\n",
       "      <td>0.001468</td>\n",
       "      <td>0.006387</td>\n",
       "    </tr>\n",
       "    <tr>\n",
       "      <th>AS</th>\n",
       "      <td>21878.0</td>\n",
       "      <td>0.003636</td>\n",
       "      <td>0.000100</td>\n",
       "      <td>0.008495</td>\n",
       "      <td>0.000828</td>\n",
       "      <td>0.0</td>\n",
       "      <td>0.000489</td>\n",
       "      <td>0.004811</td>\n",
       "      <td>0.003851</td>\n",
       "      <td>0.000100</td>\n",
       "      <td>...</td>\n",
       "      <td>0.000100</td>\n",
       "      <td>0.005911</td>\n",
       "      <td>0.000738</td>\n",
       "      <td>0.001770</td>\n",
       "      <td>0.001078</td>\n",
       "      <td>0.000334</td>\n",
       "      <td>0.000779</td>\n",
       "      <td>0.006473</td>\n",
       "      <td>0.001249</td>\n",
       "      <td>0.012691</td>\n",
       "    </tr>\n",
       "    <tr>\n",
       "      <th>EU</th>\n",
       "      <td>1478.0</td>\n",
       "      <td>0.001420</td>\n",
       "      <td>0.000000</td>\n",
       "      <td>0.008103</td>\n",
       "      <td>0.000000</td>\n",
       "      <td>0.0</td>\n",
       "      <td>0.000000</td>\n",
       "      <td>0.001420</td>\n",
       "      <td>0.000000</td>\n",
       "      <td>0.000000</td>\n",
       "      <td>...</td>\n",
       "      <td>0.000000</td>\n",
       "      <td>0.002841</td>\n",
       "      <td>0.000000</td>\n",
       "      <td>0.000000</td>\n",
       "      <td>0.000000</td>\n",
       "      <td>0.000000</td>\n",
       "      <td>0.000000</td>\n",
       "      <td>0.010342</td>\n",
       "      <td>0.000000</td>\n",
       "      <td>0.009523</td>\n",
       "    </tr>\n",
       "    <tr>\n",
       "      <th>NA</th>\n",
       "      <td>2364.0</td>\n",
       "      <td>0.000661</td>\n",
       "      <td>0.000000</td>\n",
       "      <td>0.012893</td>\n",
       "      <td>0.002194</td>\n",
       "      <td>0.0</td>\n",
       "      <td>0.001006</td>\n",
       "      <td>0.003200</td>\n",
       "      <td>0.003639</td>\n",
       "      <td>0.000000</td>\n",
       "      <td>...</td>\n",
       "      <td>0.000000</td>\n",
       "      <td>0.002793</td>\n",
       "      <td>0.000000</td>\n",
       "      <td>0.000000</td>\n",
       "      <td>0.001898</td>\n",
       "      <td>0.000521</td>\n",
       "      <td>0.002538</td>\n",
       "      <td>0.008039</td>\n",
       "      <td>0.003065</td>\n",
       "      <td>0.008790</td>\n",
       "    </tr>\n",
       "    <tr>\n",
       "      <th>OC</th>\n",
       "      <td>0.0</td>\n",
       "      <td>0.000000</td>\n",
       "      <td>0.000000</td>\n",
       "      <td>0.000000</td>\n",
       "      <td>0.000000</td>\n",
       "      <td>0.0</td>\n",
       "      <td>0.000000</td>\n",
       "      <td>0.000000</td>\n",
       "      <td>0.000000</td>\n",
       "      <td>0.000000</td>\n",
       "      <td>...</td>\n",
       "      <td>0.000000</td>\n",
       "      <td>0.000000</td>\n",
       "      <td>0.000000</td>\n",
       "      <td>0.000000</td>\n",
       "      <td>0.000000</td>\n",
       "      <td>0.000000</td>\n",
       "      <td>0.000000</td>\n",
       "      <td>0.000000</td>\n",
       "      <td>0.000000</td>\n",
       "      <td>0.000000</td>\n",
       "    </tr>\n",
       "    <tr>\n",
       "      <th>SA</th>\n",
       "      <td>0.0</td>\n",
       "      <td>0.000000</td>\n",
       "      <td>0.000000</td>\n",
       "      <td>0.000000</td>\n",
       "      <td>0.000000</td>\n",
       "      <td>0.0</td>\n",
       "      <td>0.000000</td>\n",
       "      <td>0.000000</td>\n",
       "      <td>0.000000</td>\n",
       "      <td>0.000000</td>\n",
       "      <td>...</td>\n",
       "      <td>0.000000</td>\n",
       "      <td>0.000000</td>\n",
       "      <td>0.000000</td>\n",
       "      <td>0.000000</td>\n",
       "      <td>0.000000</td>\n",
       "      <td>0.000000</td>\n",
       "      <td>0.000000</td>\n",
       "      <td>0.000000</td>\n",
       "      <td>0.000000</td>\n",
       "      <td>0.000000</td>\n",
       "    </tr>\n",
       "    <tr>\n",
       "      <th rowspan=\"6\" valign=\"top\">2001</th>\n",
       "      <th>AF</th>\n",
       "      <td>1433.0</td>\n",
       "      <td>0.000000</td>\n",
       "      <td>0.000000</td>\n",
       "      <td>0.013177</td>\n",
       "      <td>0.001919</td>\n",
       "      <td>0.0</td>\n",
       "      <td>0.004237</td>\n",
       "      <td>0.003332</td>\n",
       "      <td>0.001412</td>\n",
       "      <td>0.000000</td>\n",
       "      <td>...</td>\n",
       "      <td>0.000000</td>\n",
       "      <td>0.004237</td>\n",
       "      <td>0.000000</td>\n",
       "      <td>0.001869</td>\n",
       "      <td>0.001412</td>\n",
       "      <td>0.000000</td>\n",
       "      <td>0.004744</td>\n",
       "      <td>0.004744</td>\n",
       "      <td>0.000000</td>\n",
       "      <td>0.009438</td>\n",
       "    </tr>\n",
       "    <tr>\n",
       "      <th>AS</th>\n",
       "      <td>36236.0</td>\n",
       "      <td>0.002342</td>\n",
       "      <td>0.000000</td>\n",
       "      <td>0.004172</td>\n",
       "      <td>0.001632</td>\n",
       "      <td>0.0</td>\n",
       "      <td>0.000434</td>\n",
       "      <td>0.004801</td>\n",
       "      <td>0.004508</td>\n",
       "      <td>0.000234</td>\n",
       "      <td>...</td>\n",
       "      <td>0.000209</td>\n",
       "      <td>0.002264</td>\n",
       "      <td>0.000914</td>\n",
       "      <td>0.001246</td>\n",
       "      <td>0.001733</td>\n",
       "      <td>0.000388</td>\n",
       "      <td>0.000713</td>\n",
       "      <td>0.003227</td>\n",
       "      <td>0.001185</td>\n",
       "      <td>0.008360</td>\n",
       "    </tr>\n",
       "    <tr>\n",
       "      <th>EU</th>\n",
       "      <td>5105.0</td>\n",
       "      <td>0.000534</td>\n",
       "      <td>0.000545</td>\n",
       "      <td>0.006198</td>\n",
       "      <td>0.000000</td>\n",
       "      <td>0.0</td>\n",
       "      <td>0.003079</td>\n",
       "      <td>0.001304</td>\n",
       "      <td>0.001304</td>\n",
       "      <td>0.001302</td>\n",
       "      <td>...</td>\n",
       "      <td>0.000000</td>\n",
       "      <td>0.002845</td>\n",
       "      <td>0.001954</td>\n",
       "      <td>0.002357</td>\n",
       "      <td>0.001956</td>\n",
       "      <td>0.001186</td>\n",
       "      <td>0.001541</td>\n",
       "      <td>0.004658</td>\n",
       "      <td>0.000000</td>\n",
       "      <td>0.006614</td>\n",
       "    </tr>\n",
       "    <tr>\n",
       "      <th>NA</th>\n",
       "      <td>8951.0</td>\n",
       "      <td>0.000499</td>\n",
       "      <td>0.000253</td>\n",
       "      <td>0.003604</td>\n",
       "      <td>0.000849</td>\n",
       "      <td>0.0</td>\n",
       "      <td>0.000315</td>\n",
       "      <td>0.003158</td>\n",
       "      <td>0.004994</td>\n",
       "      <td>0.000206</td>\n",
       "      <td>...</td>\n",
       "      <td>0.000000</td>\n",
       "      <td>0.001436</td>\n",
       "      <td>0.000525</td>\n",
       "      <td>0.001454</td>\n",
       "      <td>0.003300</td>\n",
       "      <td>0.000000</td>\n",
       "      <td>0.000000</td>\n",
       "      <td>0.002187</td>\n",
       "      <td>0.000246</td>\n",
       "      <td>0.002404</td>\n",
       "    </tr>\n",
       "    <tr>\n",
       "      <th>OC</th>\n",
       "      <td>573.0</td>\n",
       "      <td>0.005068</td>\n",
       "      <td>0.000000</td>\n",
       "      <td>0.005068</td>\n",
       "      <td>0.000000</td>\n",
       "      <td>0.0</td>\n",
       "      <td>0.000000</td>\n",
       "      <td>0.000000</td>\n",
       "      <td>0.005068</td>\n",
       "      <td>0.000000</td>\n",
       "      <td>...</td>\n",
       "      <td>0.000000</td>\n",
       "      <td>0.010135</td>\n",
       "      <td>0.000000</td>\n",
       "      <td>0.000000</td>\n",
       "      <td>0.005068</td>\n",
       "      <td>0.000000</td>\n",
       "      <td>0.005068</td>\n",
       "      <td>0.000000</td>\n",
       "      <td>0.000000</td>\n",
       "      <td>0.000000</td>\n",
       "    </tr>\n",
       "    <tr>\n",
       "      <th>SA</th>\n",
       "      <td>407.0</td>\n",
       "      <td>0.000000</td>\n",
       "      <td>0.000000</td>\n",
       "      <td>0.000000</td>\n",
       "      <td>0.000000</td>\n",
       "      <td>0.0</td>\n",
       "      <td>0.000000</td>\n",
       "      <td>0.000000</td>\n",
       "      <td>0.000000</td>\n",
       "      <td>0.000000</td>\n",
       "      <td>...</td>\n",
       "      <td>0.000000</td>\n",
       "      <td>0.000000</td>\n",
       "      <td>0.000000</td>\n",
       "      <td>0.000000</td>\n",
       "      <td>0.000000</td>\n",
       "      <td>0.000000</td>\n",
       "      <td>0.000000</td>\n",
       "      <td>0.008380</td>\n",
       "      <td>0.000000</td>\n",
       "      <td>0.000000</td>\n",
       "    </tr>\n",
       "  </tbody>\n",
       "</table>\n",
       "<p>30 rows × 22 columns</p>\n",
       "</div>"
      ],
      "text/plain": [
       "                Unnamed: 0  aggression     anger     crime     death  economy  \\\n",
       "year continent                                                                  \n",
       "1997 AF              685.0    0.001641  0.000000  0.008739  0.000570      0.0   \n",
       "     AS              871.0    0.003736  0.000646  0.010686  0.003115      0.0   \n",
       "     EU              666.0    0.002015  0.000000  0.014953  0.003633      0.0   \n",
       "     NA              178.0    0.000000  0.000000  0.016654  0.000000      0.0   \n",
       "     OC                0.0    0.000000  0.000000  0.000000  0.000000      0.0   \n",
       "     SA               87.0    0.003240  0.000000  0.009000  0.000000      0.0   \n",
       "1998 AF             5017.0    0.002712  0.000000  0.012291  0.000906      0.0   \n",
       "     AS             6464.0    0.004293  0.000121  0.007897  0.001112      0.0   \n",
       "     EU             1864.0    0.001006  0.000587  0.010490  0.003567      0.0   \n",
       "     NA              802.0    0.000849  0.000000  0.007651  0.000000      0.0   \n",
       "     OC                0.0    0.000000  0.000000  0.000000  0.000000      0.0   \n",
       "     SA              168.0    0.000000  0.000000  0.014528  0.000000      0.0   \n",
       "1999 AF             2208.0    0.002515  0.000000  0.006149  0.002864      0.0   \n",
       "     AS             4317.0    0.002794  0.000319  0.004122  0.001265      0.0   \n",
       "     EU             2118.0    0.000000  0.000000  0.004521  0.001617      0.0   \n",
       "     NA             5396.0    0.000705  0.000000  0.007043  0.001069      0.0   \n",
       "     OC                0.0    0.000000  0.000000  0.000000  0.000000      0.0   \n",
       "     SA              551.0    0.000000  0.000000  0.002693  0.002542      0.0   \n",
       "2000 AF             9173.0    0.001867  0.000000  0.012871  0.001000      0.0   \n",
       "     AS            21878.0    0.003636  0.000100  0.008495  0.000828      0.0   \n",
       "     EU             1478.0    0.001420  0.000000  0.008103  0.000000      0.0   \n",
       "     NA             2364.0    0.000661  0.000000  0.012893  0.002194      0.0   \n",
       "     OC                0.0    0.000000  0.000000  0.000000  0.000000      0.0   \n",
       "     SA                0.0    0.000000  0.000000  0.000000  0.000000      0.0   \n",
       "2001 AF             1433.0    0.000000  0.000000  0.013177  0.001919      0.0   \n",
       "     AS            36236.0    0.002342  0.000000  0.004172  0.001632      0.0   \n",
       "     EU             5105.0    0.000534  0.000545  0.006198  0.000000      0.0   \n",
       "     NA             8951.0    0.000499  0.000253  0.003604  0.000849      0.0   \n",
       "     OC              573.0    0.005068  0.000000  0.005068  0.000000      0.0   \n",
       "     SA              407.0    0.000000  0.000000  0.000000  0.000000      0.0   \n",
       "\n",
       "                    fear     fight  government      hate  ...  independence  \\\n",
       "year continent                                            ...                 \n",
       "1997 AF         0.000000  0.001798    0.002275  0.000460  ...      0.000375   \n",
       "     AS         0.000000  0.003981    0.004642  0.001319  ...      0.000646   \n",
       "     EU         0.000553  0.004120    0.004909  0.000000  ...      0.000589   \n",
       "     NA         0.000000  0.000000    0.008327  0.000000  ...      0.000000   \n",
       "     OC         0.000000  0.000000    0.000000  0.000000  ...      0.000000   \n",
       "     SA         0.000000  0.000000    0.006240  0.003240  ...      0.000000   \n",
       "1998 AF         0.000170  0.003525    0.004644  0.000421  ...      0.000000   \n",
       "     AS         0.000686  0.004382    0.003686  0.000302  ...      0.000577   \n",
       "     EU         0.000000  0.002625    0.004039  0.000587  ...      0.000426   \n",
       "     NA         0.000000  0.002761    0.002836  0.000000  ...      0.000000   \n",
       "     OC         0.000000  0.000000    0.000000  0.000000  ...      0.000000   \n",
       "     SA         0.000000  0.000000    0.014528  0.000000  ...      0.000000   \n",
       "1999 AF         0.000000  0.005778    0.005016  0.001412  ...      0.000520   \n",
       "     AS         0.000000  0.003155    0.004916  0.000000  ...      0.000598   \n",
       "     EU         0.000489  0.003799    0.006202  0.000000  ...      0.002143   \n",
       "     NA         0.000200  0.001750    0.004967  0.000000  ...      0.000281   \n",
       "     OC         0.000000  0.000000    0.000000  0.000000  ...      0.000000   \n",
       "     SA         0.000000  0.002693    0.002693  0.000000  ...      0.000000   \n",
       "2000 AF         0.000000  0.002956    0.005512  0.000596  ...      0.000000   \n",
       "     AS         0.000489  0.004811    0.003851  0.000100  ...      0.000100   \n",
       "     EU         0.000000  0.001420    0.000000  0.000000  ...      0.000000   \n",
       "     NA         0.001006  0.003200    0.003639  0.000000  ...      0.000000   \n",
       "     OC         0.000000  0.000000    0.000000  0.000000  ...      0.000000   \n",
       "     SA         0.000000  0.000000    0.000000  0.000000  ...      0.000000   \n",
       "2001 AF         0.004237  0.003332    0.001412  0.000000  ...      0.000000   \n",
       "     AS         0.000434  0.004801    0.004508  0.000234  ...      0.000209   \n",
       "     EU         0.003079  0.001304    0.001304  0.001302  ...      0.000000   \n",
       "     NA         0.000315  0.003158    0.004994  0.000206  ...      0.000000   \n",
       "     OC         0.000000  0.000000    0.005068  0.000000  ...      0.000000   \n",
       "     SA         0.000000  0.000000    0.000000  0.000000  ...      0.000000   \n",
       "\n",
       "                    kill  movement  politics    prison  religion  suffering  \\\n",
       "year continent                                                                \n",
       "1997 AF         0.005596  0.000390  0.000993  0.003679  0.000000   0.000262   \n",
       "     AS         0.006387  0.000454  0.001858  0.003405  0.000000   0.002199   \n",
       "     EU         0.006776  0.000589  0.005446  0.006593  0.000000   0.000553   \n",
       "     NA         0.008575  0.000000  0.002941  0.000000  0.000000   0.000000   \n",
       "     OC         0.000000  0.000000  0.000000  0.000000  0.000000   0.000000   \n",
       "     SA         0.003000  0.000000  0.000000  0.003000  0.000000   0.000000   \n",
       "1998 AF         0.002331  0.000857  0.001198  0.003796  0.000554   0.000572   \n",
       "     AS         0.003388  0.001123  0.001340  0.002517  0.000278   0.000566   \n",
       "     EU         0.003632  0.001870  0.001658  0.003800  0.000000   0.002380   \n",
       "     NA         0.001791  0.000849  0.001016  0.001987  0.000000   0.000000   \n",
       "     OC         0.000000  0.000000  0.000000  0.000000  0.000000   0.000000   \n",
       "     SA         0.000000  0.007264  0.007264  0.007264  0.000000   0.000000   \n",
       "1999 AF         0.003020  0.003349  0.004175  0.003277  0.000000   0.000706   \n",
       "     AS         0.001643  0.001219  0.002305  0.001581  0.001616   0.000544   \n",
       "     EU         0.001126  0.000000  0.000375  0.003200  0.000000   0.001240   \n",
       "     NA         0.000980  0.001662  0.001565  0.003426  0.000000   0.000200   \n",
       "     OC         0.000000  0.000000  0.000000  0.000000  0.000000   0.000000   \n",
       "     SA         0.002542  0.000000  0.002693  0.000000  0.000000   0.002542   \n",
       "2000 AF         0.002094  0.001030  0.001347  0.005189  0.000211   0.001670   \n",
       "     AS         0.005911  0.000738  0.001770  0.001078  0.000334   0.000779   \n",
       "     EU         0.002841  0.000000  0.000000  0.000000  0.000000   0.000000   \n",
       "     NA         0.002793  0.000000  0.000000  0.001898  0.000521   0.002538   \n",
       "     OC         0.000000  0.000000  0.000000  0.000000  0.000000   0.000000   \n",
       "     SA         0.000000  0.000000  0.000000  0.000000  0.000000   0.000000   \n",
       "2001 AF         0.004237  0.000000  0.001869  0.001412  0.000000   0.004744   \n",
       "     AS         0.002264  0.000914  0.001246  0.001733  0.000388   0.000713   \n",
       "     EU         0.002845  0.001954  0.002357  0.001956  0.001186   0.001541   \n",
       "     NA         0.001436  0.000525  0.001454  0.003300  0.000000   0.000000   \n",
       "     OC         0.010135  0.000000  0.000000  0.005068  0.000000   0.005068   \n",
       "     SA         0.000000  0.000000  0.000000  0.000000  0.000000   0.000000   \n",
       "\n",
       "                terrorism  violence       war  \n",
       "year continent                                 \n",
       "1997 AF          0.003413  0.000570  0.004306  \n",
       "     AS          0.008120  0.003150  0.008959  \n",
       "     EU          0.008454  0.003096  0.008548  \n",
       "     NA          0.002693  0.000000  0.008327  \n",
       "     OC          0.000000  0.000000  0.000000  \n",
       "     SA          0.009240  0.000000  0.003000  \n",
       "1998 AF          0.006733  0.001202  0.008239  \n",
       "     AS          0.005673  0.001177  0.007653  \n",
       "     EU          0.007129  0.002960  0.007670  \n",
       "     NA          0.004844  0.000000  0.005693  \n",
       "     OC          0.000000  0.000000  0.000000  \n",
       "     SA          0.007264  0.000000  0.007264  \n",
       "1999 AF          0.002532  0.000706  0.006898  \n",
       "     AS          0.004475  0.001981  0.006471  \n",
       "     EU          0.001728  0.001717  0.003574  \n",
       "     NA          0.002871  0.000794  0.003165  \n",
       "     OC          0.000000  0.000000  0.000000  \n",
       "     SA          0.002693  0.002542  0.005235  \n",
       "2000 AF          0.006925  0.001468  0.006387  \n",
       "     AS          0.006473  0.001249  0.012691  \n",
       "     EU          0.010342  0.000000  0.009523  \n",
       "     NA          0.008039  0.003065  0.008790  \n",
       "     OC          0.000000  0.000000  0.000000  \n",
       "     SA          0.000000  0.000000  0.000000  \n",
       "2001 AF          0.004744  0.000000  0.009438  \n",
       "     AS          0.003227  0.001185  0.008360  \n",
       "     EU          0.004658  0.000000  0.006614  \n",
       "     NA          0.002187  0.000246  0.002404  \n",
       "     OC          0.000000  0.000000  0.000000  \n",
       "     SA          0.008380  0.000000  0.000000  \n",
       "\n",
       "[30 rows x 22 columns]"
      ]
     },
     "execution_count": 309,
     "metadata": {},
     "output_type": "execute_result"
    }
   ],
   "source": [
    "df_time.sort_index(inplace=True)\n",
    "df_time.drop(columns= )\n",
    "df_time.head(30)"
   ]
  },
  {
   "cell_type": "code",
   "execution_count": 310,
   "metadata": {
    "scrolled": false
   },
   "outputs": [
    {
     "data": {
      "application/vnd.plotly.v1+json": {
       "config": {
        "plotlyServerURL": "https://plot.ly"
       },
       "data": [
        {
         "fill": "toself",
         "legendgroup": "AF",
         "line": {
          "color": "blue"
         },
         "name": "AF",
         "r": [
          685,
          0.0016408520093571094,
          0,
          0.0087386863530738,
          0.000570259666274625,
          0,
          0,
          0.0017980695016171714,
          0.0022747907900716484,
          0.0004595588235294117,
          0.0002618715083798882,
          0,
          0.000375,
          0.0055955855958834235,
          0.0003898128898128898,
          0.0009925278187954856,
          0.003678843491678116,
          0,
          0.0002618715083798882,
          0.003413478868848908,
          0.000570259666274625,
          0.004306311054463889
         ],
         "showlegend": false,
         "subplot": "polar",
         "theta": [
          "Unnamed: 0",
          "aggression",
          "anger",
          "crime",
          "death",
          "economy",
          "fear",
          "fight",
          "government",
          "hate",
          "horror",
          "immigration",
          "independence",
          "kill",
          "movement",
          "politics",
          "prison",
          "religion",
          "suffering",
          "terrorism",
          "violence",
          "war"
         ],
         "type": "scatterpolar",
         "visible": true
        },
        {
         "fill": "toself",
         "legendgroup": "AS",
         "line": {
          "color": "green"
         },
         "name": "AS",
         "r": [
          871,
          0.0037355241530638485,
          0.0006464124111182935,
          0.01068568721559438,
          0.0031151880378919986,
          0,
          0,
          0.003980803246298982,
          0.004641919231014678,
          0.0013188117434192507,
          0.00021645021645021645,
          0,
          0.0006464124111182935,
          0.006387109599055081,
          0.0004541492894238318,
          0.0018584470328998602,
          0.003404966792293148,
          0,
          0.002199129944688203,
          0.008119858217994352,
          0.003149681416683213,
          0.008959371693142815
         ],
         "showlegend": false,
         "subplot": "polar",
         "theta": [
          "Unnamed: 0",
          "aggression",
          "anger",
          "crime",
          "death",
          "economy",
          "fear",
          "fight",
          "government",
          "hate",
          "horror",
          "immigration",
          "independence",
          "kill",
          "movement",
          "politics",
          "prison",
          "religion",
          "suffering",
          "terrorism",
          "violence",
          "war"
         ],
         "type": "scatterpolar",
         "visible": true
        },
        {
         "fill": "toself",
         "legendgroup": "EU",
         "line": {
          "color": "red"
         },
         "name": "EU",
         "r": [
          666,
          0.0020147141984065775,
          0,
          0.01495316159840227,
          0.003632533317355839,
          0,
          0.0005531993361607967,
          0.004119592184557514,
          0.00490901719413272,
          0,
          0,
          0,
          0.000589043785588062,
          0.0067764953549254965,
          0.000589043785588062,
          0.005446446682079943,
          0.0065926643490868886,
          0,
          0.0005531993361607967,
          0.008454379065747948,
          0.003096454760783019,
          0.008548191862617247
         ],
         "showlegend": false,
         "subplot": "polar",
         "theta": [
          "Unnamed: 0",
          "aggression",
          "anger",
          "crime",
          "death",
          "economy",
          "fear",
          "fight",
          "government",
          "hate",
          "horror",
          "immigration",
          "independence",
          "kill",
          "movement",
          "politics",
          "prison",
          "religion",
          "suffering",
          "terrorism",
          "violence",
          "war"
         ],
         "type": "scatterpolar",
         "visible": true
        },
        {
         "fill": "toself",
         "legendgroup": "NA",
         "line": {
          "color": "yellow"
         },
         "name": "NA",
         "r": [
          178,
          0,
          0,
          0.016654345759847925,
          0,
          0,
          0,
          0,
          0.008327172879923964,
          0,
          0,
          0,
          0,
          0.008575351145844335,
          0,
          0.0029411764705882357,
          0,
          0,
          0,
          0.0026929982046678637,
          0,
          0.008327172879923964
         ],
         "showlegend": false,
         "subplot": "polar",
         "theta": [
          "Unnamed: 0",
          "aggression",
          "anger",
          "crime",
          "death",
          "economy",
          "fear",
          "fight",
          "government",
          "hate",
          "horror",
          "immigration",
          "independence",
          "kill",
          "movement",
          "politics",
          "prison",
          "religion",
          "suffering",
          "terrorism",
          "violence",
          "war"
         ],
         "type": "scatterpolar",
         "visible": true
        },
        {
         "fill": "toself",
         "legendgroup": "SA",
         "line": {
          "color": "orange"
         },
         "name": "SA",
         "r": [
          87,
          0.003239740820734341,
          0,
          0.009000000000000001,
          0,
          0,
          0,
          0,
          0.00623974082073434,
          0.003239740820734341,
          0,
          0,
          0,
          0.003,
          0,
          0,
          0.003,
          0,
          0,
          0.009239740820734341,
          0,
          0.003
         ],
         "showlegend": false,
         "subplot": "polar",
         "theta": [
          "Unnamed: 0",
          "aggression",
          "anger",
          "crime",
          "death",
          "economy",
          "fear",
          "fight",
          "government",
          "hate",
          "horror",
          "immigration",
          "independence",
          "kill",
          "movement",
          "politics",
          "prison",
          "religion",
          "suffering",
          "terrorism",
          "violence",
          "war"
         ],
         "type": "scatterpolar",
         "visible": true
        },
        {
         "fill": "toself",
         "legendgroup": "OC",
         "line": {
          "color": "purple"
         },
         "name": "OC",
         "r": [
          0,
          0,
          0,
          0,
          0,
          0,
          0,
          0,
          0,
          0,
          0,
          0,
          0,
          0,
          0,
          0,
          0,
          0,
          0,
          0,
          0,
          0
         ],
         "showlegend": false,
         "subplot": "polar",
         "theta": [
          "Unnamed: 0",
          "aggression",
          "anger",
          "crime",
          "death",
          "economy",
          "fear",
          "fight",
          "government",
          "hate",
          "horror",
          "immigration",
          "independence",
          "kill",
          "movement",
          "politics",
          "prison",
          "religion",
          "suffering",
          "terrorism",
          "violence",
          "war"
         ],
         "type": "scatterpolar",
         "visible": true
        },
        {
         "fill": "toself",
         "legendgroup": "AF",
         "line": {
          "color": "blue"
         },
         "name": "AF",
         "r": [
          1433,
          0,
          0,
          0.013176579946183419,
          0.0019193857965451057,
          0,
          0.00423728813559322,
          0.003331815175076179,
          0.0014124293785310734,
          0,
          0.002824858757062147,
          0,
          0,
          0.00423728813559322,
          0,
          0.0018691588785046728,
          0.0014124293785310734,
          0,
          0.004744244553607253,
          0.004744244553607253,
          0,
          0.009438262189174073
         ],
         "showlegend": false,
         "subplot": "polar2",
         "theta": [
          "Unnamed: 0",
          "aggression",
          "anger",
          "crime",
          "death",
          "economy",
          "fear",
          "fight",
          "government",
          "hate",
          "horror",
          "immigration",
          "independence",
          "kill",
          "movement",
          "politics",
          "prison",
          "religion",
          "suffering",
          "terrorism",
          "violence",
          "war"
         ],
         "type": "scatterpolar",
         "visible": true
        },
        {
         "fill": "toself",
         "legendgroup": "AS",
         "line": {
          "color": "green"
         },
         "name": "AS",
         "r": [
          36236,
          0.0023419169553274377,
          0,
          0.004172414716059608,
          0.0016316664991244093,
          0,
          0.00043422049472903045,
          0.004801215179989551,
          0.004508207794232775,
          0.0002340036793309118,
          0.0003884772650318112,
          0,
          0.00020933277276803626,
          0.0022642144481799177,
          0.0009139728421827986,
          0.0012459088079274814,
          0.001733093347037124,
          0.0003881163391290461,
          0.0007126777258600388,
          0.003227141746001793,
          0.0011852486094160498,
          0.008359848761124783
         ],
         "showlegend": false,
         "subplot": "polar2",
         "theta": [
          "Unnamed: 0",
          "aggression",
          "anger",
          "crime",
          "death",
          "economy",
          "fear",
          "fight",
          "government",
          "hate",
          "horror",
          "immigration",
          "independence",
          "kill",
          "movement",
          "politics",
          "prison",
          "religion",
          "suffering",
          "terrorism",
          "violence",
          "war"
         ],
         "type": "scatterpolar",
         "visible": true
        },
        {
         "fill": "toself",
         "legendgroup": "EU",
         "line": {
          "color": "red"
         },
         "name": "EU",
         "r": [
          5105,
          0.0005337128624799857,
          0.0005454545454545455,
          0.006198362083450937,
          0,
          0,
          0.0030794939126283128,
          0.0013041288871332983,
          0.0013041288871332983,
          0.0013019587011483596,
          0.003494848638963141,
          0,
          0,
          0.0028449609364399244,
          0.001954016589656516,
          0.002356696867503812,
          0.001956186775641455,
          0.0011857707509881422,
          0.0015408320493066256,
          0.0046575300341443115,
          0,
          0.0066137299199027525
         ],
         "showlegend": false,
         "subplot": "polar2",
         "theta": [
          "Unnamed: 0",
          "aggression",
          "anger",
          "crime",
          "death",
          "economy",
          "fear",
          "fight",
          "government",
          "hate",
          "horror",
          "immigration",
          "independence",
          "kill",
          "movement",
          "politics",
          "prison",
          "religion",
          "suffering",
          "terrorism",
          "violence",
          "war"
         ],
         "type": "scatterpolar",
         "visible": true
        },
        {
         "fill": "toself",
         "legendgroup": "NA",
         "line": {
          "color": "yellow"
         },
         "name": "NA",
         "r": [
          8951,
          0.0004985959035643901,
          0.00025303643724696357,
          0.003604260270871762,
          0.0008485105268548935,
          0,
          0.0003151591553734637,
          0.003158351469426845,
          0.00499444172678321,
          0.00020586015233651275,
          0,
          0,
          0,
          0.0014356732009784452,
          0.0005248218658456582,
          0.0014537028606783377,
          0.003300186284508431,
          0,
          0,
          0.0021867605897298594,
          0.0002455594663174266,
          0.0024041510980040296
         ],
         "showlegend": false,
         "subplot": "polar2",
         "theta": [
          "Unnamed: 0",
          "aggression",
          "anger",
          "crime",
          "death",
          "economy",
          "fear",
          "fight",
          "government",
          "hate",
          "horror",
          "immigration",
          "independence",
          "kill",
          "movement",
          "politics",
          "prison",
          "religion",
          "suffering",
          "terrorism",
          "violence",
          "war"
         ],
         "type": "scatterpolar",
         "visible": true
        },
        {
         "fill": "toself",
         "legendgroup": "SA",
         "line": {
          "color": "orange"
         },
         "name": "SA",
         "r": [
          407,
          0,
          0,
          0,
          0,
          0,
          0,
          0,
          0,
          0,
          0,
          0,
          0,
          0,
          0,
          0,
          0,
          0,
          0,
          0.008379888268156423,
          0,
          0
         ],
         "showlegend": false,
         "subplot": "polar2",
         "theta": [
          "Unnamed: 0",
          "aggression",
          "anger",
          "crime",
          "death",
          "economy",
          "fear",
          "fight",
          "government",
          "hate",
          "horror",
          "immigration",
          "independence",
          "kill",
          "movement",
          "politics",
          "prison",
          "religion",
          "suffering",
          "terrorism",
          "violence",
          "war"
         ],
         "type": "scatterpolar",
         "visible": true
        },
        {
         "fill": "toself",
         "legendgroup": "OC",
         "line": {
          "color": "purple"
         },
         "name": "OC",
         "r": [
          573,
          0.005067567567567568,
          0,
          0.005067567567567568,
          0,
          0,
          0,
          0,
          0.005067567567567568,
          0,
          0,
          0,
          0,
          0.010135135135135136,
          0,
          0,
          0.005067567567567568,
          0,
          0.005067567567567568,
          0,
          0,
          0
         ],
         "showlegend": false,
         "subplot": "polar2",
         "theta": [
          "Unnamed: 0",
          "aggression",
          "anger",
          "crime",
          "death",
          "economy",
          "fear",
          "fight",
          "government",
          "hate",
          "horror",
          "immigration",
          "independence",
          "kill",
          "movement",
          "politics",
          "prison",
          "religion",
          "suffering",
          "terrorism",
          "violence",
          "war"
         ],
         "type": "scatterpolar",
         "visible": true
        },
        {
         "fill": "toself",
         "legendgroup": "AF",
         "line": {
          "color": "blue"
         },
         "name": "AF",
         "r": [
          0,
          0,
          0,
          0,
          0,
          0,
          0,
          0,
          0,
          0,
          0,
          0,
          0,
          0,
          0,
          0,
          0,
          0,
          0,
          0,
          0,
          0
         ],
         "showlegend": false,
         "subplot": "polar3",
         "theta": [
          "Unnamed: 0",
          "aggression",
          "anger",
          "crime",
          "death",
          "economy",
          "fear",
          "fight",
          "government",
          "hate",
          "horror",
          "immigration",
          "independence",
          "kill",
          "movement",
          "politics",
          "prison",
          "religion",
          "suffering",
          "terrorism",
          "violence",
          "war"
         ],
         "type": "scatterpolar",
         "visible": true
        },
        {
         "fill": "toself",
         "legendgroup": "AS",
         "line": {
          "color": "green"
         },
         "name": "AS",
         "r": [
          21880,
          0.004374414301489241,
          0,
          0.0033749843886599225,
          0.0014237622759947352,
          0,
          0.0006884681583476765,
          0.005097741607095027,
          0.0033749843886599225,
          0.0014237622759947352,
          0,
          0,
          0,
          0.005109708419136299,
          0,
          0,
          0.002433807918071687,
          0,
          0.0014237622759947352,
          0.0026396902710128637,
          0.0007352941176470587,
          0.007014104572502104
         ],
         "showlegend": false,
         "subplot": "polar3",
         "theta": [
          "Unnamed: 0",
          "aggression",
          "anger",
          "crime",
          "death",
          "economy",
          "fear",
          "fight",
          "government",
          "hate",
          "horror",
          "immigration",
          "independence",
          "kill",
          "movement",
          "politics",
          "prison",
          "religion",
          "suffering",
          "terrorism",
          "violence",
          "war"
         ],
         "type": "scatterpolar",
         "visible": true
        },
        {
         "fill": "toself",
         "legendgroup": "EU",
         "line": {
          "color": "red"
         },
         "name": "EU",
         "r": [
          10954,
          0.0018779342723004694,
          0,
          0,
          0,
          0,
          0,
          0.0018779342723004694,
          0.005598011415043158,
          0,
          0,
          0,
          0,
          0.0018779342723004694,
          0.0016985138004246285,
          0.0004,
          0.003572849526537758,
          0.0004,
          0,
          0.0004,
          0,
          0.0018779342723004694
         ],
         "showlegend": false,
         "subplot": "polar3",
         "theta": [
          "Unnamed: 0",
          "aggression",
          "anger",
          "crime",
          "death",
          "economy",
          "fear",
          "fight",
          "government",
          "hate",
          "horror",
          "immigration",
          "independence",
          "kill",
          "movement",
          "politics",
          "prison",
          "religion",
          "suffering",
          "terrorism",
          "violence",
          "war"
         ],
         "type": "scatterpolar",
         "visible": true
        },
        {
         "fill": "toself",
         "legendgroup": "NA",
         "line": {
          "color": "yellow"
         },
         "name": "NA",
         "r": [
          2186,
          0,
          0,
          0,
          0.0068846815834767644,
          0,
          0.0068846815834767644,
          0,
          0,
          0.0068846815834767644,
          0,
          0,
          0,
          0,
          0,
          0,
          0,
          0,
          0.0068846815834767644,
          0,
          0,
          0
         ],
         "showlegend": false,
         "subplot": "polar3",
         "theta": [
          "Unnamed: 0",
          "aggression",
          "anger",
          "crime",
          "death",
          "economy",
          "fear",
          "fight",
          "government",
          "hate",
          "horror",
          "immigration",
          "independence",
          "kill",
          "movement",
          "politics",
          "prison",
          "religion",
          "suffering",
          "terrorism",
          "violence",
          "war"
         ],
         "type": "scatterpolar",
         "visible": true
        },
        {
         "fill": "toself",
         "legendgroup": "SA",
         "line": {
          "color": "orange"
         },
         "name": "SA",
         "r": [
          0,
          0,
          0,
          0,
          0,
          0,
          0,
          0,
          0,
          0,
          0,
          0,
          0,
          0,
          0,
          0,
          0,
          0,
          0,
          0,
          0,
          0
         ],
         "showlegend": false,
         "subplot": "polar3",
         "theta": [
          "Unnamed: 0",
          "aggression",
          "anger",
          "crime",
          "death",
          "economy",
          "fear",
          "fight",
          "government",
          "hate",
          "horror",
          "immigration",
          "independence",
          "kill",
          "movement",
          "politics",
          "prison",
          "religion",
          "suffering",
          "terrorism",
          "violence",
          "war"
         ],
         "type": "scatterpolar",
         "visible": true
        },
        {
         "fill": "toself",
         "legendgroup": "OC",
         "line": {
          "color": "purple"
         },
         "name": "OC",
         "r": [
          0,
          0,
          0,
          0,
          0,
          0,
          0,
          0,
          0,
          0,
          0,
          0,
          0,
          0,
          0,
          0,
          0,
          0,
          0,
          0,
          0,
          0
         ],
         "showlegend": false,
         "subplot": "polar3",
         "theta": [
          "Unnamed: 0",
          "aggression",
          "anger",
          "crime",
          "death",
          "economy",
          "fear",
          "fight",
          "government",
          "hate",
          "horror",
          "immigration",
          "independence",
          "kill",
          "movement",
          "politics",
          "prison",
          "religion",
          "suffering",
          "terrorism",
          "violence",
          "war"
         ],
         "type": "scatterpolar",
         "visible": true
        },
        {
         "fill": "toself",
         "legendgroup": "AF",
         "line": {
          "color": "blue"
         },
         "name": "AF",
         "r": [
          138199,
          0.0017600382866572721,
          0,
          0.0019211541985322508,
          0.0009055650422384063,
          0,
          0.00044540746614586045,
          0.0019330661786629115,
          0.002119526224172587,
          0,
          0.0003803668157393564,
          0,
          0.0004092017506230339,
          0.002236709071149777,
          0.00027079424640400254,
          0.00030578664198574424,
          0.0014976213825627941,
          0.0004245920511453635,
          0.00125033182467779,
          0.001995171811396973,
          0.0013942901366171942,
          0.002975035402692025
         ],
         "subplot": "polar4",
         "theta": [
          "Unnamed: 0",
          "aggression",
          "anger",
          "crime",
          "death",
          "economy",
          "fear",
          "fight",
          "government",
          "hate",
          "horror",
          "immigration",
          "independence",
          "kill",
          "movement",
          "politics",
          "prison",
          "religion",
          "suffering",
          "terrorism",
          "violence",
          "war"
         ],
         "type": "scatterpolar",
         "visible": true
        },
        {
         "fill": "toself",
         "legendgroup": "AS",
         "line": {
          "color": "green"
         },
         "name": "AS",
         "r": [
          245885,
          0.0022894539071363343,
          0.00010729997496333916,
          0.0035737905309763318,
          0.0008408261579154621,
          0,
          0.0004766557300017729,
          0.0028380347320783473,
          0.0023408783558785096,
          0.00010729997496333916,
          0.00014384250709737877,
          0,
          0,
          0.002720574917535379,
          0.0007683577729946901,
          0.0003431232196947733,
          0.0008188698887114313,
          0.000669569941648204,
          0.001102146536720454,
          0.002423391790751345,
          0.0009386501815123458,
          0.004385855168595887
         ],
         "subplot": "polar4",
         "theta": [
          "Unnamed: 0",
          "aggression",
          "anger",
          "crime",
          "death",
          "economy",
          "fear",
          "fight",
          "government",
          "hate",
          "horror",
          "immigration",
          "independence",
          "kill",
          "movement",
          "politics",
          "prison",
          "religion",
          "suffering",
          "terrorism",
          "violence",
          "war"
         ],
         "type": "scatterpolar",
         "visible": true
        },
        {
         "fill": "toself",
         "legendgroup": "EU",
         "line": {
          "color": "red"
         },
         "name": "EU",
         "r": [
          87407,
          0.0016825610976624783,
          0,
          0.0028658274547687865,
          0.0014417206724899032,
          0,
          0,
          0.0016941607694479603,
          0.0015142383862532878,
          0,
          0.0005052582234369058,
          0,
          0,
          0.0032651785272126282,
          0.0005646877369413049,
          0.0008459544670253879,
          0.001392967951621832,
          0.0008184908764730953,
          0.0008904969495801036,
          0.004262223352838148,
          0.0012382526975287156,
          0.002882614844095556
         ],
         "subplot": "polar4",
         "theta": [
          "Unnamed: 0",
          "aggression",
          "anger",
          "crime",
          "death",
          "economy",
          "fear",
          "fight",
          "government",
          "hate",
          "horror",
          "immigration",
          "independence",
          "kill",
          "movement",
          "politics",
          "prison",
          "religion",
          "suffering",
          "terrorism",
          "violence",
          "war"
         ],
         "type": "scatterpolar",
         "visible": true
        },
        {
         "fill": "toself",
         "legendgroup": "NA",
         "line": {
          "color": "yellow"
         },
         "name": "NA",
         "r": [
          63444,
          0.0013875293117836416,
          0,
          0.0030837115064758437,
          0.0019464554197359525,
          0,
          0.0002370791844476055,
          0.0021310606128121384,
          0.0015373253358863296,
          0,
          0.0002370791844476055,
          0,
          0.00020559210526315788,
          0.001949160220920535,
          0,
          0.0005320198440227071,
          0.0012253582342599632,
          0.0004220172424187617,
          0.000991445588040967,
          0.0014056014506507218,
          0.0005473263135571636,
          0.0028825782236295097
         ],
         "subplot": "polar4",
         "theta": [
          "Unnamed: 0",
          "aggression",
          "anger",
          "crime",
          "death",
          "economy",
          "fear",
          "fight",
          "government",
          "hate",
          "horror",
          "immigration",
          "independence",
          "kill",
          "movement",
          "politics",
          "prison",
          "religion",
          "suffering",
          "terrorism",
          "violence",
          "war"
         ],
         "type": "scatterpolar",
         "visible": true
        },
        {
         "fill": "toself",
         "legendgroup": "SA",
         "line": {
          "color": "orange"
         },
         "name": "SA",
         "r": [
          13596,
          0.003050642837980065,
          0,
          0.0031445405204614395,
          0.003293125864168232,
          0,
          0,
          0.0037533252416607384,
          0.0047872340425531915,
          0.0020807107332273976,
          0,
          0,
          0,
          0.003778091916544565,
          0.0004849660523763336,
          0,
          0.00314454052046144,
          0,
          0.003293125864168232,
          0.0031914893617021275,
          0.003778091916544565,
          0.006897865762122178
         ],
         "subplot": "polar4",
         "theta": [
          "Unnamed: 0",
          "aggression",
          "anger",
          "crime",
          "death",
          "economy",
          "fear",
          "fight",
          "government",
          "hate",
          "horror",
          "immigration",
          "independence",
          "kill",
          "movement",
          "politics",
          "prison",
          "religion",
          "suffering",
          "terrorism",
          "violence",
          "war"
         ],
         "type": "scatterpolar",
         "visible": true
        },
        {
         "fill": "toself",
         "legendgroup": "OC",
         "line": {
          "color": "purple"
         },
         "name": "OC",
         "r": [
          6715,
          0.005656108597285068,
          0,
          0.00589622641509434,
          0,
          0,
          0,
          0.005656108597285068,
          0.0022624434389140274,
          0,
          0,
          0,
          0,
          0.00589622641509434,
          0,
          0.0022624434389140274,
          0,
          0,
          0.006931401007427645,
          0.00928989157346538,
          0.003393665158371041,
          0.01744856142747375
         ],
         "subplot": "polar4",
         "theta": [
          "Unnamed: 0",
          "aggression",
          "anger",
          "crime",
          "death",
          "economy",
          "fear",
          "fight",
          "government",
          "hate",
          "horror",
          "immigration",
          "independence",
          "kill",
          "movement",
          "politics",
          "prison",
          "religion",
          "suffering",
          "terrorism",
          "violence",
          "war"
         ],
         "type": "scatterpolar",
         "visible": true
        }
       ],
       "layout": {
        "annotations": [
         {
          "font": {
           "size": 16
          },
          "showarrow": false,
          "text": "1997",
          "x": 0.05,
          "xanchor": "center",
          "xref": "paper",
          "y": 1,
          "yanchor": "bottom",
          "yref": "paper"
         },
         {
          "font": {
           "size": 16
          },
          "showarrow": false,
          "text": "2001",
          "x": 0.555,
          "xanchor": "center",
          "xref": "paper",
          "y": 1,
          "yanchor": "bottom",
          "yref": "paper"
         },
         {
          "font": {
           "size": 16
          },
          "showarrow": false,
          "text": "2010",
          "x": 0.05,
          "xanchor": "center",
          "xref": "paper",
          "y": 0.375,
          "yanchor": "bottom",
          "yref": "paper"
         },
         {
          "font": {
           "size": 16
          },
          "showarrow": false,
          "text": "2017",
          "x": 0.555,
          "xanchor": "center",
          "xref": "paper",
          "y": 0.375,
          "yanchor": "bottom",
          "yref": "paper"
         }
        ],
        "height": 800,
        "polar": {
         "domain": {
          "x": [
           0,
           0.45
          ],
          "y": [
           0.625,
           1
          ]
         }
        },
        "polar2": {
         "domain": {
          "x": [
           0.55,
           1
          ],
          "y": [
           0.625,
           1
          ]
         }
        },
        "polar3": {
         "domain": {
          "x": [
           0,
           0.45
          ],
          "y": [
           0,
           0.375
          ]
         }
        },
        "polar4": {
         "domain": {
          "x": [
           0.55,
           1
          ],
          "y": [
           0,
           0.375
          ]
         }
        },
        "template": {
         "data": {
          "bar": [
           {
            "error_x": {
             "color": "#2a3f5f"
            },
            "error_y": {
             "color": "#2a3f5f"
            },
            "marker": {
             "line": {
              "color": "#E5ECF6",
              "width": 0.5
             }
            },
            "type": "bar"
           }
          ],
          "barpolar": [
           {
            "marker": {
             "line": {
              "color": "#E5ECF6",
              "width": 0.5
             }
            },
            "type": "barpolar"
           }
          ],
          "carpet": [
           {
            "aaxis": {
             "endlinecolor": "#2a3f5f",
             "gridcolor": "white",
             "linecolor": "white",
             "minorgridcolor": "white",
             "startlinecolor": "#2a3f5f"
            },
            "baxis": {
             "endlinecolor": "#2a3f5f",
             "gridcolor": "white",
             "linecolor": "white",
             "minorgridcolor": "white",
             "startlinecolor": "#2a3f5f"
            },
            "type": "carpet"
           }
          ],
          "choropleth": [
           {
            "colorbar": {
             "outlinewidth": 0,
             "ticks": ""
            },
            "type": "choropleth"
           }
          ],
          "contour": [
           {
            "colorbar": {
             "outlinewidth": 0,
             "ticks": ""
            },
            "colorscale": [
             [
              0,
              "#0d0887"
             ],
             [
              0.1111111111111111,
              "#46039f"
             ],
             [
              0.2222222222222222,
              "#7201a8"
             ],
             [
              0.3333333333333333,
              "#9c179e"
             ],
             [
              0.4444444444444444,
              "#bd3786"
             ],
             [
              0.5555555555555556,
              "#d8576b"
             ],
             [
              0.6666666666666666,
              "#ed7953"
             ],
             [
              0.7777777777777778,
              "#fb9f3a"
             ],
             [
              0.8888888888888888,
              "#fdca26"
             ],
             [
              1,
              "#f0f921"
             ]
            ],
            "type": "contour"
           }
          ],
          "contourcarpet": [
           {
            "colorbar": {
             "outlinewidth": 0,
             "ticks": ""
            },
            "type": "contourcarpet"
           }
          ],
          "heatmap": [
           {
            "colorbar": {
             "outlinewidth": 0,
             "ticks": ""
            },
            "colorscale": [
             [
              0,
              "#0d0887"
             ],
             [
              0.1111111111111111,
              "#46039f"
             ],
             [
              0.2222222222222222,
              "#7201a8"
             ],
             [
              0.3333333333333333,
              "#9c179e"
             ],
             [
              0.4444444444444444,
              "#bd3786"
             ],
             [
              0.5555555555555556,
              "#d8576b"
             ],
             [
              0.6666666666666666,
              "#ed7953"
             ],
             [
              0.7777777777777778,
              "#fb9f3a"
             ],
             [
              0.8888888888888888,
              "#fdca26"
             ],
             [
              1,
              "#f0f921"
             ]
            ],
            "type": "heatmap"
           }
          ],
          "heatmapgl": [
           {
            "colorbar": {
             "outlinewidth": 0,
             "ticks": ""
            },
            "colorscale": [
             [
              0,
              "#0d0887"
             ],
             [
              0.1111111111111111,
              "#46039f"
             ],
             [
              0.2222222222222222,
              "#7201a8"
             ],
             [
              0.3333333333333333,
              "#9c179e"
             ],
             [
              0.4444444444444444,
              "#bd3786"
             ],
             [
              0.5555555555555556,
              "#d8576b"
             ],
             [
              0.6666666666666666,
              "#ed7953"
             ],
             [
              0.7777777777777778,
              "#fb9f3a"
             ],
             [
              0.8888888888888888,
              "#fdca26"
             ],
             [
              1,
              "#f0f921"
             ]
            ],
            "type": "heatmapgl"
           }
          ],
          "histogram": [
           {
            "marker": {
             "colorbar": {
              "outlinewidth": 0,
              "ticks": ""
             }
            },
            "type": "histogram"
           }
          ],
          "histogram2d": [
           {
            "colorbar": {
             "outlinewidth": 0,
             "ticks": ""
            },
            "colorscale": [
             [
              0,
              "#0d0887"
             ],
             [
              0.1111111111111111,
              "#46039f"
             ],
             [
              0.2222222222222222,
              "#7201a8"
             ],
             [
              0.3333333333333333,
              "#9c179e"
             ],
             [
              0.4444444444444444,
              "#bd3786"
             ],
             [
              0.5555555555555556,
              "#d8576b"
             ],
             [
              0.6666666666666666,
              "#ed7953"
             ],
             [
              0.7777777777777778,
              "#fb9f3a"
             ],
             [
              0.8888888888888888,
              "#fdca26"
             ],
             [
              1,
              "#f0f921"
             ]
            ],
            "type": "histogram2d"
           }
          ],
          "histogram2dcontour": [
           {
            "colorbar": {
             "outlinewidth": 0,
             "ticks": ""
            },
            "colorscale": [
             [
              0,
              "#0d0887"
             ],
             [
              0.1111111111111111,
              "#46039f"
             ],
             [
              0.2222222222222222,
              "#7201a8"
             ],
             [
              0.3333333333333333,
              "#9c179e"
             ],
             [
              0.4444444444444444,
              "#bd3786"
             ],
             [
              0.5555555555555556,
              "#d8576b"
             ],
             [
              0.6666666666666666,
              "#ed7953"
             ],
             [
              0.7777777777777778,
              "#fb9f3a"
             ],
             [
              0.8888888888888888,
              "#fdca26"
             ],
             [
              1,
              "#f0f921"
             ]
            ],
            "type": "histogram2dcontour"
           }
          ],
          "mesh3d": [
           {
            "colorbar": {
             "outlinewidth": 0,
             "ticks": ""
            },
            "type": "mesh3d"
           }
          ],
          "parcoords": [
           {
            "line": {
             "colorbar": {
              "outlinewidth": 0,
              "ticks": ""
             }
            },
            "type": "parcoords"
           }
          ],
          "pie": [
           {
            "automargin": true,
            "type": "pie"
           }
          ],
          "scatter": [
           {
            "marker": {
             "colorbar": {
              "outlinewidth": 0,
              "ticks": ""
             }
            },
            "type": "scatter"
           }
          ],
          "scatter3d": [
           {
            "line": {
             "colorbar": {
              "outlinewidth": 0,
              "ticks": ""
             }
            },
            "marker": {
             "colorbar": {
              "outlinewidth": 0,
              "ticks": ""
             }
            },
            "type": "scatter3d"
           }
          ],
          "scattercarpet": [
           {
            "marker": {
             "colorbar": {
              "outlinewidth": 0,
              "ticks": ""
             }
            },
            "type": "scattercarpet"
           }
          ],
          "scattergeo": [
           {
            "marker": {
             "colorbar": {
              "outlinewidth": 0,
              "ticks": ""
             }
            },
            "type": "scattergeo"
           }
          ],
          "scattergl": [
           {
            "marker": {
             "colorbar": {
              "outlinewidth": 0,
              "ticks": ""
             }
            },
            "type": "scattergl"
           }
          ],
          "scattermapbox": [
           {
            "marker": {
             "colorbar": {
              "outlinewidth": 0,
              "ticks": ""
             }
            },
            "type": "scattermapbox"
           }
          ],
          "scatterpolar": [
           {
            "marker": {
             "colorbar": {
              "outlinewidth": 0,
              "ticks": ""
             }
            },
            "type": "scatterpolar"
           }
          ],
          "scatterpolargl": [
           {
            "marker": {
             "colorbar": {
              "outlinewidth": 0,
              "ticks": ""
             }
            },
            "type": "scatterpolargl"
           }
          ],
          "scatterternary": [
           {
            "marker": {
             "colorbar": {
              "outlinewidth": 0,
              "ticks": ""
             }
            },
            "type": "scatterternary"
           }
          ],
          "surface": [
           {
            "colorbar": {
             "outlinewidth": 0,
             "ticks": ""
            },
            "colorscale": [
             [
              0,
              "#0d0887"
             ],
             [
              0.1111111111111111,
              "#46039f"
             ],
             [
              0.2222222222222222,
              "#7201a8"
             ],
             [
              0.3333333333333333,
              "#9c179e"
             ],
             [
              0.4444444444444444,
              "#bd3786"
             ],
             [
              0.5555555555555556,
              "#d8576b"
             ],
             [
              0.6666666666666666,
              "#ed7953"
             ],
             [
              0.7777777777777778,
              "#fb9f3a"
             ],
             [
              0.8888888888888888,
              "#fdca26"
             ],
             [
              1,
              "#f0f921"
             ]
            ],
            "type": "surface"
           }
          ],
          "table": [
           {
            "cells": {
             "fill": {
              "color": "#EBF0F8"
             },
             "line": {
              "color": "white"
             }
            },
            "header": {
             "fill": {
              "color": "#C8D4E3"
             },
             "line": {
              "color": "white"
             }
            },
            "type": "table"
           }
          ]
         },
         "layout": {
          "annotationdefaults": {
           "arrowcolor": "#2a3f5f",
           "arrowhead": 0,
           "arrowwidth": 1
          },
          "coloraxis": {
           "colorbar": {
            "outlinewidth": 0,
            "ticks": ""
           }
          },
          "colorscale": {
           "diverging": [
            [
             0,
             "#8e0152"
            ],
            [
             0.1,
             "#c51b7d"
            ],
            [
             0.2,
             "#de77ae"
            ],
            [
             0.3,
             "#f1b6da"
            ],
            [
             0.4,
             "#fde0ef"
            ],
            [
             0.5,
             "#f7f7f7"
            ],
            [
             0.6,
             "#e6f5d0"
            ],
            [
             0.7,
             "#b8e186"
            ],
            [
             0.8,
             "#7fbc41"
            ],
            [
             0.9,
             "#4d9221"
            ],
            [
             1,
             "#276419"
            ]
           ],
           "sequential": [
            [
             0,
             "#0d0887"
            ],
            [
             0.1111111111111111,
             "#46039f"
            ],
            [
             0.2222222222222222,
             "#7201a8"
            ],
            [
             0.3333333333333333,
             "#9c179e"
            ],
            [
             0.4444444444444444,
             "#bd3786"
            ],
            [
             0.5555555555555556,
             "#d8576b"
            ],
            [
             0.6666666666666666,
             "#ed7953"
            ],
            [
             0.7777777777777778,
             "#fb9f3a"
            ],
            [
             0.8888888888888888,
             "#fdca26"
            ],
            [
             1,
             "#f0f921"
            ]
           ],
           "sequentialminus": [
            [
             0,
             "#0d0887"
            ],
            [
             0.1111111111111111,
             "#46039f"
            ],
            [
             0.2222222222222222,
             "#7201a8"
            ],
            [
             0.3333333333333333,
             "#9c179e"
            ],
            [
             0.4444444444444444,
             "#bd3786"
            ],
            [
             0.5555555555555556,
             "#d8576b"
            ],
            [
             0.6666666666666666,
             "#ed7953"
            ],
            [
             0.7777777777777778,
             "#fb9f3a"
            ],
            [
             0.8888888888888888,
             "#fdca26"
            ],
            [
             1,
             "#f0f921"
            ]
           ]
          },
          "colorway": [
           "#636efa",
           "#EF553B",
           "#00cc96",
           "#ab63fa",
           "#FFA15A",
           "#19d3f3",
           "#FF6692",
           "#B6E880",
           "#FF97FF",
           "#FECB52"
          ],
          "font": {
           "color": "#2a3f5f"
          },
          "geo": {
           "bgcolor": "white",
           "lakecolor": "white",
           "landcolor": "#E5ECF6",
           "showlakes": true,
           "showland": true,
           "subunitcolor": "white"
          },
          "hoverlabel": {
           "align": "left"
          },
          "hovermode": "closest",
          "mapbox": {
           "style": "light"
          },
          "paper_bgcolor": "white",
          "plot_bgcolor": "#E5ECF6",
          "polar": {
           "angularaxis": {
            "gridcolor": "white",
            "linecolor": "white",
            "ticks": ""
           },
           "bgcolor": "#E5ECF6",
           "radialaxis": {
            "gridcolor": "white",
            "linecolor": "white",
            "ticks": ""
           }
          },
          "scene": {
           "xaxis": {
            "backgroundcolor": "#E5ECF6",
            "gridcolor": "white",
            "gridwidth": 2,
            "linecolor": "white",
            "showbackground": true,
            "ticks": "",
            "zerolinecolor": "white"
           },
           "yaxis": {
            "backgroundcolor": "#E5ECF6",
            "gridcolor": "white",
            "gridwidth": 2,
            "linecolor": "white",
            "showbackground": true,
            "ticks": "",
            "zerolinecolor": "white"
           },
           "zaxis": {
            "backgroundcolor": "#E5ECF6",
            "gridcolor": "white",
            "gridwidth": 2,
            "linecolor": "white",
            "showbackground": true,
            "ticks": "",
            "zerolinecolor": "white"
           }
          },
          "shapedefaults": {
           "line": {
            "color": "#2a3f5f"
           }
          },
          "ternary": {
           "aaxis": {
            "gridcolor": "white",
            "linecolor": "white",
            "ticks": ""
           },
           "baxis": {
            "gridcolor": "white",
            "linecolor": "white",
            "ticks": ""
           },
           "bgcolor": "#E5ECF6",
           "caxis": {
            "gridcolor": "white",
            "linecolor": "white",
            "ticks": ""
           }
          },
          "title": {
           "x": 0.05
          },
          "xaxis": {
           "automargin": true,
           "gridcolor": "white",
           "linecolor": "white",
           "ticks": "",
           "title": {
            "standoff": 15
           },
           "zerolinecolor": "white",
           "zerolinewidth": 2
          },
          "yaxis": {
           "automargin": true,
           "gridcolor": "white",
           "linecolor": "white",
           "ticks": "",
           "title": {
            "standoff": 15
           },
           "zerolinecolor": "white",
           "zerolinewidth": 2
          }
         }
        },
        "title": {
         "text": "Frequency of themes coupled with terrorism per continent"
        },
        "width": 1000
       }
      },
      "text/html": [
       "<div>\n",
       "        \n",
       "        \n",
       "            <div id=\"ee00fc3b-a7a7-4578-91d8-ae03b8531477\" class=\"plotly-graph-div\" style=\"height:800px; width:1000px;\"></div>\n",
       "            <script type=\"text/javascript\">\n",
       "                require([\"plotly\"], function(Plotly) {\n",
       "                    window.PLOTLYENV=window.PLOTLYENV || {};\n",
       "                    \n",
       "                if (document.getElementById(\"ee00fc3b-a7a7-4578-91d8-ae03b8531477\")) {\n",
       "                    Plotly.newPlot(\n",
       "                        'ee00fc3b-a7a7-4578-91d8-ae03b8531477',\n",
       "                        [{\"fill\": \"toself\", \"legendgroup\": \"AF\", \"line\": {\"color\": \"blue\"}, \"name\": \"AF\", \"r\": [685.0, 0.0016408520093571094, 0.0, 0.0087386863530738, 0.000570259666274625, 0.0, 0.0, 0.0017980695016171714, 0.0022747907900716484, 0.0004595588235294117, 0.0002618715083798882, 0.0, 0.000375, 0.0055955855958834235, 0.0003898128898128898, 0.0009925278187954856, 0.003678843491678116, 0.0, 0.0002618715083798882, 0.003413478868848908, 0.000570259666274625, 0.004306311054463889], \"showlegend\": false, \"subplot\": \"polar\", \"theta\": [\"Unnamed: 0\", \"aggression\", \"anger\", \"crime\", \"death\", \"economy\", \"fear\", \"fight\", \"government\", \"hate\", \"horror\", \"immigration\", \"independence\", \"kill\", \"movement\", \"politics\", \"prison\", \"religion\", \"suffering\", \"terrorism\", \"violence\", \"war\"], \"type\": \"scatterpolar\", \"visible\": true}, {\"fill\": \"toself\", \"legendgroup\": \"AS\", \"line\": {\"color\": \"green\"}, \"name\": \"AS\", \"r\": [871.0, 0.0037355241530638485, 0.0006464124111182935, 0.01068568721559438, 0.0031151880378919986, 0.0, 0.0, 0.003980803246298982, 0.004641919231014678, 0.0013188117434192507, 0.00021645021645021645, 0.0, 0.0006464124111182935, 0.006387109599055081, 0.0004541492894238318, 0.0018584470328998602, 0.003404966792293148, 0.0, 0.002199129944688203, 0.008119858217994352, 0.003149681416683213, 0.008959371693142815], \"showlegend\": false, \"subplot\": \"polar\", \"theta\": [\"Unnamed: 0\", \"aggression\", \"anger\", \"crime\", \"death\", \"economy\", \"fear\", \"fight\", \"government\", \"hate\", \"horror\", \"immigration\", \"independence\", \"kill\", \"movement\", \"politics\", \"prison\", \"religion\", \"suffering\", \"terrorism\", \"violence\", \"war\"], \"type\": \"scatterpolar\", \"visible\": true}, {\"fill\": \"toself\", \"legendgroup\": \"EU\", \"line\": {\"color\": \"red\"}, \"name\": \"EU\", \"r\": [666.0, 0.0020147141984065775, 0.0, 0.01495316159840227, 0.003632533317355839, 0.0, 0.0005531993361607967, 0.004119592184557514, 0.00490901719413272, 0.0, 0.0, 0.0, 0.000589043785588062, 0.0067764953549254965, 0.000589043785588062, 0.005446446682079943, 0.0065926643490868886, 0.0, 0.0005531993361607967, 0.008454379065747948, 0.003096454760783019, 0.008548191862617247], \"showlegend\": false, \"subplot\": \"polar\", \"theta\": [\"Unnamed: 0\", \"aggression\", \"anger\", \"crime\", \"death\", \"economy\", \"fear\", \"fight\", \"government\", \"hate\", \"horror\", \"immigration\", \"independence\", \"kill\", \"movement\", \"politics\", \"prison\", \"religion\", \"suffering\", \"terrorism\", \"violence\", \"war\"], \"type\": \"scatterpolar\", \"visible\": true}, {\"fill\": \"toself\", \"legendgroup\": \"NA\", \"line\": {\"color\": \"yellow\"}, \"name\": \"NA\", \"r\": [178.0, 0.0, 0.0, 0.016654345759847925, 0.0, 0.0, 0.0, 0.0, 0.008327172879923964, 0.0, 0.0, 0.0, 0.0, 0.008575351145844335, 0.0, 0.0029411764705882357, 0.0, 0.0, 0.0, 0.0026929982046678637, 0.0, 0.008327172879923964], \"showlegend\": false, \"subplot\": \"polar\", \"theta\": [\"Unnamed: 0\", \"aggression\", \"anger\", \"crime\", \"death\", \"economy\", \"fear\", \"fight\", \"government\", \"hate\", \"horror\", \"immigration\", \"independence\", \"kill\", \"movement\", \"politics\", \"prison\", \"religion\", \"suffering\", \"terrorism\", \"violence\", \"war\"], \"type\": \"scatterpolar\", \"visible\": true}, {\"fill\": \"toself\", \"legendgroup\": \"SA\", \"line\": {\"color\": \"orange\"}, \"name\": \"SA\", \"r\": [87.0, 0.003239740820734341, 0.0, 0.009000000000000001, 0.0, 0.0, 0.0, 0.0, 0.00623974082073434, 0.003239740820734341, 0.0, 0.0, 0.0, 0.003, 0.0, 0.0, 0.003, 0.0, 0.0, 0.009239740820734341, 0.0, 0.003], \"showlegend\": false, \"subplot\": \"polar\", \"theta\": [\"Unnamed: 0\", \"aggression\", \"anger\", \"crime\", \"death\", \"economy\", \"fear\", \"fight\", \"government\", \"hate\", \"horror\", \"immigration\", \"independence\", \"kill\", \"movement\", \"politics\", \"prison\", \"religion\", \"suffering\", \"terrorism\", \"violence\", \"war\"], \"type\": \"scatterpolar\", \"visible\": true}, {\"fill\": \"toself\", \"legendgroup\": \"OC\", \"line\": {\"color\": \"purple\"}, \"name\": \"OC\", \"r\": [0.0, 0.0, 0.0, 0.0, 0.0, 0.0, 0.0, 0.0, 0.0, 0.0, 0.0, 0.0, 0.0, 0.0, 0.0, 0.0, 0.0, 0.0, 0.0, 0.0, 0.0, 0.0], \"showlegend\": false, \"subplot\": \"polar\", \"theta\": [\"Unnamed: 0\", \"aggression\", \"anger\", \"crime\", \"death\", \"economy\", \"fear\", \"fight\", \"government\", \"hate\", \"horror\", \"immigration\", \"independence\", \"kill\", \"movement\", \"politics\", \"prison\", \"religion\", \"suffering\", \"terrorism\", \"violence\", \"war\"], \"type\": \"scatterpolar\", \"visible\": true}, {\"fill\": \"toself\", \"legendgroup\": \"AF\", \"line\": {\"color\": \"blue\"}, \"name\": \"AF\", \"r\": [1433.0, 0.0, 0.0, 0.013176579946183419, 0.0019193857965451057, 0.0, 0.00423728813559322, 0.003331815175076179, 0.0014124293785310734, 0.0, 0.002824858757062147, 0.0, 0.0, 0.00423728813559322, 0.0, 0.0018691588785046728, 0.0014124293785310734, 0.0, 0.004744244553607253, 0.004744244553607253, 0.0, 0.009438262189174073], \"showlegend\": false, \"subplot\": \"polar2\", \"theta\": [\"Unnamed: 0\", \"aggression\", \"anger\", \"crime\", \"death\", \"economy\", \"fear\", \"fight\", \"government\", \"hate\", \"horror\", \"immigration\", \"independence\", \"kill\", \"movement\", \"politics\", \"prison\", \"religion\", \"suffering\", \"terrorism\", \"violence\", \"war\"], \"type\": \"scatterpolar\", \"visible\": true}, {\"fill\": \"toself\", \"legendgroup\": \"AS\", \"line\": {\"color\": \"green\"}, \"name\": \"AS\", \"r\": [36236.0, 0.0023419169553274377, 0.0, 0.004172414716059608, 0.0016316664991244093, 0.0, 0.00043422049472903045, 0.004801215179989551, 0.004508207794232775, 0.0002340036793309118, 0.0003884772650318112, 0.0, 0.00020933277276803626, 0.0022642144481799177, 0.0009139728421827986, 0.0012459088079274814, 0.001733093347037124, 0.0003881163391290461, 0.0007126777258600388, 0.003227141746001793, 0.0011852486094160498, 0.008359848761124783], \"showlegend\": false, \"subplot\": \"polar2\", \"theta\": [\"Unnamed: 0\", \"aggression\", \"anger\", \"crime\", \"death\", \"economy\", \"fear\", \"fight\", \"government\", \"hate\", \"horror\", \"immigration\", \"independence\", \"kill\", \"movement\", \"politics\", \"prison\", \"religion\", \"suffering\", \"terrorism\", \"violence\", \"war\"], \"type\": \"scatterpolar\", \"visible\": true}, {\"fill\": \"toself\", \"legendgroup\": \"EU\", \"line\": {\"color\": \"red\"}, \"name\": \"EU\", \"r\": [5105.0, 0.0005337128624799857, 0.0005454545454545455, 0.006198362083450937, 0.0, 0.0, 0.0030794939126283128, 0.0013041288871332983, 0.0013041288871332983, 0.0013019587011483596, 0.003494848638963141, 0.0, 0.0, 0.0028449609364399244, 0.001954016589656516, 0.002356696867503812, 0.001956186775641455, 0.0011857707509881422, 0.0015408320493066256, 0.0046575300341443115, 0.0, 0.0066137299199027525], \"showlegend\": false, \"subplot\": \"polar2\", \"theta\": [\"Unnamed: 0\", \"aggression\", \"anger\", \"crime\", \"death\", \"economy\", \"fear\", \"fight\", \"government\", \"hate\", \"horror\", \"immigration\", \"independence\", \"kill\", \"movement\", \"politics\", \"prison\", \"religion\", \"suffering\", \"terrorism\", \"violence\", \"war\"], \"type\": \"scatterpolar\", \"visible\": true}, {\"fill\": \"toself\", \"legendgroup\": \"NA\", \"line\": {\"color\": \"yellow\"}, \"name\": \"NA\", \"r\": [8951.0, 0.0004985959035643901, 0.00025303643724696357, 0.003604260270871762, 0.0008485105268548935, 0.0, 0.0003151591553734637, 0.003158351469426845, 0.00499444172678321, 0.00020586015233651275, 0.0, 0.0, 0.0, 0.0014356732009784452, 0.0005248218658456582, 0.0014537028606783377, 0.003300186284508431, 0.0, 0.0, 0.0021867605897298594, 0.0002455594663174266, 0.0024041510980040296], \"showlegend\": false, \"subplot\": \"polar2\", \"theta\": [\"Unnamed: 0\", \"aggression\", \"anger\", \"crime\", \"death\", \"economy\", \"fear\", \"fight\", \"government\", \"hate\", \"horror\", \"immigration\", \"independence\", \"kill\", \"movement\", \"politics\", \"prison\", \"religion\", \"suffering\", \"terrorism\", \"violence\", \"war\"], \"type\": \"scatterpolar\", \"visible\": true}, {\"fill\": \"toself\", \"legendgroup\": \"SA\", \"line\": {\"color\": \"orange\"}, \"name\": \"SA\", \"r\": [407.0, 0.0, 0.0, 0.0, 0.0, 0.0, 0.0, 0.0, 0.0, 0.0, 0.0, 0.0, 0.0, 0.0, 0.0, 0.0, 0.0, 0.0, 0.0, 0.008379888268156423, 0.0, 0.0], \"showlegend\": false, \"subplot\": \"polar2\", \"theta\": [\"Unnamed: 0\", \"aggression\", \"anger\", \"crime\", \"death\", \"economy\", \"fear\", \"fight\", \"government\", \"hate\", \"horror\", \"immigration\", \"independence\", \"kill\", \"movement\", \"politics\", \"prison\", \"religion\", \"suffering\", \"terrorism\", \"violence\", \"war\"], \"type\": \"scatterpolar\", \"visible\": true}, {\"fill\": \"toself\", \"legendgroup\": \"OC\", \"line\": {\"color\": \"purple\"}, \"name\": \"OC\", \"r\": [573.0, 0.005067567567567568, 0.0, 0.005067567567567568, 0.0, 0.0, 0.0, 0.0, 0.005067567567567568, 0.0, 0.0, 0.0, 0.0, 0.010135135135135136, 0.0, 0.0, 0.005067567567567568, 0.0, 0.005067567567567568, 0.0, 0.0, 0.0], \"showlegend\": false, \"subplot\": \"polar2\", \"theta\": [\"Unnamed: 0\", \"aggression\", \"anger\", \"crime\", \"death\", \"economy\", \"fear\", \"fight\", \"government\", \"hate\", \"horror\", \"immigration\", \"independence\", \"kill\", \"movement\", \"politics\", \"prison\", \"religion\", \"suffering\", \"terrorism\", \"violence\", \"war\"], \"type\": \"scatterpolar\", \"visible\": true}, {\"fill\": \"toself\", \"legendgroup\": \"AF\", \"line\": {\"color\": \"blue\"}, \"name\": \"AF\", \"r\": [0.0, 0.0, 0.0, 0.0, 0.0, 0.0, 0.0, 0.0, 0.0, 0.0, 0.0, 0.0, 0.0, 0.0, 0.0, 0.0, 0.0, 0.0, 0.0, 0.0, 0.0, 0.0], \"showlegend\": false, \"subplot\": \"polar3\", \"theta\": [\"Unnamed: 0\", \"aggression\", \"anger\", \"crime\", \"death\", \"economy\", \"fear\", \"fight\", \"government\", \"hate\", \"horror\", \"immigration\", \"independence\", \"kill\", \"movement\", \"politics\", \"prison\", \"religion\", \"suffering\", \"terrorism\", \"violence\", \"war\"], \"type\": \"scatterpolar\", \"visible\": true}, {\"fill\": \"toself\", \"legendgroup\": \"AS\", \"line\": {\"color\": \"green\"}, \"name\": \"AS\", \"r\": [21880.0, 0.004374414301489241, 0.0, 0.0033749843886599225, 0.0014237622759947352, 0.0, 0.0006884681583476765, 0.005097741607095027, 0.0033749843886599225, 0.0014237622759947352, 0.0, 0.0, 0.0, 0.005109708419136299, 0.0, 0.0, 0.002433807918071687, 0.0, 0.0014237622759947352, 0.0026396902710128637, 0.0007352941176470587, 0.007014104572502104], \"showlegend\": false, \"subplot\": \"polar3\", \"theta\": [\"Unnamed: 0\", \"aggression\", \"anger\", \"crime\", \"death\", \"economy\", \"fear\", \"fight\", \"government\", \"hate\", \"horror\", \"immigration\", \"independence\", \"kill\", \"movement\", \"politics\", \"prison\", \"religion\", \"suffering\", \"terrorism\", \"violence\", \"war\"], \"type\": \"scatterpolar\", \"visible\": true}, {\"fill\": \"toself\", \"legendgroup\": \"EU\", \"line\": {\"color\": \"red\"}, \"name\": \"EU\", \"r\": [10954.0, 0.0018779342723004694, 0.0, 0.0, 0.0, 0.0, 0.0, 0.0018779342723004694, 0.005598011415043158, 0.0, 0.0, 0.0, 0.0, 0.0018779342723004694, 0.0016985138004246285, 0.0004, 0.003572849526537758, 0.0004, 0.0, 0.0004, 0.0, 0.0018779342723004694], \"showlegend\": false, \"subplot\": \"polar3\", \"theta\": [\"Unnamed: 0\", \"aggression\", \"anger\", \"crime\", \"death\", \"economy\", \"fear\", \"fight\", \"government\", \"hate\", \"horror\", \"immigration\", \"independence\", \"kill\", \"movement\", \"politics\", \"prison\", \"religion\", \"suffering\", \"terrorism\", \"violence\", \"war\"], \"type\": \"scatterpolar\", \"visible\": true}, {\"fill\": \"toself\", \"legendgroup\": \"NA\", \"line\": {\"color\": \"yellow\"}, \"name\": \"NA\", \"r\": [2186.0, 0.0, 0.0, 0.0, 0.0068846815834767644, 0.0, 0.0068846815834767644, 0.0, 0.0, 0.0068846815834767644, 0.0, 0.0, 0.0, 0.0, 0.0, 0.0, 0.0, 0.0, 0.0068846815834767644, 0.0, 0.0, 0.0], \"showlegend\": false, \"subplot\": \"polar3\", \"theta\": [\"Unnamed: 0\", \"aggression\", \"anger\", \"crime\", \"death\", \"economy\", \"fear\", \"fight\", \"government\", \"hate\", \"horror\", \"immigration\", \"independence\", \"kill\", \"movement\", \"politics\", \"prison\", \"religion\", \"suffering\", \"terrorism\", \"violence\", \"war\"], \"type\": \"scatterpolar\", \"visible\": true}, {\"fill\": \"toself\", \"legendgroup\": \"SA\", \"line\": {\"color\": \"orange\"}, \"name\": \"SA\", \"r\": [0.0, 0.0, 0.0, 0.0, 0.0, 0.0, 0.0, 0.0, 0.0, 0.0, 0.0, 0.0, 0.0, 0.0, 0.0, 0.0, 0.0, 0.0, 0.0, 0.0, 0.0, 0.0], \"showlegend\": false, \"subplot\": \"polar3\", \"theta\": [\"Unnamed: 0\", \"aggression\", \"anger\", \"crime\", \"death\", \"economy\", \"fear\", \"fight\", \"government\", \"hate\", \"horror\", \"immigration\", \"independence\", \"kill\", \"movement\", \"politics\", \"prison\", \"religion\", \"suffering\", \"terrorism\", \"violence\", \"war\"], \"type\": \"scatterpolar\", \"visible\": true}, {\"fill\": \"toself\", \"legendgroup\": \"OC\", \"line\": {\"color\": \"purple\"}, \"name\": \"OC\", \"r\": [0.0, 0.0, 0.0, 0.0, 0.0, 0.0, 0.0, 0.0, 0.0, 0.0, 0.0, 0.0, 0.0, 0.0, 0.0, 0.0, 0.0, 0.0, 0.0, 0.0, 0.0, 0.0], \"showlegend\": false, \"subplot\": \"polar3\", \"theta\": [\"Unnamed: 0\", \"aggression\", \"anger\", \"crime\", \"death\", \"economy\", \"fear\", \"fight\", \"government\", \"hate\", \"horror\", \"immigration\", \"independence\", \"kill\", \"movement\", \"politics\", \"prison\", \"religion\", \"suffering\", \"terrorism\", \"violence\", \"war\"], \"type\": \"scatterpolar\", \"visible\": true}, {\"fill\": \"toself\", \"legendgroup\": \"AF\", \"line\": {\"color\": \"blue\"}, \"name\": \"AF\", \"r\": [138199.0, 0.0017600382866572721, 0.0, 0.0019211541985322508, 0.0009055650422384063, 0.0, 0.00044540746614586045, 0.0019330661786629115, 0.002119526224172587, 0.0, 0.0003803668157393564, 0.0, 0.0004092017506230339, 0.002236709071149777, 0.00027079424640400254, 0.00030578664198574424, 0.0014976213825627941, 0.0004245920511453635, 0.00125033182467779, 0.001995171811396973, 0.0013942901366171942, 0.002975035402692025], \"subplot\": \"polar4\", \"theta\": [\"Unnamed: 0\", \"aggression\", \"anger\", \"crime\", \"death\", \"economy\", \"fear\", \"fight\", \"government\", \"hate\", \"horror\", \"immigration\", \"independence\", \"kill\", \"movement\", \"politics\", \"prison\", \"religion\", \"suffering\", \"terrorism\", \"violence\", \"war\"], \"type\": \"scatterpolar\", \"visible\": true}, {\"fill\": \"toself\", \"legendgroup\": \"AS\", \"line\": {\"color\": \"green\"}, \"name\": \"AS\", \"r\": [245885.0, 0.0022894539071363343, 0.00010729997496333916, 0.0035737905309763318, 0.0008408261579154621, 0.0, 0.0004766557300017729, 0.0028380347320783473, 0.0023408783558785096, 0.00010729997496333916, 0.00014384250709737877, 0.0, 0.0, 0.002720574917535379, 0.0007683577729946901, 0.0003431232196947733, 0.0008188698887114313, 0.000669569941648204, 0.001102146536720454, 0.002423391790751345, 0.0009386501815123458, 0.004385855168595887], \"subplot\": \"polar4\", \"theta\": [\"Unnamed: 0\", \"aggression\", \"anger\", \"crime\", \"death\", \"economy\", \"fear\", \"fight\", \"government\", \"hate\", \"horror\", \"immigration\", \"independence\", \"kill\", \"movement\", \"politics\", \"prison\", \"religion\", \"suffering\", \"terrorism\", \"violence\", \"war\"], \"type\": \"scatterpolar\", \"visible\": true}, {\"fill\": \"toself\", \"legendgroup\": \"EU\", \"line\": {\"color\": \"red\"}, \"name\": \"EU\", \"r\": [87407.0, 0.0016825610976624783, 0.0, 0.0028658274547687865, 0.0014417206724899032, 0.0, 0.0, 0.0016941607694479603, 0.0015142383862532878, 0.0, 0.0005052582234369058, 0.0, 0.0, 0.0032651785272126282, 0.0005646877369413049, 0.0008459544670253879, 0.001392967951621832, 0.0008184908764730953, 0.0008904969495801036, 0.004262223352838148, 0.0012382526975287156, 0.002882614844095556], \"subplot\": \"polar4\", \"theta\": [\"Unnamed: 0\", \"aggression\", \"anger\", \"crime\", \"death\", \"economy\", \"fear\", \"fight\", \"government\", \"hate\", \"horror\", \"immigration\", \"independence\", \"kill\", \"movement\", \"politics\", \"prison\", \"religion\", \"suffering\", \"terrorism\", \"violence\", \"war\"], \"type\": \"scatterpolar\", \"visible\": true}, {\"fill\": \"toself\", \"legendgroup\": \"NA\", \"line\": {\"color\": \"yellow\"}, \"name\": \"NA\", \"r\": [63444.0, 0.0013875293117836416, 0.0, 0.0030837115064758437, 0.0019464554197359525, 0.0, 0.0002370791844476055, 0.0021310606128121384, 0.0015373253358863296, 0.0, 0.0002370791844476055, 0.0, 0.00020559210526315788, 0.001949160220920535, 0.0, 0.0005320198440227071, 0.0012253582342599632, 0.0004220172424187617, 0.000991445588040967, 0.0014056014506507218, 0.0005473263135571636, 0.0028825782236295097], \"subplot\": \"polar4\", \"theta\": [\"Unnamed: 0\", \"aggression\", \"anger\", \"crime\", \"death\", \"economy\", \"fear\", \"fight\", \"government\", \"hate\", \"horror\", \"immigration\", \"independence\", \"kill\", \"movement\", \"politics\", \"prison\", \"religion\", \"suffering\", \"terrorism\", \"violence\", \"war\"], \"type\": \"scatterpolar\", \"visible\": true}, {\"fill\": \"toself\", \"legendgroup\": \"SA\", \"line\": {\"color\": \"orange\"}, \"name\": \"SA\", \"r\": [13596.0, 0.003050642837980065, 0.0, 0.0031445405204614395, 0.003293125864168232, 0.0, 0.0, 0.0037533252416607384, 0.0047872340425531915, 0.0020807107332273976, 0.0, 0.0, 0.0, 0.003778091916544565, 0.0004849660523763336, 0.0, 0.00314454052046144, 0.0, 0.003293125864168232, 0.0031914893617021275, 0.003778091916544565, 0.006897865762122178], \"subplot\": \"polar4\", \"theta\": [\"Unnamed: 0\", \"aggression\", \"anger\", \"crime\", \"death\", \"economy\", \"fear\", \"fight\", \"government\", \"hate\", \"horror\", \"immigration\", \"independence\", \"kill\", \"movement\", \"politics\", \"prison\", \"religion\", \"suffering\", \"terrorism\", \"violence\", \"war\"], \"type\": \"scatterpolar\", \"visible\": true}, {\"fill\": \"toself\", \"legendgroup\": \"OC\", \"line\": {\"color\": \"purple\"}, \"name\": \"OC\", \"r\": [6715.0, 0.005656108597285068, 0.0, 0.00589622641509434, 0.0, 0.0, 0.0, 0.005656108597285068, 0.0022624434389140274, 0.0, 0.0, 0.0, 0.0, 0.00589622641509434, 0.0, 0.0022624434389140274, 0.0, 0.0, 0.006931401007427645, 0.00928989157346538, 0.003393665158371041, 0.01744856142747375], \"subplot\": \"polar4\", \"theta\": [\"Unnamed: 0\", \"aggression\", \"anger\", \"crime\", \"death\", \"economy\", \"fear\", \"fight\", \"government\", \"hate\", \"horror\", \"immigration\", \"independence\", \"kill\", \"movement\", \"politics\", \"prison\", \"religion\", \"suffering\", \"terrorism\", \"violence\", \"war\"], \"type\": \"scatterpolar\", \"visible\": true}],\n",
       "                        {\"annotations\": [{\"font\": {\"size\": 16}, \"showarrow\": false, \"text\": \"1997\", \"x\": 0.05, \"xanchor\": \"center\", \"xref\": \"paper\", \"y\": 1.0, \"yanchor\": \"bottom\", \"yref\": \"paper\"}, {\"font\": {\"size\": 16}, \"showarrow\": false, \"text\": \"2001\", \"x\": 0.555, \"xanchor\": \"center\", \"xref\": \"paper\", \"y\": 1.0, \"yanchor\": \"bottom\", \"yref\": \"paper\"}, {\"font\": {\"size\": 16}, \"showarrow\": false, \"text\": \"2010\", \"x\": 0.05, \"xanchor\": \"center\", \"xref\": \"paper\", \"y\": 0.375, \"yanchor\": \"bottom\", \"yref\": \"paper\"}, {\"font\": {\"size\": 16}, \"showarrow\": false, \"text\": \"2017\", \"x\": 0.555, \"xanchor\": \"center\", \"xref\": \"paper\", \"y\": 0.375, \"yanchor\": \"bottom\", \"yref\": \"paper\"}], \"height\": 800, \"polar\": {\"domain\": {\"x\": [0.0, 0.45], \"y\": [0.625, 1.0]}}, \"polar2\": {\"domain\": {\"x\": [0.55, 1.0], \"y\": [0.625, 1.0]}}, \"polar3\": {\"domain\": {\"x\": [0.0, 0.45], \"y\": [0.0, 0.375]}}, \"polar4\": {\"domain\": {\"x\": [0.55, 1.0], \"y\": [0.0, 0.375]}}, \"template\": {\"data\": {\"bar\": [{\"error_x\": {\"color\": \"#2a3f5f\"}, \"error_y\": {\"color\": \"#2a3f5f\"}, \"marker\": {\"line\": {\"color\": \"#E5ECF6\", \"width\": 0.5}}, \"type\": \"bar\"}], \"barpolar\": [{\"marker\": {\"line\": {\"color\": \"#E5ECF6\", \"width\": 0.5}}, \"type\": \"barpolar\"}], \"carpet\": [{\"aaxis\": {\"endlinecolor\": \"#2a3f5f\", \"gridcolor\": \"white\", \"linecolor\": \"white\", \"minorgridcolor\": \"white\", \"startlinecolor\": \"#2a3f5f\"}, \"baxis\": {\"endlinecolor\": \"#2a3f5f\", \"gridcolor\": \"white\", \"linecolor\": \"white\", \"minorgridcolor\": \"white\", \"startlinecolor\": \"#2a3f5f\"}, \"type\": \"carpet\"}], \"choropleth\": [{\"colorbar\": {\"outlinewidth\": 0, \"ticks\": \"\"}, \"type\": \"choropleth\"}], \"contour\": [{\"colorbar\": {\"outlinewidth\": 0, \"ticks\": \"\"}, \"colorscale\": [[0.0, \"#0d0887\"], [0.1111111111111111, \"#46039f\"], [0.2222222222222222, \"#7201a8\"], [0.3333333333333333, \"#9c179e\"], [0.4444444444444444, \"#bd3786\"], [0.5555555555555556, \"#d8576b\"], [0.6666666666666666, \"#ed7953\"], [0.7777777777777778, \"#fb9f3a\"], [0.8888888888888888, \"#fdca26\"], [1.0, \"#f0f921\"]], \"type\": \"contour\"}], \"contourcarpet\": [{\"colorbar\": {\"outlinewidth\": 0, \"ticks\": \"\"}, \"type\": \"contourcarpet\"}], \"heatmap\": [{\"colorbar\": {\"outlinewidth\": 0, \"ticks\": \"\"}, \"colorscale\": [[0.0, \"#0d0887\"], [0.1111111111111111, \"#46039f\"], [0.2222222222222222, \"#7201a8\"], [0.3333333333333333, \"#9c179e\"], [0.4444444444444444, \"#bd3786\"], [0.5555555555555556, \"#d8576b\"], [0.6666666666666666, \"#ed7953\"], [0.7777777777777778, \"#fb9f3a\"], [0.8888888888888888, \"#fdca26\"], [1.0, \"#f0f921\"]], \"type\": \"heatmap\"}], \"heatmapgl\": [{\"colorbar\": {\"outlinewidth\": 0, \"ticks\": \"\"}, \"colorscale\": [[0.0, \"#0d0887\"], [0.1111111111111111, \"#46039f\"], [0.2222222222222222, \"#7201a8\"], [0.3333333333333333, \"#9c179e\"], [0.4444444444444444, \"#bd3786\"], [0.5555555555555556, \"#d8576b\"], [0.6666666666666666, \"#ed7953\"], [0.7777777777777778, \"#fb9f3a\"], [0.8888888888888888, \"#fdca26\"], [1.0, \"#f0f921\"]], \"type\": \"heatmapgl\"}], \"histogram\": [{\"marker\": {\"colorbar\": {\"outlinewidth\": 0, \"ticks\": \"\"}}, \"type\": \"histogram\"}], \"histogram2d\": [{\"colorbar\": {\"outlinewidth\": 0, \"ticks\": \"\"}, \"colorscale\": [[0.0, \"#0d0887\"], [0.1111111111111111, \"#46039f\"], [0.2222222222222222, \"#7201a8\"], [0.3333333333333333, \"#9c179e\"], [0.4444444444444444, \"#bd3786\"], [0.5555555555555556, \"#d8576b\"], [0.6666666666666666, \"#ed7953\"], [0.7777777777777778, \"#fb9f3a\"], [0.8888888888888888, \"#fdca26\"], [1.0, \"#f0f921\"]], \"type\": \"histogram2d\"}], \"histogram2dcontour\": [{\"colorbar\": {\"outlinewidth\": 0, \"ticks\": \"\"}, \"colorscale\": [[0.0, \"#0d0887\"], [0.1111111111111111, \"#46039f\"], [0.2222222222222222, \"#7201a8\"], [0.3333333333333333, \"#9c179e\"], [0.4444444444444444, \"#bd3786\"], [0.5555555555555556, \"#d8576b\"], [0.6666666666666666, \"#ed7953\"], [0.7777777777777778, \"#fb9f3a\"], [0.8888888888888888, \"#fdca26\"], [1.0, \"#f0f921\"]], \"type\": \"histogram2dcontour\"}], \"mesh3d\": [{\"colorbar\": {\"outlinewidth\": 0, \"ticks\": \"\"}, \"type\": \"mesh3d\"}], \"parcoords\": [{\"line\": {\"colorbar\": {\"outlinewidth\": 0, \"ticks\": \"\"}}, \"type\": \"parcoords\"}], \"pie\": [{\"automargin\": true, \"type\": \"pie\"}], \"scatter\": [{\"marker\": {\"colorbar\": {\"outlinewidth\": 0, \"ticks\": \"\"}}, \"type\": \"scatter\"}], \"scatter3d\": [{\"line\": {\"colorbar\": {\"outlinewidth\": 0, \"ticks\": \"\"}}, \"marker\": {\"colorbar\": {\"outlinewidth\": 0, \"ticks\": \"\"}}, \"type\": \"scatter3d\"}], \"scattercarpet\": [{\"marker\": {\"colorbar\": {\"outlinewidth\": 0, \"ticks\": \"\"}}, \"type\": \"scattercarpet\"}], \"scattergeo\": [{\"marker\": {\"colorbar\": {\"outlinewidth\": 0, \"ticks\": \"\"}}, \"type\": \"scattergeo\"}], \"scattergl\": [{\"marker\": {\"colorbar\": {\"outlinewidth\": 0, \"ticks\": \"\"}}, \"type\": \"scattergl\"}], \"scattermapbox\": [{\"marker\": {\"colorbar\": {\"outlinewidth\": 0, \"ticks\": \"\"}}, \"type\": \"scattermapbox\"}], \"scatterpolar\": [{\"marker\": {\"colorbar\": {\"outlinewidth\": 0, \"ticks\": \"\"}}, \"type\": \"scatterpolar\"}], \"scatterpolargl\": [{\"marker\": {\"colorbar\": {\"outlinewidth\": 0, \"ticks\": \"\"}}, \"type\": \"scatterpolargl\"}], \"scatterternary\": [{\"marker\": {\"colorbar\": {\"outlinewidth\": 0, \"ticks\": \"\"}}, \"type\": \"scatterternary\"}], \"surface\": [{\"colorbar\": {\"outlinewidth\": 0, \"ticks\": \"\"}, \"colorscale\": [[0.0, \"#0d0887\"], [0.1111111111111111, \"#46039f\"], [0.2222222222222222, \"#7201a8\"], [0.3333333333333333, \"#9c179e\"], [0.4444444444444444, \"#bd3786\"], [0.5555555555555556, \"#d8576b\"], [0.6666666666666666, \"#ed7953\"], [0.7777777777777778, \"#fb9f3a\"], [0.8888888888888888, \"#fdca26\"], [1.0, \"#f0f921\"]], \"type\": \"surface\"}], \"table\": [{\"cells\": {\"fill\": {\"color\": \"#EBF0F8\"}, \"line\": {\"color\": \"white\"}}, \"header\": {\"fill\": {\"color\": \"#C8D4E3\"}, \"line\": {\"color\": \"white\"}}, \"type\": \"table\"}]}, \"layout\": {\"annotationdefaults\": {\"arrowcolor\": \"#2a3f5f\", \"arrowhead\": 0, \"arrowwidth\": 1}, \"coloraxis\": {\"colorbar\": {\"outlinewidth\": 0, \"ticks\": \"\"}}, \"colorscale\": {\"diverging\": [[0, \"#8e0152\"], [0.1, \"#c51b7d\"], [0.2, \"#de77ae\"], [0.3, \"#f1b6da\"], [0.4, \"#fde0ef\"], [0.5, \"#f7f7f7\"], [0.6, \"#e6f5d0\"], [0.7, \"#b8e186\"], [0.8, \"#7fbc41\"], [0.9, \"#4d9221\"], [1, \"#276419\"]], \"sequential\": [[0.0, \"#0d0887\"], [0.1111111111111111, \"#46039f\"], [0.2222222222222222, \"#7201a8\"], [0.3333333333333333, \"#9c179e\"], [0.4444444444444444, \"#bd3786\"], [0.5555555555555556, \"#d8576b\"], [0.6666666666666666, \"#ed7953\"], [0.7777777777777778, \"#fb9f3a\"], [0.8888888888888888, \"#fdca26\"], [1.0, \"#f0f921\"]], \"sequentialminus\": [[0.0, \"#0d0887\"], [0.1111111111111111, \"#46039f\"], [0.2222222222222222, \"#7201a8\"], [0.3333333333333333, \"#9c179e\"], [0.4444444444444444, \"#bd3786\"], [0.5555555555555556, \"#d8576b\"], [0.6666666666666666, \"#ed7953\"], [0.7777777777777778, \"#fb9f3a\"], [0.8888888888888888, \"#fdca26\"], [1.0, \"#f0f921\"]]}, \"colorway\": [\"#636efa\", \"#EF553B\", \"#00cc96\", \"#ab63fa\", \"#FFA15A\", \"#19d3f3\", \"#FF6692\", \"#B6E880\", \"#FF97FF\", \"#FECB52\"], \"font\": {\"color\": \"#2a3f5f\"}, \"geo\": {\"bgcolor\": \"white\", \"lakecolor\": \"white\", \"landcolor\": \"#E5ECF6\", \"showlakes\": true, \"showland\": true, \"subunitcolor\": \"white\"}, \"hoverlabel\": {\"align\": \"left\"}, \"hovermode\": \"closest\", \"mapbox\": {\"style\": \"light\"}, \"paper_bgcolor\": \"white\", \"plot_bgcolor\": \"#E5ECF6\", \"polar\": {\"angularaxis\": {\"gridcolor\": \"white\", \"linecolor\": \"white\", \"ticks\": \"\"}, \"bgcolor\": \"#E5ECF6\", \"radialaxis\": {\"gridcolor\": \"white\", \"linecolor\": \"white\", \"ticks\": \"\"}}, \"scene\": {\"xaxis\": {\"backgroundcolor\": \"#E5ECF6\", \"gridcolor\": \"white\", \"gridwidth\": 2, \"linecolor\": \"white\", \"showbackground\": true, \"ticks\": \"\", \"zerolinecolor\": \"white\"}, \"yaxis\": {\"backgroundcolor\": \"#E5ECF6\", \"gridcolor\": \"white\", \"gridwidth\": 2, \"linecolor\": \"white\", \"showbackground\": true, \"ticks\": \"\", \"zerolinecolor\": \"white\"}, \"zaxis\": {\"backgroundcolor\": \"#E5ECF6\", \"gridcolor\": \"white\", \"gridwidth\": 2, \"linecolor\": \"white\", \"showbackground\": true, \"ticks\": \"\", \"zerolinecolor\": \"white\"}}, \"shapedefaults\": {\"line\": {\"color\": \"#2a3f5f\"}}, \"ternary\": {\"aaxis\": {\"gridcolor\": \"white\", \"linecolor\": \"white\", \"ticks\": \"\"}, \"baxis\": {\"gridcolor\": \"white\", \"linecolor\": \"white\", \"ticks\": \"\"}, \"bgcolor\": \"#E5ECF6\", \"caxis\": {\"gridcolor\": \"white\", \"linecolor\": \"white\", \"ticks\": \"\"}}, \"title\": {\"x\": 0.05}, \"xaxis\": {\"automargin\": true, \"gridcolor\": \"white\", \"linecolor\": \"white\", \"ticks\": \"\", \"title\": {\"standoff\": 15}, \"zerolinecolor\": \"white\", \"zerolinewidth\": 2}, \"yaxis\": {\"automargin\": true, \"gridcolor\": \"white\", \"linecolor\": \"white\", \"ticks\": \"\", \"title\": {\"standoff\": 15}, \"zerolinecolor\": \"white\", \"zerolinewidth\": 2}}}, \"title\": {\"text\": \"Frequency of themes coupled with terrorism per continent\"}, \"width\": 1000},\n",
       "                        {\"responsive\": true}\n",
       "                    ).then(function(){\n",
       "                            \n",
       "var gd = document.getElementById('ee00fc3b-a7a7-4578-91d8-ae03b8531477');\n",
       "var x = new MutationObserver(function (mutations, observer) {{\n",
       "        var display = window.getComputedStyle(gd).display;\n",
       "        if (!display || display === 'none') {{\n",
       "            console.log([gd, 'removed!']);\n",
       "            Plotly.purge(gd);\n",
       "            observer.disconnect();\n",
       "        }}\n",
       "}});\n",
       "\n",
       "// Listen for the removal of the full notebook cells\n",
       "var notebookContainer = gd.closest('#notebook-container');\n",
       "if (notebookContainer) {{\n",
       "    x.observe(notebookContainer, {childList: true});\n",
       "}}\n",
       "\n",
       "// Listen for the clearing of the current output cell\n",
       "var outputEl = gd.closest('.output');\n",
       "if (outputEl) {{\n",
       "    x.observe(outputEl, {childList: true});\n",
       "}}\n",
       "\n",
       "                        })\n",
       "                };\n",
       "                });\n",
       "            </script>\n",
       "        </div>"
      ]
     },
     "metadata": {},
     "output_type": "display_data"
    },
    {
     "data": {
      "text/plain": [
       "'../plots/Themes_terrorism_continent.html'"
      ]
     },
     "execution_count": 310,
     "metadata": {},
     "output_type": "execute_result"
    }
   ],
   "source": [
    "fig = make_subplots(rows=2, cols=2, specs=[[{'type': 'polar'}]*2]*2, \n",
    "                    subplot_titles=('1997', '2001', '2010', '2017'))\n",
    "\n",
    "\n",
    "colors = ['blue', 'green', 'red', 'yellow', 'orange', 'purple', 'cyan', 'turquoise']\n",
    "i = 0\n",
    "for t in continents :\n",
    "        fig.add_trace(go.Scatterpolar(r=df_time[:].loc[1997].loc[t],\n",
    "                             theta=df_time[:].loc[1997].loc[t].index, fill='toself', name='{}'.format(t), legendgroup = t, visible= True, \n",
    "                                      line={'color': colors[i]},\n",
    "                                      showlegend = False) , 1, 1)\n",
    "        i +=1\n",
    "i = 0\n",
    "\n",
    "\n",
    "for t in continents :\n",
    "        fig.add_trace(go.Scatterpolar(r=df_time[:].loc[2001].loc[t],\n",
    "                             theta=df_time[:].loc[2001].loc[t].index, fill='toself',name='{}'.format(t),legendgroup = t, visible= True, \n",
    "                                      line={'color': colors[i]},\n",
    "                                      showlegend = False), 1, 2)\n",
    "        i +=1\n",
    "i = 0\n",
    "for t in continents :\n",
    "        fig.add_trace(go.Scatterpolar(r=df_time[:].loc[2010].loc[t],\n",
    "                             theta=df_time[:].loc[2010].loc[t].index, fill='toself',name='{}'.format(t),legendgroup = t, visible= True, \n",
    "                                      line={'color': colors[i]},\n",
    "                                      showlegend = False), 2, 1)\n",
    "        i +=1\n",
    "\n",
    "i = 0\n",
    "for t in continents :\n",
    "        fig.add_trace(go.Scatterpolar(r=df_time[:].loc[2017].loc[t],\n",
    "                             theta=df_time[:].loc[2017].loc[t].index,fill='toself', name='{}'.format(t),legendgroup = t, visible= True, \n",
    "                                      line={'color': colors[i]},\n",
    "                                      ), 2, 2)\n",
    "        i +=1\n",
    "# Update yaxis properties\n",
    "annot =list(fig.layout.annotations)\n",
    "\n",
    "annot[0].x = 0.05\n",
    "annot[2].x = 0.05\n",
    "annot[1].x = 0.555\n",
    "annot[3].x = 0.555\n",
    "fig.layout.annotations = annot       \n",
    "fig.update_layout(height=800, width=1000, title_text=\"Frequency of themes coupled with terrorism per continent\", annotations = annot)\n",
    "fig.show()\n",
    "plotly.offline.plot(fig, filename = '../plots/Themes_terrorism_continent.html', auto_open=False)"
   ]
  },
  {
   "cell_type": "markdown",
   "metadata": {},
   "source": [
    "## Plot score of two diff countries (on one theme) and its evolution during the years"
   ]
  },
  {
   "cell_type": "code",
   "execution_count": 209,
   "metadata": {},
   "outputs": [
    {
     "name": "stderr",
     "output_type": "stream",
     "text": [
      "C:\\Users\\annin\\Anaconda3\\envs\\ada\\lib\\site-packages\\pandas\\core\\frame.py:4117: SettingWithCopyWarning:\n",
      "\n",
      "\n",
      "A value is trying to be set on a copy of a slice from a DataFrame\n",
      "\n",
      "See the caveats in the documentation: http://pandas.pydata.org/pandas-docs/stable/user_guide/indexing.html#returning-a-view-versus-a-copy\n",
      "\n"
     ]
    }
   ],
   "source": [
    "#we want to plot the score per year only for Iraq and Unites States (maybe afghanistan?)\n",
    "df_score_US_IR = df_continents.loc[(df_continents.countries=='Iraq') | (df_continents.countries=='United States')]#want the score per country per year\n",
    "df_score_US_IR.reset_index(inplace=True)\n",
    "df_score_US_IR.drop(columns='index',inplace=True)\n",
    "#df_score_US_IR.groupby(['countries','year'])"
   ]
  },
  {
   "cell_type": "code",
   "execution_count": 210,
   "metadata": {},
   "outputs": [
    {
     "data": {
      "text/plain": [
       "year  countries      countries    \n",
       "1997  Iraq           Iraq             1\n",
       "1998  Iraq           Iraq             5\n",
       "      United States  United States    1\n",
       "2000  Iraq           Iraq             1\n",
       "      United States  United States    2\n",
       "Name: countries, dtype: int64"
      ]
     },
     "execution_count": 210,
     "metadata": {},
     "output_type": "execute_result"
    }
   ],
   "source": [
    "#to show that in some years one of the two countries analysed is not represented\n",
    "a=df_score_US_IR.groupby(['year','countries'])\n",
    "a['countries'].value_counts()[0:5]"
   ]
  },
  {
   "cell_type": "code",
   "execution_count": 211,
   "metadata": {},
   "outputs": [],
   "source": [
    "df_country = df_score_US_IR.groupby(['year','countries']).sum()\n",
    "df_country.sort_index(inplace=True) \n",
    "countries = df_country.index.get_level_values(1).unique()"
   ]
  },
  {
   "cell_type": "code",
   "execution_count": 212,
   "metadata": {},
   "outputs": [],
   "source": [
    "# Fill the values of the countries with 0 when they are not represented one year (for plotting)\n",
    "      \n",
    "\n",
    "for group, data in df_country.groupby(level=('year')) :\n",
    "    countries_count = []\n",
    "    \n",
    "    for country_ in data.index :\n",
    "        countries_count.append(country_[1])\n",
    "    \n",
    "    for t in countries : #coutnries fr me\n",
    "        if t not in countries_count :\n",
    "            df_country.at[(group, t), c] = 0\n",
    "            \n",
    "df_country.sort_index(inplace=True)                       \n",
    "df_country.reset_index(inplace=True)"
   ]
  },
  {
   "cell_type": "code",
   "execution_count": 213,
   "metadata": {},
   "outputs": [
    {
     "name": "stderr",
     "output_type": "stream",
     "text": [
      "\n",
      "40it [00:00, 437.24it/s]\n"
     ]
    }
   ],
   "source": [
    "#to normalize the sum of the score obtained by the nb of countries contributing to it for all years\n",
    "Score_norm = []\n",
    "Nb_ir_us = df_country['countries'].value_counts()\n",
    "\n",
    "for i, row in tqdm(df_country.iterrows()):\n",
    "    if(df_country.loc[i,'countries']=='Iraq'): \n",
    "        Score_norm.append((df_country.loc[i][c].values/(Nb_ir_us[0])))\n",
    "    else:\n",
    "        Score_norm.append((df_country.loc[i][c].values/(Nb_ir_us[1])))\n",
    "        \n",
    "#for i, row in tqdm(df_country.iterrows()):\n",
    "df_country.loc[:,c]= Score_norm     "
   ]
  },
  {
   "cell_type": "markdown",
   "metadata": {},
   "source": [
    "### looking into distribution of certain topics for 2 countries over the years "
   ]
  },
  {
   "cell_type": "code",
   "execution_count": 214,
   "metadata": {},
   "outputs": [],
   "source": [
    "df_years = df_country.groupby(['countries','year']).sum()"
   ]
  },
  {
   "cell_type": "code",
   "execution_count": 215,
   "metadata": {},
   "outputs": [
    {
     "data": {
      "application/vnd.plotly.v1+json": {
       "config": {
        "plotlyServerURL": "https://plot.ly"
       },
       "data": [
        {
         "mode": "lines",
         "name": "Iraq,Government Theme",
         "type": "scatter",
         "x": [
          1997,
          1998,
          2000,
          2001,
          2002,
          2003,
          2004,
          2005,
          2006,
          2007,
          2008,
          2009,
          2011,
          2012,
          2013,
          2014,
          2015,
          2016,
          2017,
          2018
         ],
         "y": [
          0.00031914893617021275,
          0.0013682361415369632,
          0.0011609907120743034,
          0.0013557307704533284,
          0.0058117440073386355,
          0.0058810010333494155,
          0.0045394290032731354,
          0.002871257057022997,
          0.0019472892416022487,
          0.00039447731755424067,
          0.0013471440805810952,
          0,
          0.0008249667249246261,
          0.0005938852813852813,
          0.0033432197269663683,
          0.00034520850593758627,
          0.013237989021268645,
          0.256132084257537,
          0.18984374079618369,
          0.00031847133757961787
         ]
        },
        {
         "mode": "lines",
         "name": "Iraq,War Theme",
         "type": "scatter",
         "x": [
          1997,
          1998,
          2000,
          2001,
          2002,
          2003,
          2004,
          2005,
          2006,
          2007,
          2008,
          2009,
          2011,
          2012,
          2013,
          2014,
          2015,
          2016,
          2017,
          2018
         ],
         "y": [
          0.00031914893617021275,
          0.0025473886136604252,
          0.0009287925696594427,
          0.002693521058982533,
          0.009254209038408455,
          0.00792263752452451,
          0.010309736881846688,
          0.0024556121933961275,
          0.006259533205236242,
          0,
          0.0026947731110743413,
          0.0013032362959139363,
          0.0012118139202824598,
          0.0010852509198237953,
          0.004530591866178045,
          0,
          0.02082851031581686,
          0.3828220103628085,
          0.26099767828465703,
          0.0005307855626326964
         ]
        },
        {
         "mode": "lines",
         "name": "Iraq,Crime Theme",
         "type": "scatter",
         "x": [
          1997,
          1998,
          2000,
          2001,
          2002,
          2003,
          2004,
          2005,
          2006,
          2007,
          2008,
          2009,
          2011,
          2012,
          2013,
          2014,
          2015,
          2016,
          2017,
          2018
         ],
         "y": [
          0,
          0.0031099731604894215,
          0.000696594427244582,
          0.0010616123660086856,
          0.003133237679285559,
          0.00400631638352806,
          0.005693842286030272,
          0.0010528879413799431,
          0.0036674319152522035,
          0.00045248868778280545,
          0.003313018105006924,
          0.0017705260155401047,
          0.002880489213082091,
          0.001084873451833081,
          0.0019654574431579013,
          0,
          0.009717495684838168,
          0.18848047439194354,
          0.09501889231839256,
          0.0008492569002123143
         ]
        },
        {
         "mode": "lines",
         "name": "United States,Government Theme",
         "type": "scatter",
         "x": [
          1997,
          1998,
          2000,
          2001,
          2002,
          2003,
          2004,
          2005,
          2006,
          2007,
          2008,
          2009,
          2011,
          2012,
          2013,
          2014,
          2015,
          2016,
          2017,
          2018
         ],
         "y": [
          0,
          0.0003048780487804878,
          0.0004893964110929853,
          0.0028620884530498464,
          0.000641025641025641,
          0.003462672622874747,
          0.003984669300288679,
          0.002211881666066447,
          0.001459343317101612,
          0,
          0,
          0.0009302325581395348,
          0,
          0.00023674242424242425,
          0.004845133735728719,
          0.0004895643924420903,
          0.03003108028879347,
          0.8858205432697321,
          0.6880359918222905,
          0
         ]
        },
        {
         "mode": "lines",
         "name": "United States,War Theme",
         "type": "scatter",
         "x": [
          1997,
          1998,
          2000,
          2001,
          2002,
          2003,
          2004,
          2005,
          2006,
          2007,
          2008,
          2009,
          2011,
          2012,
          2013,
          2014,
          2015,
          2016,
          2017,
          2018
         ],
         "y": [
          0,
          0.0003048780487804878,
          0.001159332351887956,
          0.0012842241346917543,
          0.0010123127697385123,
          0.001323588431205581,
          0.001574030691165631,
          0.0025280293183358145,
          0.0003053435114503817,
          0,
          0.0003937007874015748,
          0.0004651162790697674,
          0,
          0.0009510180804325787,
          0.010097397470001854,
          0.0033464203936284507,
          0.038718894914639965,
          0.9276070049397604,
          0.7004955233370713,
          0
         ]
        },
        {
         "mode": "lines",
         "name": "United States,Crime Theme",
         "type": "scatter",
         "x": [
          1997,
          1998,
          2000,
          2001,
          2002,
          2003,
          2004,
          2005,
          2006,
          2007,
          2008,
          2009,
          2011,
          2012,
          2013,
          2014,
          2015,
          2016,
          2017,
          2018
         ],
         "y": [
          0,
          0.0006097560975609756,
          0.0016487287629809414,
          0.0015497108603554713,
          0.0016533384107641532,
          0.000265017667844523,
          0.0035146292837918217,
          0.002018459026808421,
          0.0006537755671995107,
          0,
          0.0003937007874015748,
          0.0004651162790697674,
          0,
          0.0009274488072657996,
          0.005169774816696209,
          0.0010938505350377367,
          0.016766818789944203,
          0.42223794257271263,
          0.2656001610089696,
          0
         ]
        }
       ],
       "layout": {
        "bargroupgap": 0.1,
        "height": 800,
        "template": {
         "data": {
          "bar": [
           {
            "error_x": {
             "color": "#2a3f5f"
            },
            "error_y": {
             "color": "#2a3f5f"
            },
            "marker": {
             "line": {
              "color": "#E5ECF6",
              "width": 0.5
             }
            },
            "type": "bar"
           }
          ],
          "barpolar": [
           {
            "marker": {
             "line": {
              "color": "#E5ECF6",
              "width": 0.5
             }
            },
            "type": "barpolar"
           }
          ],
          "carpet": [
           {
            "aaxis": {
             "endlinecolor": "#2a3f5f",
             "gridcolor": "white",
             "linecolor": "white",
             "minorgridcolor": "white",
             "startlinecolor": "#2a3f5f"
            },
            "baxis": {
             "endlinecolor": "#2a3f5f",
             "gridcolor": "white",
             "linecolor": "white",
             "minorgridcolor": "white",
             "startlinecolor": "#2a3f5f"
            },
            "type": "carpet"
           }
          ],
          "choropleth": [
           {
            "colorbar": {
             "outlinewidth": 0,
             "ticks": ""
            },
            "type": "choropleth"
           }
          ],
          "contour": [
           {
            "colorbar": {
             "outlinewidth": 0,
             "ticks": ""
            },
            "colorscale": [
             [
              0,
              "#0d0887"
             ],
             [
              0.1111111111111111,
              "#46039f"
             ],
             [
              0.2222222222222222,
              "#7201a8"
             ],
             [
              0.3333333333333333,
              "#9c179e"
             ],
             [
              0.4444444444444444,
              "#bd3786"
             ],
             [
              0.5555555555555556,
              "#d8576b"
             ],
             [
              0.6666666666666666,
              "#ed7953"
             ],
             [
              0.7777777777777778,
              "#fb9f3a"
             ],
             [
              0.8888888888888888,
              "#fdca26"
             ],
             [
              1,
              "#f0f921"
             ]
            ],
            "type": "contour"
           }
          ],
          "contourcarpet": [
           {
            "colorbar": {
             "outlinewidth": 0,
             "ticks": ""
            },
            "type": "contourcarpet"
           }
          ],
          "heatmap": [
           {
            "colorbar": {
             "outlinewidth": 0,
             "ticks": ""
            },
            "colorscale": [
             [
              0,
              "#0d0887"
             ],
             [
              0.1111111111111111,
              "#46039f"
             ],
             [
              0.2222222222222222,
              "#7201a8"
             ],
             [
              0.3333333333333333,
              "#9c179e"
             ],
             [
              0.4444444444444444,
              "#bd3786"
             ],
             [
              0.5555555555555556,
              "#d8576b"
             ],
             [
              0.6666666666666666,
              "#ed7953"
             ],
             [
              0.7777777777777778,
              "#fb9f3a"
             ],
             [
              0.8888888888888888,
              "#fdca26"
             ],
             [
              1,
              "#f0f921"
             ]
            ],
            "type": "heatmap"
           }
          ],
          "heatmapgl": [
           {
            "colorbar": {
             "outlinewidth": 0,
             "ticks": ""
            },
            "colorscale": [
             [
              0,
              "#0d0887"
             ],
             [
              0.1111111111111111,
              "#46039f"
             ],
             [
              0.2222222222222222,
              "#7201a8"
             ],
             [
              0.3333333333333333,
              "#9c179e"
             ],
             [
              0.4444444444444444,
              "#bd3786"
             ],
             [
              0.5555555555555556,
              "#d8576b"
             ],
             [
              0.6666666666666666,
              "#ed7953"
             ],
             [
              0.7777777777777778,
              "#fb9f3a"
             ],
             [
              0.8888888888888888,
              "#fdca26"
             ],
             [
              1,
              "#f0f921"
             ]
            ],
            "type": "heatmapgl"
           }
          ],
          "histogram": [
           {
            "marker": {
             "colorbar": {
              "outlinewidth": 0,
              "ticks": ""
             }
            },
            "type": "histogram"
           }
          ],
          "histogram2d": [
           {
            "colorbar": {
             "outlinewidth": 0,
             "ticks": ""
            },
            "colorscale": [
             [
              0,
              "#0d0887"
             ],
             [
              0.1111111111111111,
              "#46039f"
             ],
             [
              0.2222222222222222,
              "#7201a8"
             ],
             [
              0.3333333333333333,
              "#9c179e"
             ],
             [
              0.4444444444444444,
              "#bd3786"
             ],
             [
              0.5555555555555556,
              "#d8576b"
             ],
             [
              0.6666666666666666,
              "#ed7953"
             ],
             [
              0.7777777777777778,
              "#fb9f3a"
             ],
             [
              0.8888888888888888,
              "#fdca26"
             ],
             [
              1,
              "#f0f921"
             ]
            ],
            "type": "histogram2d"
           }
          ],
          "histogram2dcontour": [
           {
            "colorbar": {
             "outlinewidth": 0,
             "ticks": ""
            },
            "colorscale": [
             [
              0,
              "#0d0887"
             ],
             [
              0.1111111111111111,
              "#46039f"
             ],
             [
              0.2222222222222222,
              "#7201a8"
             ],
             [
              0.3333333333333333,
              "#9c179e"
             ],
             [
              0.4444444444444444,
              "#bd3786"
             ],
             [
              0.5555555555555556,
              "#d8576b"
             ],
             [
              0.6666666666666666,
              "#ed7953"
             ],
             [
              0.7777777777777778,
              "#fb9f3a"
             ],
             [
              0.8888888888888888,
              "#fdca26"
             ],
             [
              1,
              "#f0f921"
             ]
            ],
            "type": "histogram2dcontour"
           }
          ],
          "mesh3d": [
           {
            "colorbar": {
             "outlinewidth": 0,
             "ticks": ""
            },
            "type": "mesh3d"
           }
          ],
          "parcoords": [
           {
            "line": {
             "colorbar": {
              "outlinewidth": 0,
              "ticks": ""
             }
            },
            "type": "parcoords"
           }
          ],
          "pie": [
           {
            "automargin": true,
            "type": "pie"
           }
          ],
          "scatter": [
           {
            "marker": {
             "colorbar": {
              "outlinewidth": 0,
              "ticks": ""
             }
            },
            "type": "scatter"
           }
          ],
          "scatter3d": [
           {
            "line": {
             "colorbar": {
              "outlinewidth": 0,
              "ticks": ""
             }
            },
            "marker": {
             "colorbar": {
              "outlinewidth": 0,
              "ticks": ""
             }
            },
            "type": "scatter3d"
           }
          ],
          "scattercarpet": [
           {
            "marker": {
             "colorbar": {
              "outlinewidth": 0,
              "ticks": ""
             }
            },
            "type": "scattercarpet"
           }
          ],
          "scattergeo": [
           {
            "marker": {
             "colorbar": {
              "outlinewidth": 0,
              "ticks": ""
             }
            },
            "type": "scattergeo"
           }
          ],
          "scattergl": [
           {
            "marker": {
             "colorbar": {
              "outlinewidth": 0,
              "ticks": ""
             }
            },
            "type": "scattergl"
           }
          ],
          "scattermapbox": [
           {
            "marker": {
             "colorbar": {
              "outlinewidth": 0,
              "ticks": ""
             }
            },
            "type": "scattermapbox"
           }
          ],
          "scatterpolar": [
           {
            "marker": {
             "colorbar": {
              "outlinewidth": 0,
              "ticks": ""
             }
            },
            "type": "scatterpolar"
           }
          ],
          "scatterpolargl": [
           {
            "marker": {
             "colorbar": {
              "outlinewidth": 0,
              "ticks": ""
             }
            },
            "type": "scatterpolargl"
           }
          ],
          "scatterternary": [
           {
            "marker": {
             "colorbar": {
              "outlinewidth": 0,
              "ticks": ""
             }
            },
            "type": "scatterternary"
           }
          ],
          "surface": [
           {
            "colorbar": {
             "outlinewidth": 0,
             "ticks": ""
            },
            "colorscale": [
             [
              0,
              "#0d0887"
             ],
             [
              0.1111111111111111,
              "#46039f"
             ],
             [
              0.2222222222222222,
              "#7201a8"
             ],
             [
              0.3333333333333333,
              "#9c179e"
             ],
             [
              0.4444444444444444,
              "#bd3786"
             ],
             [
              0.5555555555555556,
              "#d8576b"
             ],
             [
              0.6666666666666666,
              "#ed7953"
             ],
             [
              0.7777777777777778,
              "#fb9f3a"
             ],
             [
              0.8888888888888888,
              "#fdca26"
             ],
             [
              1,
              "#f0f921"
             ]
            ],
            "type": "surface"
           }
          ],
          "table": [
           {
            "cells": {
             "fill": {
              "color": "#EBF0F8"
             },
             "line": {
              "color": "white"
             }
            },
            "header": {
             "fill": {
              "color": "#C8D4E3"
             },
             "line": {
              "color": "white"
             }
            },
            "type": "table"
           }
          ]
         },
         "layout": {
          "annotationdefaults": {
           "arrowcolor": "#2a3f5f",
           "arrowhead": 0,
           "arrowwidth": 1
          },
          "coloraxis": {
           "colorbar": {
            "outlinewidth": 0,
            "ticks": ""
           }
          },
          "colorscale": {
           "diverging": [
            [
             0,
             "#8e0152"
            ],
            [
             0.1,
             "#c51b7d"
            ],
            [
             0.2,
             "#de77ae"
            ],
            [
             0.3,
             "#f1b6da"
            ],
            [
             0.4,
             "#fde0ef"
            ],
            [
             0.5,
             "#f7f7f7"
            ],
            [
             0.6,
             "#e6f5d0"
            ],
            [
             0.7,
             "#b8e186"
            ],
            [
             0.8,
             "#7fbc41"
            ],
            [
             0.9,
             "#4d9221"
            ],
            [
             1,
             "#276419"
            ]
           ],
           "sequential": [
            [
             0,
             "#0d0887"
            ],
            [
             0.1111111111111111,
             "#46039f"
            ],
            [
             0.2222222222222222,
             "#7201a8"
            ],
            [
             0.3333333333333333,
             "#9c179e"
            ],
            [
             0.4444444444444444,
             "#bd3786"
            ],
            [
             0.5555555555555556,
             "#d8576b"
            ],
            [
             0.6666666666666666,
             "#ed7953"
            ],
            [
             0.7777777777777778,
             "#fb9f3a"
            ],
            [
             0.8888888888888888,
             "#fdca26"
            ],
            [
             1,
             "#f0f921"
            ]
           ],
           "sequentialminus": [
            [
             0,
             "#0d0887"
            ],
            [
             0.1111111111111111,
             "#46039f"
            ],
            [
             0.2222222222222222,
             "#7201a8"
            ],
            [
             0.3333333333333333,
             "#9c179e"
            ],
            [
             0.4444444444444444,
             "#bd3786"
            ],
            [
             0.5555555555555556,
             "#d8576b"
            ],
            [
             0.6666666666666666,
             "#ed7953"
            ],
            [
             0.7777777777777778,
             "#fb9f3a"
            ],
            [
             0.8888888888888888,
             "#fdca26"
            ],
            [
             1,
             "#f0f921"
            ]
           ]
          },
          "colorway": [
           "#636efa",
           "#EF553B",
           "#00cc96",
           "#ab63fa",
           "#FFA15A",
           "#19d3f3",
           "#FF6692",
           "#B6E880",
           "#FF97FF",
           "#FECB52"
          ],
          "font": {
           "color": "#2a3f5f"
          },
          "geo": {
           "bgcolor": "white",
           "lakecolor": "white",
           "landcolor": "#E5ECF6",
           "showlakes": true,
           "showland": true,
           "subunitcolor": "white"
          },
          "hoverlabel": {
           "align": "left"
          },
          "hovermode": "closest",
          "mapbox": {
           "style": "light"
          },
          "paper_bgcolor": "white",
          "plot_bgcolor": "#E5ECF6",
          "polar": {
           "angularaxis": {
            "gridcolor": "white",
            "linecolor": "white",
            "ticks": ""
           },
           "bgcolor": "#E5ECF6",
           "radialaxis": {
            "gridcolor": "white",
            "linecolor": "white",
            "ticks": ""
           }
          },
          "scene": {
           "xaxis": {
            "backgroundcolor": "#E5ECF6",
            "gridcolor": "white",
            "gridwidth": 2,
            "linecolor": "white",
            "showbackground": true,
            "ticks": "",
            "zerolinecolor": "white"
           },
           "yaxis": {
            "backgroundcolor": "#E5ECF6",
            "gridcolor": "white",
            "gridwidth": 2,
            "linecolor": "white",
            "showbackground": true,
            "ticks": "",
            "zerolinecolor": "white"
           },
           "zaxis": {
            "backgroundcolor": "#E5ECF6",
            "gridcolor": "white",
            "gridwidth": 2,
            "linecolor": "white",
            "showbackground": true,
            "ticks": "",
            "zerolinecolor": "white"
           }
          },
          "shapedefaults": {
           "line": {
            "color": "#2a3f5f"
           }
          },
          "ternary": {
           "aaxis": {
            "gridcolor": "white",
            "linecolor": "white",
            "ticks": ""
           },
           "baxis": {
            "gridcolor": "white",
            "linecolor": "white",
            "ticks": ""
           },
           "bgcolor": "#E5ECF6",
           "caxis": {
            "gridcolor": "white",
            "linecolor": "white",
            "ticks": ""
           }
          },
          "title": {
           "x": 0.05
          },
          "xaxis": {
           "automargin": true,
           "gridcolor": "white",
           "linecolor": "white",
           "ticks": "",
           "title": {
            "standoff": 15
           },
           "zerolinecolor": "white",
           "zerolinewidth": 2
          },
          "yaxis": {
           "automargin": true,
           "gridcolor": "white",
           "linecolor": "white",
           "ticks": "",
           "title": {
            "standoff": 15
           },
           "zerolinecolor": "white",
           "zerolinewidth": 2
          }
         }
        },
        "title": {
         "text": "Distribution of government, war and crime themes score for Iraq and United States"
        },
        "xaxis": {
         "title": {
          "text": "Years"
         },
         "type": "log"
        },
        "yaxis": {
         "title": {
          "text": "Score"
         }
        }
       }
      },
      "text/html": [
       "<div>\n",
       "        \n",
       "        \n",
       "            <div id=\"db39184f-c7c5-42ff-92d2-7f4b2066528e\" class=\"plotly-graph-div\" style=\"height:800px; width:100%;\"></div>\n",
       "            <script type=\"text/javascript\">\n",
       "                require([\"plotly\"], function(Plotly) {\n",
       "                    window.PLOTLYENV=window.PLOTLYENV || {};\n",
       "                    \n",
       "                if (document.getElementById(\"db39184f-c7c5-42ff-92d2-7f4b2066528e\")) {\n",
       "                    Plotly.newPlot(\n",
       "                        'db39184f-c7c5-42ff-92d2-7f4b2066528e',\n",
       "                        [{\"mode\": \"lines\", \"name\": \"Iraq,Government Theme\", \"type\": \"scatter\", \"x\": [1997, 1998, 2000, 2001, 2002, 2003, 2004, 2005, 2006, 2007, 2008, 2009, 2011, 2012, 2013, 2014, 2015, 2016, 2017, 2018], \"y\": [0.00031914893617021275, 0.0013682361415369632, 0.0011609907120743034, 0.0013557307704533284, 0.0058117440073386355, 0.0058810010333494155, 0.0045394290032731354, 0.002871257057022997, 0.0019472892416022487, 0.00039447731755424067, 0.0013471440805810952, 0.0, 0.0008249667249246261, 0.0005938852813852813, 0.0033432197269663683, 0.00034520850593758627, 0.013237989021268645, 0.256132084257537, 0.18984374079618369, 0.00031847133757961787]}, {\"mode\": \"lines\", \"name\": \"Iraq,War Theme\", \"type\": \"scatter\", \"x\": [1997, 1998, 2000, 2001, 2002, 2003, 2004, 2005, 2006, 2007, 2008, 2009, 2011, 2012, 2013, 2014, 2015, 2016, 2017, 2018], \"y\": [0.00031914893617021275, 0.0025473886136604252, 0.0009287925696594427, 0.002693521058982533, 0.009254209038408455, 0.00792263752452451, 0.010309736881846688, 0.0024556121933961275, 0.006259533205236242, 0.0, 0.0026947731110743413, 0.0013032362959139363, 0.0012118139202824598, 0.0010852509198237953, 0.004530591866178045, 0.0, 0.02082851031581686, 0.3828220103628085, 0.26099767828465703, 0.0005307855626326964]}, {\"mode\": \"lines\", \"name\": \"Iraq,Crime Theme\", \"type\": \"scatter\", \"x\": [1997, 1998, 2000, 2001, 2002, 2003, 2004, 2005, 2006, 2007, 2008, 2009, 2011, 2012, 2013, 2014, 2015, 2016, 2017, 2018], \"y\": [0.0, 0.0031099731604894215, 0.000696594427244582, 0.0010616123660086856, 0.003133237679285559, 0.00400631638352806, 0.005693842286030272, 0.0010528879413799431, 0.0036674319152522035, 0.00045248868778280545, 0.003313018105006924, 0.0017705260155401047, 0.002880489213082091, 0.001084873451833081, 0.0019654574431579013, 0.0, 0.009717495684838168, 0.18848047439194354, 0.09501889231839256, 0.0008492569002123143]}, {\"mode\": \"lines\", \"name\": \"United States,Government Theme\", \"type\": \"scatter\", \"x\": [1997, 1998, 2000, 2001, 2002, 2003, 2004, 2005, 2006, 2007, 2008, 2009, 2011, 2012, 2013, 2014, 2015, 2016, 2017, 2018], \"y\": [0.0, 0.0003048780487804878, 0.0004893964110929853, 0.0028620884530498464, 0.000641025641025641, 0.003462672622874747, 0.003984669300288679, 0.002211881666066447, 0.001459343317101612, 0.0, 0.0, 0.0009302325581395348, 0.0, 0.00023674242424242425, 0.004845133735728719, 0.0004895643924420903, 0.03003108028879347, 0.8858205432697321, 0.6880359918222905, 0.0]}, {\"mode\": \"lines\", \"name\": \"United States,War Theme\", \"type\": \"scatter\", \"x\": [1997, 1998, 2000, 2001, 2002, 2003, 2004, 2005, 2006, 2007, 2008, 2009, 2011, 2012, 2013, 2014, 2015, 2016, 2017, 2018], \"y\": [0.0, 0.0003048780487804878, 0.001159332351887956, 0.0012842241346917543, 0.0010123127697385123, 0.001323588431205581, 0.001574030691165631, 0.0025280293183358145, 0.0003053435114503817, 0.0, 0.0003937007874015748, 0.0004651162790697674, 0.0, 0.0009510180804325787, 0.010097397470001854, 0.0033464203936284507, 0.038718894914639965, 0.9276070049397604, 0.7004955233370713, 0.0]}, {\"mode\": \"lines\", \"name\": \"United States,Crime Theme\", \"type\": \"scatter\", \"x\": [1997, 1998, 2000, 2001, 2002, 2003, 2004, 2005, 2006, 2007, 2008, 2009, 2011, 2012, 2013, 2014, 2015, 2016, 2017, 2018], \"y\": [0.0, 0.0006097560975609756, 0.0016487287629809414, 0.0015497108603554713, 0.0016533384107641532, 0.000265017667844523, 0.0035146292837918217, 0.002018459026808421, 0.0006537755671995107, 0.0, 0.0003937007874015748, 0.0004651162790697674, 0.0, 0.0009274488072657996, 0.005169774816696209, 0.0010938505350377367, 0.016766818789944203, 0.42223794257271263, 0.2656001610089696, 0.0]}],\n",
       "                        {\"bargroupgap\": 0.1, \"height\": 800, \"template\": {\"data\": {\"bar\": [{\"error_x\": {\"color\": \"#2a3f5f\"}, \"error_y\": {\"color\": \"#2a3f5f\"}, \"marker\": {\"line\": {\"color\": \"#E5ECF6\", \"width\": 0.5}}, \"type\": \"bar\"}], \"barpolar\": [{\"marker\": {\"line\": {\"color\": \"#E5ECF6\", \"width\": 0.5}}, \"type\": \"barpolar\"}], \"carpet\": [{\"aaxis\": {\"endlinecolor\": \"#2a3f5f\", \"gridcolor\": \"white\", \"linecolor\": \"white\", \"minorgridcolor\": \"white\", \"startlinecolor\": \"#2a3f5f\"}, \"baxis\": {\"endlinecolor\": \"#2a3f5f\", \"gridcolor\": \"white\", \"linecolor\": \"white\", \"minorgridcolor\": \"white\", \"startlinecolor\": \"#2a3f5f\"}, \"type\": \"carpet\"}], \"choropleth\": [{\"colorbar\": {\"outlinewidth\": 0, \"ticks\": \"\"}, \"type\": \"choropleth\"}], \"contour\": [{\"colorbar\": {\"outlinewidth\": 0, \"ticks\": \"\"}, \"colorscale\": [[0.0, \"#0d0887\"], [0.1111111111111111, \"#46039f\"], [0.2222222222222222, \"#7201a8\"], [0.3333333333333333, \"#9c179e\"], [0.4444444444444444, \"#bd3786\"], [0.5555555555555556, \"#d8576b\"], [0.6666666666666666, \"#ed7953\"], [0.7777777777777778, \"#fb9f3a\"], [0.8888888888888888, \"#fdca26\"], [1.0, \"#f0f921\"]], \"type\": \"contour\"}], \"contourcarpet\": [{\"colorbar\": {\"outlinewidth\": 0, \"ticks\": \"\"}, \"type\": \"contourcarpet\"}], \"heatmap\": [{\"colorbar\": {\"outlinewidth\": 0, \"ticks\": \"\"}, \"colorscale\": [[0.0, \"#0d0887\"], [0.1111111111111111, \"#46039f\"], [0.2222222222222222, \"#7201a8\"], [0.3333333333333333, \"#9c179e\"], [0.4444444444444444, \"#bd3786\"], [0.5555555555555556, \"#d8576b\"], [0.6666666666666666, \"#ed7953\"], [0.7777777777777778, \"#fb9f3a\"], [0.8888888888888888, \"#fdca26\"], [1.0, \"#f0f921\"]], \"type\": \"heatmap\"}], \"heatmapgl\": [{\"colorbar\": {\"outlinewidth\": 0, \"ticks\": \"\"}, \"colorscale\": [[0.0, \"#0d0887\"], [0.1111111111111111, \"#46039f\"], [0.2222222222222222, \"#7201a8\"], [0.3333333333333333, \"#9c179e\"], [0.4444444444444444, \"#bd3786\"], [0.5555555555555556, \"#d8576b\"], [0.6666666666666666, \"#ed7953\"], [0.7777777777777778, \"#fb9f3a\"], [0.8888888888888888, \"#fdca26\"], [1.0, \"#f0f921\"]], \"type\": \"heatmapgl\"}], \"histogram\": [{\"marker\": {\"colorbar\": {\"outlinewidth\": 0, \"ticks\": \"\"}}, \"type\": \"histogram\"}], \"histogram2d\": [{\"colorbar\": {\"outlinewidth\": 0, \"ticks\": \"\"}, \"colorscale\": [[0.0, \"#0d0887\"], [0.1111111111111111, \"#46039f\"], [0.2222222222222222, \"#7201a8\"], [0.3333333333333333, \"#9c179e\"], [0.4444444444444444, \"#bd3786\"], [0.5555555555555556, \"#d8576b\"], [0.6666666666666666, \"#ed7953\"], [0.7777777777777778, \"#fb9f3a\"], [0.8888888888888888, \"#fdca26\"], [1.0, \"#f0f921\"]], \"type\": \"histogram2d\"}], \"histogram2dcontour\": [{\"colorbar\": {\"outlinewidth\": 0, \"ticks\": \"\"}, \"colorscale\": [[0.0, \"#0d0887\"], [0.1111111111111111, \"#46039f\"], [0.2222222222222222, \"#7201a8\"], [0.3333333333333333, \"#9c179e\"], [0.4444444444444444, \"#bd3786\"], [0.5555555555555556, \"#d8576b\"], [0.6666666666666666, \"#ed7953\"], [0.7777777777777778, \"#fb9f3a\"], [0.8888888888888888, \"#fdca26\"], [1.0, \"#f0f921\"]], \"type\": \"histogram2dcontour\"}], \"mesh3d\": [{\"colorbar\": {\"outlinewidth\": 0, \"ticks\": \"\"}, \"type\": \"mesh3d\"}], \"parcoords\": [{\"line\": {\"colorbar\": {\"outlinewidth\": 0, \"ticks\": \"\"}}, \"type\": \"parcoords\"}], \"pie\": [{\"automargin\": true, \"type\": \"pie\"}], \"scatter\": [{\"marker\": {\"colorbar\": {\"outlinewidth\": 0, \"ticks\": \"\"}}, \"type\": \"scatter\"}], \"scatter3d\": [{\"line\": {\"colorbar\": {\"outlinewidth\": 0, \"ticks\": \"\"}}, \"marker\": {\"colorbar\": {\"outlinewidth\": 0, \"ticks\": \"\"}}, \"type\": \"scatter3d\"}], \"scattercarpet\": [{\"marker\": {\"colorbar\": {\"outlinewidth\": 0, \"ticks\": \"\"}}, \"type\": \"scattercarpet\"}], \"scattergeo\": [{\"marker\": {\"colorbar\": {\"outlinewidth\": 0, \"ticks\": \"\"}}, \"type\": \"scattergeo\"}], \"scattergl\": [{\"marker\": {\"colorbar\": {\"outlinewidth\": 0, \"ticks\": \"\"}}, \"type\": \"scattergl\"}], \"scattermapbox\": [{\"marker\": {\"colorbar\": {\"outlinewidth\": 0, \"ticks\": \"\"}}, \"type\": \"scattermapbox\"}], \"scatterpolar\": [{\"marker\": {\"colorbar\": {\"outlinewidth\": 0, \"ticks\": \"\"}}, \"type\": \"scatterpolar\"}], \"scatterpolargl\": [{\"marker\": {\"colorbar\": {\"outlinewidth\": 0, \"ticks\": \"\"}}, \"type\": \"scatterpolargl\"}], \"scatterternary\": [{\"marker\": {\"colorbar\": {\"outlinewidth\": 0, \"ticks\": \"\"}}, \"type\": \"scatterternary\"}], \"surface\": [{\"colorbar\": {\"outlinewidth\": 0, \"ticks\": \"\"}, \"colorscale\": [[0.0, \"#0d0887\"], [0.1111111111111111, \"#46039f\"], [0.2222222222222222, \"#7201a8\"], [0.3333333333333333, \"#9c179e\"], [0.4444444444444444, \"#bd3786\"], [0.5555555555555556, \"#d8576b\"], [0.6666666666666666, \"#ed7953\"], [0.7777777777777778, \"#fb9f3a\"], [0.8888888888888888, \"#fdca26\"], [1.0, \"#f0f921\"]], \"type\": \"surface\"}], \"table\": [{\"cells\": {\"fill\": {\"color\": \"#EBF0F8\"}, \"line\": {\"color\": \"white\"}}, \"header\": {\"fill\": {\"color\": \"#C8D4E3\"}, \"line\": {\"color\": \"white\"}}, \"type\": \"table\"}]}, \"layout\": {\"annotationdefaults\": {\"arrowcolor\": \"#2a3f5f\", \"arrowhead\": 0, \"arrowwidth\": 1}, \"coloraxis\": {\"colorbar\": {\"outlinewidth\": 0, \"ticks\": \"\"}}, \"colorscale\": {\"diverging\": [[0, \"#8e0152\"], [0.1, \"#c51b7d\"], [0.2, \"#de77ae\"], [0.3, \"#f1b6da\"], [0.4, \"#fde0ef\"], [0.5, \"#f7f7f7\"], [0.6, \"#e6f5d0\"], [0.7, \"#b8e186\"], [0.8, \"#7fbc41\"], [0.9, \"#4d9221\"], [1, \"#276419\"]], \"sequential\": [[0.0, \"#0d0887\"], [0.1111111111111111, \"#46039f\"], [0.2222222222222222, \"#7201a8\"], [0.3333333333333333, \"#9c179e\"], [0.4444444444444444, \"#bd3786\"], [0.5555555555555556, \"#d8576b\"], [0.6666666666666666, \"#ed7953\"], [0.7777777777777778, \"#fb9f3a\"], [0.8888888888888888, \"#fdca26\"], [1.0, \"#f0f921\"]], \"sequentialminus\": [[0.0, \"#0d0887\"], [0.1111111111111111, \"#46039f\"], [0.2222222222222222, \"#7201a8\"], [0.3333333333333333, \"#9c179e\"], [0.4444444444444444, \"#bd3786\"], [0.5555555555555556, \"#d8576b\"], [0.6666666666666666, \"#ed7953\"], [0.7777777777777778, \"#fb9f3a\"], [0.8888888888888888, \"#fdca26\"], [1.0, \"#f0f921\"]]}, \"colorway\": [\"#636efa\", \"#EF553B\", \"#00cc96\", \"#ab63fa\", \"#FFA15A\", \"#19d3f3\", \"#FF6692\", \"#B6E880\", \"#FF97FF\", \"#FECB52\"], \"font\": {\"color\": \"#2a3f5f\"}, \"geo\": {\"bgcolor\": \"white\", \"lakecolor\": \"white\", \"landcolor\": \"#E5ECF6\", \"showlakes\": true, \"showland\": true, \"subunitcolor\": \"white\"}, \"hoverlabel\": {\"align\": \"left\"}, \"hovermode\": \"closest\", \"mapbox\": {\"style\": \"light\"}, \"paper_bgcolor\": \"white\", \"plot_bgcolor\": \"#E5ECF6\", \"polar\": {\"angularaxis\": {\"gridcolor\": \"white\", \"linecolor\": \"white\", \"ticks\": \"\"}, \"bgcolor\": \"#E5ECF6\", \"radialaxis\": {\"gridcolor\": \"white\", \"linecolor\": \"white\", \"ticks\": \"\"}}, \"scene\": {\"xaxis\": {\"backgroundcolor\": \"#E5ECF6\", \"gridcolor\": \"white\", \"gridwidth\": 2, \"linecolor\": \"white\", \"showbackground\": true, \"ticks\": \"\", \"zerolinecolor\": \"white\"}, \"yaxis\": {\"backgroundcolor\": \"#E5ECF6\", \"gridcolor\": \"white\", \"gridwidth\": 2, \"linecolor\": \"white\", \"showbackground\": true, \"ticks\": \"\", \"zerolinecolor\": \"white\"}, \"zaxis\": {\"backgroundcolor\": \"#E5ECF6\", \"gridcolor\": \"white\", \"gridwidth\": 2, \"linecolor\": \"white\", \"showbackground\": true, \"ticks\": \"\", \"zerolinecolor\": \"white\"}}, \"shapedefaults\": {\"line\": {\"color\": \"#2a3f5f\"}}, \"ternary\": {\"aaxis\": {\"gridcolor\": \"white\", \"linecolor\": \"white\", \"ticks\": \"\"}, \"baxis\": {\"gridcolor\": \"white\", \"linecolor\": \"white\", \"ticks\": \"\"}, \"bgcolor\": \"#E5ECF6\", \"caxis\": {\"gridcolor\": \"white\", \"linecolor\": \"white\", \"ticks\": \"\"}}, \"title\": {\"x\": 0.05}, \"xaxis\": {\"automargin\": true, \"gridcolor\": \"white\", \"linecolor\": \"white\", \"ticks\": \"\", \"title\": {\"standoff\": 15}, \"zerolinecolor\": \"white\", \"zerolinewidth\": 2}, \"yaxis\": {\"automargin\": true, \"gridcolor\": \"white\", \"linecolor\": \"white\", \"ticks\": \"\", \"title\": {\"standoff\": 15}, \"zerolinecolor\": \"white\", \"zerolinewidth\": 2}}}, \"title\": {\"text\": \"Distribution of government, war and crime themes score for Iraq and United States\"}, \"xaxis\": {\"title\": {\"text\": \"Years\"}, \"type\": \"log\"}, \"yaxis\": {\"title\": {\"text\": \"Score\"}}},\n",
       "                        {\"responsive\": true}\n",
       "                    ).then(function(){\n",
       "                            \n",
       "var gd = document.getElementById('db39184f-c7c5-42ff-92d2-7f4b2066528e');\n",
       "var x = new MutationObserver(function (mutations, observer) {{\n",
       "        var display = window.getComputedStyle(gd).display;\n",
       "        if (!display || display === 'none') {{\n",
       "            console.log([gd, 'removed!']);\n",
       "            Plotly.purge(gd);\n",
       "            observer.disconnect();\n",
       "        }}\n",
       "}});\n",
       "\n",
       "// Listen for the removal of the full notebook cells\n",
       "var notebookContainer = gd.closest('#notebook-container');\n",
       "if (notebookContainer) {{\n",
       "    x.observe(notebookContainer, {childList: true});\n",
       "}}\n",
       "\n",
       "// Listen for the clearing of the current output cell\n",
       "var outputEl = gd.closest('.output');\n",
       "if (outputEl) {{\n",
       "    x.observe(outputEl, {childList: true});\n",
       "}}\n",
       "\n",
       "                        })\n",
       "                };\n",
       "                });\n",
       "            </script>\n",
       "        </div>"
      ]
     },
     "metadata": {},
     "output_type": "display_data"
    },
    {
     "data": {
      "text/plain": [
       "'../plots/ALL_score_IR_US.html'"
      ]
     },
     "execution_count": 215,
     "metadata": {},
     "output_type": "execute_result"
    }
   ],
   "source": [
    "#plot for US and Iraq for government\n",
    "\n",
    "fig1 = go.Figure()\n",
    "\n",
    "for country, data in df_years.groupby(level=('countries')):\n",
    "    fig1.add_trace(go.Scatter(x=data.index.get_level_values(1).unique(), y=data.government,\n",
    "                        mode='lines',\n",
    "                        name='{0},{1}'.format(country,'Government Theme')))\n",
    "\n",
    "    fig1.add_trace(go.Scatter(x=data.index.get_level_values(1).unique(), y=data.war,\n",
    "                        mode='lines',\n",
    "                        name='{0},{1}'.format(country, 'War Theme')))\n",
    "\n",
    "    fig1.add_trace(go.Scatter(x=data.index.get_level_values(1).unique(), y=data.crime,\n",
    "                        mode='lines',\n",
    "                        name='{0},{1}'.format(country, 'Crime Theme')))    \n",
    "    \n",
    "fig1.update_layout( height =800,\n",
    "    xaxis_type=\"log\",\n",
    "    title_text='Distribution of government, war and crime themes score for Iraq and United States',\n",
    "    xaxis_title_text='Years', \n",
    "    yaxis_title_text='Score', \n",
    "    bargroupgap=0.1\n",
    ")\n",
    "fig1.show() \n",
    "plotly.offline.plot(fig1, filename = '../plots/ALL_score_IR_US.html', auto_open=False)"
   ]
  },
  {
   "cell_type": "code",
   "execution_count": null,
   "metadata": {},
   "outputs": [],
   "source": []
  }
 ],
 "metadata": {
  "kernelspec": {
   "display_name": "Python 3",
   "language": "python",
   "name": "python3"
  },
  "language_info": {
   "codemirror_mode": {
    "name": "ipython",
    "version": 3
   },
   "file_extension": ".py",
   "mimetype": "text/x-python",
   "name": "python",
   "nbconvert_exporter": "python",
   "pygments_lexer": "ipython3",
   "version": "3.8.1"
  }
 },
 "nbformat": 4,
 "nbformat_minor": 4
}
